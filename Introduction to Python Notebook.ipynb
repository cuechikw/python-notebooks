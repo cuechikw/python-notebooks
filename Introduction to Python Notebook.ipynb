{
 "cells": [
  {
   "cell_type": "code",
   "execution_count": 52,
   "metadata": {},
   "outputs": [],
   "source": [
    "import math"
   ]
  },
  {
   "cell_type": "code",
   "execution_count": 53,
   "metadata": {},
   "outputs": [
    {
     "data": {
      "text/plain": [
       "5.0"
      ]
     },
     "execution_count": 53,
     "metadata": {},
     "output_type": "execute_result"
    }
   ],
   "source": [
    "math.sqrt(25)"
   ]
  },
  {
   "cell_type": "code",
   "execution_count": 54,
   "metadata": {},
   "outputs": [
    {
     "data": {
      "text/plain": [
       "3.141592653589793"
      ]
     },
     "execution_count": 54,
     "metadata": {},
     "output_type": "execute_result"
    }
   ],
   "source": [
    "math.pi"
   ]
  },
  {
   "cell_type": "code",
   "execution_count": 55,
   "metadata": {},
   "outputs": [],
   "source": [
    "import math as mt"
   ]
  },
  {
   "cell_type": "code",
   "execution_count": 56,
   "metadata": {},
   "outputs": [
    {
     "data": {
      "text/plain": [
       "5.0"
      ]
     },
     "execution_count": 56,
     "metadata": {},
     "output_type": "execute_result"
    }
   ],
   "source": [
    "mt.sqrt(25)"
   ]
  },
  {
   "cell_type": "code",
   "execution_count": 61,
   "metadata": {},
   "outputs": [],
   "source": [
    "from numpy import random"
   ]
  },
  {
   "cell_type": "code",
   "execution_count": 62,
   "metadata": {},
   "outputs": [],
   "source": [
    "import numpy as np"
   ]
  },
  {
   "cell_type": "code",
   "execution_count": 63,
   "metadata": {},
   "outputs": [],
   "source": [
    "# uniform random numbers in [0,1]\n",
    "dataOne = random.rand(5,5)"
   ]
  },
  {
   "cell_type": "code",
   "execution_count": 64,
   "metadata": {},
   "outputs": [
    {
     "data": {
      "text/plain": [
       "0.48542176625117983"
      ]
     },
     "execution_count": 64,
     "metadata": {},
     "output_type": "execute_result"
    }
   ],
   "source": [
    "np.mean(dataOne)"
   ]
  },
  {
   "cell_type": "code",
   "execution_count": 65,
   "metadata": {},
   "outputs": [
    {
     "name": "stdout",
     "output_type": "stream",
     "text": [
      "I Love data Science\n"
     ]
    }
   ],
   "source": [
    "print('I Love data Science')"
   ]
  },
  {
   "cell_type": "code",
   "execution_count": 66,
   "metadata": {},
   "outputs": [],
   "source": [
    "variableName = 25"
   ]
  },
  {
   "cell_type": "code",
   "execution_count": 67,
   "metadata": {},
   "outputs": [],
   "source": [
    "variableName1 = 'I Love data Science'"
   ]
  },
  {
   "cell_type": "code",
   "execution_count": 68,
   "metadata": {},
   "outputs": [
    {
     "name": "stdout",
     "output_type": "stream",
     "text": [
      "I Love data Science\n"
     ]
    }
   ],
   "source": [
    "print(variableName1)"
   ]
  },
  {
   "cell_type": "code",
   "execution_count": 69,
   "metadata": {},
   "outputs": [
    {
     "data": {
      "text/plain": [
       "int"
      ]
     },
     "execution_count": 69,
     "metadata": {},
     "output_type": "execute_result"
    }
   ],
   "source": [
    "type(variableName)"
   ]
  },
  {
   "cell_type": "code",
   "execution_count": 70,
   "metadata": {},
   "outputs": [],
   "source": [
    "variableName = 25.0"
   ]
  },
  {
   "cell_type": "code",
   "execution_count": 71,
   "metadata": {},
   "outputs": [
    {
     "data": {
      "text/plain": [
       "float"
      ]
     },
     "execution_count": 71,
     "metadata": {},
     "output_type": "execute_result"
    }
   ],
   "source": [
    "type(variableName)"
   ]
  },
  {
   "cell_type": "code",
   "execution_count": 72,
   "metadata": {},
   "outputs": [],
   "source": [
    "varOne = 25"
   ]
  },
  {
   "cell_type": "code",
   "execution_count": 73,
   "metadata": {},
   "outputs": [],
   "source": [
    "varTwo = 25.0"
   ]
  },
  {
   "cell_type": "code",
   "execution_count": 74,
   "metadata": {},
   "outputs": [],
   "source": [
    "varThree = varOne + varTwo"
   ]
  },
  {
   "cell_type": "code",
   "execution_count": 75,
   "metadata": {},
   "outputs": [
    {
     "name": "stdout",
     "output_type": "stream",
     "text": [
      "50.0\n"
     ]
    }
   ],
   "source": [
    "print(varThree)"
   ]
  },
  {
   "cell_type": "code",
   "execution_count": 101,
   "metadata": {},
   "outputs": [],
   "source": [
    "varOne = 25"
   ]
  },
  {
   "cell_type": "code",
   "execution_count": 102,
   "metadata": {},
   "outputs": [],
   "source": [
    "varTwo = 'Hello'"
   ]
  },
  {
   "cell_type": "code",
   "execution_count": 103,
   "metadata": {},
   "outputs": [
    {
     "ename": "TypeError",
     "evalue": "unsupported operand type(s) for +: 'int' and 'str'",
     "output_type": "error",
     "traceback": [
      "\u001b[1;31m---------------------------------------------------------------------------\u001b[0m",
      "\u001b[1;31mTypeError\u001b[0m                                 Traceback (most recent call last)",
      "\u001b[1;32m<ipython-input-103-edb8857dd22f>\u001b[0m in \u001b[0;36m<module>\u001b[1;34m\u001b[0m\n\u001b[1;32m----> 1\u001b[1;33m \u001b[0mvarThree\u001b[0m \u001b[1;33m=\u001b[0m \u001b[0mvarOne\u001b[0m \u001b[1;33m+\u001b[0m \u001b[0mvarTwo\u001b[0m\u001b[1;33m\u001b[0m\u001b[1;33m\u001b[0m\u001b[0m\n\u001b[0m",
      "\u001b[1;31mTypeError\u001b[0m: unsupported operand type(s) for +: 'int' and 'str'"
     ]
    }
   ],
   "source": [
    "varThree = varOne + varTwo"
   ]
  },
  {
   "cell_type": "code",
   "execution_count": 104,
   "metadata": {},
   "outputs": [
    {
     "data": {
      "text/plain": [
       "'25'"
      ]
     },
     "execution_count": 104,
     "metadata": {},
     "output_type": "execute_result"
    }
   ],
   "source": [
    "str(varOne)"
   ]
  },
  {
   "cell_type": "code",
   "execution_count": 105,
   "metadata": {},
   "outputs": [],
   "source": [
    "varThree = str(varOne) + varTwo"
   ]
  },
  {
   "cell_type": "code",
   "execution_count": 106,
   "metadata": {},
   "outputs": [
    {
     "name": "stdout",
     "output_type": "stream",
     "text": [
      "25Hello\n"
     ]
    }
   ],
   "source": [
    "print(varThree)"
   ]
  },
  {
   "cell_type": "code",
   "execution_count": 107,
   "metadata": {},
   "outputs": [],
   "source": [
    "listOne = [1,2,3,4]"
   ]
  },
  {
   "cell_type": "code",
   "execution_count": 108,
   "metadata": {},
   "outputs": [
    {
     "name": "stdout",
     "output_type": "stream",
     "text": [
      "[2, 3]\n"
     ]
    }
   ],
   "source": [
    "print(listOne[1:3])"
   ]
  },
  {
   "cell_type": "code",
   "execution_count": 109,
   "metadata": {},
   "outputs": [],
   "source": [
    "tel = {'jack': 4098, 'sape': 4139}"
   ]
  },
  {
   "cell_type": "code",
   "execution_count": 110,
   "metadata": {},
   "outputs": [
    {
     "data": {
      "text/plain": [
       "4098"
      ]
     },
     "execution_count": 110,
     "metadata": {},
     "output_type": "execute_result"
    }
   ],
   "source": [
    "tel['jack']"
   ]
  },
  {
   "cell_type": "markdown",
   "metadata": {},
   "source": [
    "CHAPTER 5"
   ]
  },
  {
   "cell_type": "code",
   "execution_count": 1,
   "metadata": {},
   "outputs": [],
   "source": [
    "import IPython\n",
    "app = IPython.Application.instance()\n",
    "app.shell.reset()"
   ]
  },
  {
   "cell_type": "markdown",
   "metadata": {},
   "source": [
    "Importing libraries/packages seems really intuitive, a lot like R"
   ]
  },
  {
   "cell_type": "markdown",
   "metadata": {},
   "source": [
    "A common error, because I haven't defined an object to reference with the command or called in a package\n",
    "\n",
    "  File \"<ipython-input-7-df7cc4657a46>\", line 1\n",
    "    topics:\n",
    "           ^\n",
    "SyntaxError: invalid syntax"
   ]
  },
  {
   "cell_type": "code",
   "execution_count": 6,
   "metadata": {},
   "outputs": [
    {
     "data": {
      "text/plain": [
       "['In',\n",
       " 'Out',\n",
       " '__builtin__',\n",
       " '__builtins__',\n",
       " '__name__',\n",
       " '_dh',\n",
       " '_i',\n",
       " '_i2',\n",
       " '_i3',\n",
       " '_i4',\n",
       " '_i5',\n",
       " '_i6',\n",
       " '_ih',\n",
       " '_ii',\n",
       " '_iii',\n",
       " '_oh',\n",
       " 'exit',\n",
       " 'get_ipython',\n",
       " 'quit']"
      ]
     },
     "execution_count": 6,
     "metadata": {},
     "output_type": "execute_result"
    }
   ],
   "source": [
    "dir()"
   ]
  },
  {
   "cell_type": "markdown",
   "metadata": {},
   "source": [
    "Markdown test"
   ]
  },
  {
   "cell_type": "code",
   "execution_count": 13,
   "metadata": {},
   "outputs": [],
   "source": [
    "#this is another sample markdown"
   ]
  },
  {
   "cell_type": "code",
   "execution_count": 14,
   "metadata": {},
   "outputs": [],
   "source": [
    "## working with styles markdown"
   ]
  },
  {
   "cell_type": "markdown",
   "metadata": {},
   "source": [
    "Embedding Plots and Other Images"
   ]
  },
  {
   "cell_type": "code",
   "execution_count": 51,
   "metadata": {},
   "outputs": [],
   "source": [
    "%matplotlib inline"
   ]
  },
  {
   "cell_type": "code",
   "execution_count": 19,
   "metadata": {},
   "outputs": [
    {
     "data": {
      "image/png": "[encoded data removed]",
      "text/plain": [
       "<Figure size 432x288 with 1 Axes>"
      ]
     },
     "metadata": {
      "needs_background": "light"
     },
     "output_type": "display_data"
    },
    {
     "data": {
      "text/plain": [
       "<function matplotlib.pyplot.show(*args, **kw)>"
      ]
     },
     "execution_count": 19,
     "metadata": {},
     "output_type": "execute_result"
    }
   ],
   "source": [
    "# %load https://matplotlib.org/_downloads/pyplot_text.py\n",
    "\"\"\"\n",
    "===========\n",
    "Pyplot Text\n",
    "===========\n",
    "\n",
    "\"\"\"\n",
    "import numpy as np\n",
    "import matplotlib.pyplot as plt\n",
    "\n",
    "# Fixing random state for reproducibility\n",
    "np.random.seed(19680801)\n",
    "\n",
    "mu, sigma = 100, 15\n",
    "x = mu + sigma * np.random.randn(10000)\n",
    "\n",
    "# the histogram of the data\n",
    "n, bins, patches = plt.hist(x, 50, density=True, facecolor='g', alpha=0.75)\n",
    "\n",
    "\n",
    "plt.xlabel('Smarts')\n",
    "plt.ylabel('Probability')\n",
    "plt.title('Histogram of IQ')\n",
    "plt.text(60, .025, r'$\\mu=100,\\ \\sigma=15$')\n",
    "plt.axis([40, 160, 0, 0.03])\n",
    "plt.grid(True)\n",
    "plt.show()\n",
    "\n",
    "#############################################################################\n",
    "#\n",
    "# ------------\n",
    "#\n",
    "# References\n",
    "# \"\"\"\"\"\"\"\"\"\"\n",
    "#\n",
    "# The use of the following functions, methods, classes and modules is shown\n",
    "# in this example:\n",
    "\n",
    "import matplotlib\n",
    "matplotlib.pyplot.hist\n",
    "matplotlib.pyplot.xlabel\n",
    "matplotlib.pyplot.ylabel\n",
    "matplotlib.pyplot.text\n",
    "matplotlib.pyplot.grid\n",
    "matplotlib.pyplot.show\n"
   ]
  },
  {
   "cell_type": "markdown",
   "metadata": {},
   "source": [
    "Obtaining online graphics and multimedia"
   ]
  },
  {
   "cell_type": "code",
   "execution_count": 20,
   "metadata": {},
   "outputs": [
    {
     "data": {
      "image/jpeg": "[encoded data removed]",
      "text/plain": [
       "<IPython.core.display.Image object>"
      ]
     },
     "execution_count": 20,
     "metadata": {},
     "output_type": "execute_result"
    }
   ],
   "source": [
    "from IPython.display import Image \n",
    "Embed = Image(\n",
    "    'http://blog.johnmuellerbooks.com/' + \n",
    "    'wp-content/uploads/2015/04/Layer-Hens.jpg') \n",
    "Embed"
   ]
  },
  {
   "cell_type": "code",
   "execution_count": 21,
   "metadata": {},
   "outputs": [],
   "source": [
    "softlinked = Image(url='http://blog.johnmuellerbooks.com/wp-content/uploads/2015/04/layer-hens.jpg')"
   ]
  },
  {
   "cell_type": "code",
   "execution_count": 22,
   "metadata": {},
   "outputs": [],
   "source": [
    "from IPython.display import set_matplotlib_formats\n",
    "set_matplotlib_formats('pdf','svg')"
   ]
  },
  {
   "cell_type": "markdown",
   "metadata": {},
   "source": [
    "One of my common errors, just from simple spelling errors\n",
    "---------------------------------------------------------------------------\n",
    "ModuleNotFoundError                       Traceback (most recent call last)\n",
    "<ipython-input-26-0c63239ef7c8> in <module>\n",
    "----> 1 from IPythong.display import set_matplotlib_formats\n",
    "      2 set_matplotlib_formats('pdf','svg')\n",
    "\n",
    "ModuleNotFoundError: No module named 'IPythong'"
   ]
  },
  {
   "cell_type": "code",
   "execution_count": 31,
   "metadata": {},
   "outputs": [
    {
     "name": "stdout",
     "output_type": "stream",
     "text": [
      "c:\\users\\chelt\\desktop\\upwork\\data science with python\\task 1\\SourceCode\n"
     ]
    }
   ],
   "source": [
    "%cd c:\\\\users\\chelt\\desktop\\upwork\\data science with python\\task 1\\SourceCode"
   ]
  },
  {
   "cell_type": "code",
   "execution_count": 32,
   "metadata": {},
   "outputs": [
    {
     "name": "stdout",
     "output_type": "stream",
     "text": [
      "Colors.txt content:\n",
      "Color\tValue\n",
      "Red\t1\n",
      "Orange\t2\n",
      "Yellow\t3\n",
      "Green\t4\n",
      "Blue\t5\n",
      "Purple\t6\n",
      "Black\t7\n",
      "White\t8\n"
     ]
    }
   ],
   "source": [
    "with open(\"Colors.txt\", 'r') as open_file: \n",
    "    print ('Colors.txt content:\\n' + open_file.read())"
   ]
  },
  {
   "cell_type": "code",
   "execution_count": 34,
   "metadata": {},
   "outputs": [
    {
     "name": "stdout",
     "output_type": "stream",
     "text": [
      "Reading Data: Color\tValue\n",
      "\n",
      "Reading Data: Red\t1\n",
      "\n",
      "Reading Data: Orange\t2\n",
      "\n",
      "Reading Data: Yellow\t3\n",
      "\n",
      "Reading Data: Green\t4\n",
      "\n",
      "Reading Data: Blue\t5\n",
      "\n",
      "Reading Data: Purple\t6\n",
      "\n",
      "Reading Data: Black\t7\n",
      "\n",
      "Reading Data: White\t8\n"
     ]
    }
   ],
   "source": [
    "with open(\"Colors.txt\", 'r') as open_file:\n",
    "    for observation in open_file:\n",
    "        print('Reading Data: ' + observation)"
   ]
  },
  {
   "cell_type": "code",
   "execution_count": 33,
   "metadata": {},
   "outputs": [
    {
     "name": "stdout",
     "output_type": "stream",
     "text": [
      "(100, 100, 3)\n",
      "30000\n"
     ]
    },
    {
     "data": {
      "application/pdf": "[encoded data removed]",
      "image/svg+xml": [
       "<?xml version=\"1.0\" encoding=\"utf-8\" standalone=\"no\"?>\r\n",
       "<!DOCTYPE svg PUBLIC \"-//W3C//DTD SVG 1.1//EN\"\r\n",
       "  \"http://www.w3.org/Graphics/SVG/1.1/DTD/svg11.dtd\">\r\n",
       "<!-- Created with matplotlib (https://matplotlib.org/) -->\r\n",
       "<svg height=\"252.018125pt\" version=\"1.1\" viewBox=\"0 0 255.065 252.018125\" width=\"255.065pt\" xmlns=\"http://www.w3.org/2000/svg\" xmlns:xlink=\"http://www.w3.org/1999/xlink\">\r\n",
       " <defs>\r\n",
       "  <style type=\"text/css\">\r\n",
       "*{stroke-linecap:butt;stroke-linejoin:round;}\r\n",
       "  </style>\r\n",
       " </defs>\r\n",
       " <g id=\"figure_1\">\r\n",
       "  <g id=\"patch_1\">\r\n",
       "   <path d=\"M 0 252.018125 \r\n",
       "L 255.065 252.018125 \r\n",
       "L 255.065 0 \r\n",
       "L 0 0 \r\n",
       "z\r\n",
       "\" style=\"fill:none;\"/>\r\n",
       "  </g>\r\n",
       "  <g id=\"axes_1\">\r\n",
       "   <g id=\"patch_2\">\r\n",
       "    <path d=\"M 26.925 228.14 \r\n",
       "L 244.365 228.14 \r\n",
       "L 244.365 10.7 \r\n",
       "L 26.925 10.7 \r\n",
       "z\r\n",
       "\" style=\"fill:#ffffff;\"/>\r\n",
       "   </g>\r\n",
       "   <g clip-path=\"url(#p637356dcb8)\">\r\n",
       "    <image height=\"218\" id=\"image00d9b4c023\" transform=\"scale(1 -1)translate(0 -218)\" width=\"218\" x=\"26.925\" xlink:href=\"data:image/png;base64,\r\n",
       "iVBORw0KGgoAAAANSUhEUgAAANoAAADaCAYAAADAHVzbAAAABHNCSVQICAgIfAhkiAAAIABJREFUeJzsfVeALUW19td7984Tz5w0Jx+SIEowc/EaEAEFvIIZBRURlWC6iDmBASNBAQVRRFAUBCQnwYCCERQJwjlwcg6Td979P3zfqqo94P2fmKdeD9N7uquqq6q7Vw5R0kwSAEAG6DoCSHTs6Nie1iS2hi1rASDLq7WI51oJexWjHPskvikiHpoJ2+ZsnCxHThL7vxZMigNEnQq6ILLJ7dCPiWAdOf0qdDUFmtNWBCSuzbQNSfI8tuLpXdz+ZIJzXTdK8FRI/j/HEHK8Q7utR5XJ8v+O9iLrO9UxBQDYiW0AgBGMAgDOu/V7AIBPHfY5AMAwhl2fvG2vzbfAfWm50znX1t2q3d2nlbX761nCvxN52zOdSjTcqPoW1a44FqxZv9/xorcCAC5/4koAwHhxK6eIOX5OOmb0PP3z1dz0sFquJdDRRsdqndG64ukvfQANW3Ohu0lxuzUIG/Nwwovep7mlkEIKzzjERpamUysAiIygoPuiw5+daRfgacSEznUiHg0nxtW2a4sCR+5kbeCMxq8DAKayHK2m/wEgH7FPJUvMnWmWuyaVRLPYN57l+rSF4gwbx7YuHTsBFUkMHepo887YeVGXSVEOAGiosWHzXpDaVmxfWngq2L6rie1gNJ19CNZmE+5okrH2yy0QQDVLVLoTpOzn3f0dAMBph30GANCPPt6nFiw6F3XfXONmtddN3xLZaNrmTaP8WR0z4Zuk5wiNF2nRA3bdKEGw5qMPfC0A4JpHb9Yc7UpJTf2sMroYtXLd49jz1gscEH508lH3LSNR8WiEfTJVTId83KNx9W7ZFuhZvuGF/+Pa9rTZ9sf3XqE5ppBCCs84xEYr7GPPBRcd0tLF7H9C0AGmaEb8Z8Jhef7fYyQi6/lkGyiyU0IijX5ily2SM6rBrC69irLG59/0bgBAJdfLC+Pk2efM+xEAYGfyPNeno1VGmc0AgHJTVLYxyOte2kQ7Hue1nt8BADat+SIAIK8pNERJp7DR9RkVxb3wpssBAB89/HQAQFE4O9t5GnwWcfE14dSOcF5J8pejVgDQlLyb532ykndRk7AQCCXVCsfdgp0AgO0ZChC9IIYdqEu2DYfPcs0toehSu79r2FY2pB5ZzaFbmDGZNmfvStdaRbKMpLREGSRGH7P3GwEASc5zLtc8QkrWFsNilKe3w761jBeIjEOByZo23U73MSq6Lu7dztijj7drHQ/rxJPBAmyg5TzU/0tHTu6/X3UAAOD3D9/ru0yTe1OKlkIKMwDph5ZCCjMAcWP6ifCf6apO+3+62jpUJuiiqQpuuv8OAMD79z+EJ0K+s+tmcHzrhHgKO37l9h+5Jh9/06kAgKpYt4rdKSLrWKu+iVPOBep/zTfRYqd0FOPVpXdo6Z98xHs3xQLEpnfIsfMkNrk+X7vrWwCAEw//JOegObVBtraLdbS56K518TltY8l0jEMUmMRqY09LqunmND0zgKTC/l/5+1cAAB99+YcAACVTok+ie/EAqvlxTU1t7BlpDlHAB9pedXRTU3oYVxhN6wsA7WxbwzZ1a7J/b96bz+oXv72aDcvBmjWVnepT1MuR1xbEARvo5qtndczzjmOfDu/bSHihXvQLuepvv+B8SzoRc2M2jd4JAKhU7ndtMzX2L9X+m/+XXgAAOOo53Ntb1vIdbwb6/Vw+jxBSipZCCjMAsRGVkmHFUJdr5wr82ieFjRvg1zqQ5Ymo5UmTfbk/fuBRAMB8UbIj1j8OAPj4wt1d25foOKsmIXg10WxmL6LHRyWY7hjc4vrM0R1mg8JrdeI8HqMFvN+iSwEA7cmjXZ9tHaLKqfxinhg5istrLuP8A9E9KdDAW5/D+fdMSWUro2Rpd27QP+0EgMcXcB96sAgAsGttITQwAGBTaatruwqPcB8e+RgA4MH5KwEAOweN1BArZpoeZVfzvFYel1pZ271hcAUAYIUT4IEL7vohAODKg64CAMyuqY9ZUGZxrzuJ16D0NRZ0tUHhCc7x8/tzXXlvSR6tklP45pl/5InJfXgUZdiRI/bPBxqanhGaFLLaslP2+wAA4Bf/uqqrL0IiICo1mO+E/6KqbSl1vHkFHXXULWdV2WfO6BAvt/k8dpQmgj565wrcr1XtvwIA+vpP4un6V1zTvHwg3vOSwwAAl/z5GgDAtWvn8UJiSim/5laGM+6IB0gpWgopzADEJbk5JfIfSgKrXkYUC3J3iuWn0hHq6EjoyXY8b5oVWorr/JKlyEV/hlQlFMucbCRr8MhexPzbJZvddOevAQBnH/xx12eW1K4TI//g+AOHAgBKeA4A4Df3vZ7/9/zNz6lCbDU19WIAwLPmU3Vfa0pdGwg5hfZqnhnZEwCwczbPG4HZJtnwqrt+6fqce9BZAIAFZoL1PkEc0+0CkNH+JAXu5WR5XFe6peV85Oe0EWsAAEvLS3hCyLglw/i3//RT1/ajB50GAGhjmsFVc5mUcFYJ/ZSMXJS5to9+kXsY60b5gHj095C6nv4Fcgxf/uJv2VZUY5aRnIAzOnTfgwAAUT/lrBvHbwEArNdeViXT9sBT8XlyscrWOV8zLY3nbODQ4K6j7bsM15kW92dKFuvt/d58gAop79QmGqiXzaeKHm1S38BHAm84mBzQLx+jaQk9lON21imnD2Zz3fcHApNLJvibQgopPKMQG68ayZG3Hai7MkmX2RGRPlOHsI0njT32dfgmMkOm+jZaXf8DIU4ilr8b1wMArrnjPgDA119N96FhbAl6/R0AMJKY3PMa3VgG6vytAIBO3xmuR39E422ck9wVE2PX5B7WSvz8i3lS0yEZwDcIya7QfS/646cBAOcf9F3XZ1mya/fi86ZJJKYrOCEE6AeN5PUmsXhUeDr/LKATUDjrbe5B2TIxtXefnuvaNuUsnJOrlT2spmlN1S5YMqKMWVdJYdqdDbxvUW5KU15F2WzzfRnP0vhflaqv19ZOERfH7f1m1+e2lXcBADYNcPyD7j8YAPD3XcmVtAu8z/NX7O/6/GpvaiKHqpK/pJGsydu4N+NVlC3dOxZhmerl3m1p8lmORxxjZzHgGmJ2Kmelna7yeZ+oeW9pPNc1ve7Ba/mj5y+2CwCAvDkM2FQCIhs5Q3VK0VJIYcYg7siZMtNWGEtgNGmJUW1LhopEecoOMQiF5L08sE04c6KPfRyrLkwYmG/87wZb7cxv0P14H8ezB3ao6g5q2AZm76Yz0vyIp37ZAaRwf3vsCNdnAtTstSYYIlIX328hPMj5NU+0SRHmZom97M6X3vtVAMDn/ot2vDneJdbbpjRMYgY7UY04cDuLNWKlTUzaM8a1tvrEWbTJWRQyXl6ZO0LZrD1Ayvw4HuJc/vB9AMCJB37Vtb3ub5Q/93g+qWxPjs/GxJiS6GNo2svkjaqSClaa1J52CusAANsrXsNa1poGJvdgj8YuPKEhjpIz8LX/uhnTYZtk7wf3egAAMFnc2XX9wWWPu9+jouhDRiU0fiItZDMQiMwn2hb5w8foCoeOLpiMGTIPk9Kk1igjv+U15HJ+/mfdMBSZpVioYhkAoIRVHL4p2duxeE/lTiJ1TilaCinMAMQd8bpJ25xFO8FFYvy4JSbUEJCZIwyTzAtsPiVSp9EMG9nHvqDOcQM6gLpsUVM9xAS333s7AOBzr7qBc7KGGa/2iiLDDZR10NIkJMgkdd5hcsPZrs+++9JzY2JsGQCgEcn2Y24MXeiGmsgnhq7umsOCnaQqi2QrK4Tu19nuowWlmgI3E4b56Dg0RvvW7hup3axtF3UVNW/WA7WXOk0OcA8//Wc6Lb/7QIa+DAS7uhB7A3Bxk2gLjS/Sw8rbuAVPEeqZgta0FADwlTPp6XD6p2gDTWb7wNvmGCnlWZ+iHP3Ope/i/cq847X/ljzTCYTABje4DK45X5NcNI2i5QMy2zReqFtNgJL4oHbw0CxYMxLlmcrQGb2mNc+qS3UcKGLfu98rAQDfv4caxZ//9SJdEXsy4j2LrFvkpGU++8S0jRnj2zxFy4id6aQyWgopzBykH1oKKcwAxEldan2pmetOsgfKTcYlYS0PvzvyHgDAghpVoRNlXtjvxoNdn4W7kM85cQ86WN30j8cAAKftSxbJm26B7VLbn3rf5wEA5x9Ag2DG4riMEgeuzx1nftBI8i5tt0jgLZ9GMrGb6zO1g8qCRlEslrE1s2TUngrwTfX5PM4m2/HFn7LNJ4/5lps1AEShWme6c/S0VCRRoPetqN+XXsI5TUl5lNX5RG0rgT+SmbRXSf3eafLaUvD5zAtuvUhKkMv+RnPEUc+n2cPizfuc06+fUyPX0rTJCvV0+Hy/fubdbJD1DtRoUQnyxt1psL76vut4XmGB7QxNED7SEcjmqGQxx+YXPcZ34+970o1rSqaOF65/juszdx+ZJ8weIS6tRz/GAot4nOMDiNW2rHejnHQbkt/y0ne4Pj9/kPeerP0YAOAZRRrgMbDEnSk5h4YVOlJJlDHZoGMsZBjNyT1N1fsppDCDEOecBtTU70GswnoeHj+EX/JL17wUABDJyF0rEOs8ctB9rstedxBbCbFiyb7EgJazKPyy10jv+vACulUNgE6gpqPIGlIMKMaUjJDlaVlOsnIX67RJcfK9XoFS6KGquTZBp9BMRZQBNKRiIAiUGaCJAVUK958/hhTO6FfJ/drm++SM+lBBk8hVO3LWYa8s6lFOk6yj7exbFLYv2GKbnuJcnfs5AODKP9F16WsHXgAA2M2UIA2veFiX535skbJjs84b1euzB9DxrgN5UQm3C/Zjp8ZPvLLlsP+mk/WtD/2KJ2w8Ix5qmwSKgWpEbqNPjX/8oosBAGMQ9RN16hny716fOarbdrvcNnK6DmiQW4k98nopHBZvPvANAIBf/Mu7zaGX96700S1vdCu5tf45ZmL4vW/rBub8JsY5mZ4+GtiTp8lcFiXdbE5K0VJIYQYgShqNBPDOxNFOLxv88WWUT17wMPl8F/pgTRrGJ/uv98k5NKYuv5/89raFdBSqi2IWA8fRM26jbPbSQxlQ9yaQYrZrNBo7zW7xX67PyBSNkQPlvXWGBlK0zXhI2WTjtn+4PkOz38Mf40S7Welra0LUTwThGaffcRkA4JbdGTzoUJFNZuDfPFZWuD5PTqwCAMzroWNqIhNBLAoXBRjP3ao17agLU5rcZKCLPu7hwwEAn3o2KcG+cqDuM6Ja8GEsj/WSy5CkgV8/Srbk7D3p9Ds8prYB41KP2UcxrZBlBsftT3ekiYCiXfPwRV39p5QtKi/SE5u8G4grDQ0cWc7Hlt6BpySsCUwCOSfg8j4JJdUkQ3JbqQaGIuum8Y6VG1VGVOXHj8jpetCPPymOpCwXskiScHX9P3mMR1zbZoHUs9GgmWDxXFJBtLhvrdjcCz3dyk5L/phStBRSmAGIkaOWMZoUhghEj9nbiQVzjgsmNqkJuxS7zM+E4XFJA2b3k5ZuNSj7XH3LL1zbz7+GBte8j28AECQFtrx8gcG3Ye5NjjZYX8NWvF+h5N158lB2ovzLNAgPldiu+5CapI/Y74HnM0x9UVVUqc5Ojy4mhTjwt6e4PsuXEnttaDHEZkH8Bq2GhvFq5J2KXZbn7qwEaIuSPQHO+zN/+ZTrc+kLr9QKGaDppBMLGXkap24b3rRejueIa90TARDJ9cr8At6zDynCZf/gs2oM+bboyGE6Y1o1S7OgsUSswhyK+XZ3WL+D3LT/A01oU0ZgW09b1mhzaTLnZc6Jh7ccSE3ozx9lYKZbtMl5gdxbyXGilnqjBWoZkznklBbP+bofPzINA7mBpE6uausmviNxv6WC8JB17yOffUrRUkhhBiCuizIUXH47f3HLAHVWsyf5Vc6aoN2m2OymZO2sDxF/fAEx/nMHZGvTl/2tf9IO9cnXfMy17ZN1p7xZKGceQ1/aQmNNzaUSULSMcy5yQhPbitfOSbbJ1YPIwzJ5a/MhNgydk2bpz1ec5pou/tWfAQD7iCK36+TVTbG4l/nXrvVuSee9lyEzH7z0SJ5YQKoUJ7LlBRTNevWURT7kdjQiFqAqTdxk2cuA80aWqhMPE1LL9vSa87J/aPZkTIJ9YoLjmi1uTlkhNW2vFbTc+6973lsAANf/VVyHpcwMwpSGMko4JCqVVSiVKdkajtJ56uEyCAvJm0Kx4TSJ1sfPKdZ7aYmNynJ6NxL3lhcf59q22nzmv3xIlKyXD3pS8qPJS8VmQELHuI5OD6n5VpGjBXPv0eRO923rlsGZ88sryWfvEANyxxqkhmFCpcTyXSa2thRSSOEZh/RDSyGFGYC4oCIRLXFvmcX+4ktv3xcA8MBBVHnOmtinq7NFAd+/60Pu3Atuo+pzUhyKke3ZO8h2zgqijR3D4/T4HC9vaaVdynAvZmYjMx5aFLN6KuYrJzazNwryOsqjf0oq6Y1yobn5l28HAMw5f61reta9ZGcTTareT3Z2jYIFdj33ZADA5v853/V5q9jK3xzMqINX/Eos466v4pyD2Ka89rmhqO8xpdse0b5cdAOVMd84MhDGTdOvfSkrv8tUhn2yQb2ohWKt5qvt8hdwLhfdy8xWbz+A8WMn7OMjoJdMkr28/oHbeELeT1NSpQ8FxmEken7T0227jO98qq3QRSqjWLuo0NXWGEVLyZ4P5JaCdTePQO3Bcc+TwuOJa/ycphUmackNz4zaBbtTJjAfFLhnE5JKFsy2+DmZi2r+oZkCJpdVZIXmliRUFs7voSF889Y3uD51JTkpFhXviRRSSOEZh9gwUlUZKCaClEfDCxl7td81pGSPHEZj7WCVWH/TIJ1NX3Dji12f2jIeH1NU83m3Uwny5UOsAJ6naFk5CDVmKweDAt6iLDFF7HyCfAmmwTLdXnaM0Vl5oO8R9SVsH6EyZmjQ5480dLhTOuEL76RadvQGUrKPeL0DhhRvlggjb8+Sov1F+ohd55JU9I54lXVJRRz2NcrcUDYPCePlMBWyMPRohUqdjTJHfP5uKiBOP/JrAIDZgUV5U4n7ND/huUyTgrzpGLr0ynUpAMaJxWcPs+2WPnIUex9FZVTtfk8RCqbgkalno5xjy7arowFFM88xF4NnJZmslBSxfyPxioe6ywbGNWcT7k+f6d3b0k41AzOAFDRv24/ZjC21ymV/4bwnSt75PS8uxhmJm5xvyXJXWkWLrDfsj3V4z4F55EJQpVNA0ZXr8vaDRka5Pk3VFMlVUFxUs8ro7EVDd7g+W0ZfrV9ydkcKKaTwjEMM50zsqt35q1YaZykxzV4PPYv/C0HMb8mQFyCiMWGtL/2R5Y7ed8i7NCpRUtzw43/+E3Ty3b6MMt68rXRA/uyZlBXqGalNu8qo0h2sAaphM/iTjqSUfS2jfnu6Ptsk+9VBOWXJTiq7O6t4va8rBaKcirWofmG4gqNKxOD1oJRRUdh2Umhr0E5YKHqIzsQw9FU432/85kwAwBteyaxdaxT6Ek5pP5NdDEOrBHE5byVjg1wVGWH6sslKmkmbZoMrrv0GAJ9BCwCGi1Phkp1q/enASjhZjYDpZYoTzfXpKgRH5g0R0Ql9dANd6/rns2wT6r7U1tH7s6TuNX+els3Y1S7w8lwi44XlzGxZVmaLvJZTMxJP0fKiSmgpS7NcvuoNUcd43LWt92pPIwnq43wZckot1jajd3vQz8ltTF1zSyGFFJ5xiBsx+dp8R8cwkY9QQq1flTYsx4cwyBw5zfaamgpA1XjSGjFeQZivKOx+1unHuraDFRr8hEQQtVcBAD7zRWrrvvB55nlswgfhJdgPADC/j+OOjjBrbFmZrXLzDtZcF7o+G0SCr77xHADAV45g1ZdbP/YHzjXrhahNRWLdtcUXAgDGZ5HCDZjNfCf3IpP3OHtCBGCtDLyLXD4OdhoL7KTlQbvCcfoa7FyShuzyTcy+NVbzgau/Wjpkiyfkuz2SsyFFK1l4CW9qlPH4fRi39MtHmbV5vz1f4LrMH5RDuXIoDubC0YGk3zsktGCuUISsIxvTQm0CudFc6JIOZfrGCIXi/gUKLH6SuWLedtTrXJ9r/rFOa+WhIdeuKclOPaL8ABCrOKFlvDbpzXKI9JsGtO25qaKeZywP6paCgRN9D5NlLyOfcAU1tT84WY7GchAojnDtU9KKt3PesO9SfCI1WKeQwoxBXLVkw0J9mTDrkHICtoVKBxU+2CdsUpPW8DHluQOAc++kw+WXD6YdaFjy0Zc+wxz5uX5vc7MiIBVjnVX8KhsRM3z6c7RznXWGzxEYYT4AIGlT+9g/YIY/Cy8hZt0UuG2d/WuGdnzziA/zxBbil+Eq19Pf9NmYGgpq/eIf6Yp1WOPbAIDm6f8LAHilnIv7Aw+vESG/pmHxUWH5Yc5lMtjTx5SO4Ee3fpb3OYwyWl2hL3duofvW+kXetrdJsoFKn2FAVMXsQ61Qrpa7VyKNmElb83XsnWIfr7MDNksAml+SA7JLxcB1VLM+bUNJYftRRg62keWjnBN2QSbe4PpkwFpj9VFyQoX8uwAAx+75IgBArsL36IobvuEn1UvtcV05/X0mKnJVccdTNJhrlRZrZdCsT137U4iCRBoWzdOkI3g7frHWw7Hec9V81/TfYo5eeh21jve8gvPt0/cwlojLide5Plkn5ubD26WQQgrPJMTz5rNSy+ga2m+yQSVFk8XKSjFQWS+mV24ktaU0drz/7+9xfU48+AsAgDnSFPaKbV08QUqwemkwvrSXc8eU27CXufEjVaIpKal6FMZEtOggHFniIFFX+T1jg+x33/7N51yXD73qo2ope5ByQTYbnH9lyss4PcJAN2n4mxYQ6x4tkekjCklJGh5H5ZRKoM/yBVhBdglvk/3ey+AjD9CB+dOH0cPBuISsas+ftg/tf9cHeruzH6ZcdeKzKVe5cmKyWeUir4FDx+JuVM1HyN6cjd/8PCVN+tuDrss7ns888w3RubwSJcYKpm0HNjFT4KFC2aZjtjGjaC4WeL2fE5jkpy0j69ufw5ybV/xaSX+GyeUkrfN8l4jye0veF0XL+pyRxjgYPZOz+ckea1TVzGiyw7Yznssxx+atG+icPGcO71ct87le8unfurZ73H4MAOCxd6qqUeVtnNNOuT/l+ZKv3Xii69M2YVUfVErRUkhhBiD90FJIYQYgXreZLOPcWe8HAGxZ/z13MVsmW7PT8issdIV4dZ40etHWvV2fRVLFOzWvir9VlXtvKChqV9NnXuuha5elkugZo3ah1iZLuSXIXFiPybIsbsswLUVKQ7WB/6XYqU2zvEp6iVjf4piiaJmSBC/Ywdx+N+26n2v72ifJ7rUXkhVq9XDtK4z3OohrbWRucH2a4ms2mc5gicwh/VRo7AjcqfbcynH3AtXtTo0hOX0Xbdw7s15dccgQ2WVTfu9peShqWmPes6ajyv+RyXC/e8XqLVYwXq7MO24MykVZdpWmWOu92saYmVd3wJrqVFsmnSkpuwr5aVOp7+q6HPRquuH9/NqfAACuWKUcmS44T2WSt3hXO9uxiqbS1rvSkItcWKSjPS2xS0miRt6yjzWt9K1X6mRzisQfpMp+XPMd7GOeyvG/vs21fcz5S1DBl4k48ZU5spudKnPERE9npU9o80kpWgopzADEs0VhNm8lJZs7/D/u4uiTzN1XSYhRJ2WQXaGyQd/+LbPtnn7oJ1yfYRXCc8pXYc6PfYN5L8747Ftc23aHAnNGIb45JuTCiDLbnvV1YpB26IjcEZaSUmJiDjH/VhnEr72TORDPOfibrk/RDOpB5icAQIuU8vBf/8md+svLWNhhnw1U+Y8KQ1uGqPs+TnX8S+7+iOvzy49RuD/mynfyxGwauzvK+HXxTRe4th85nIoZbSUaihzOS39iOpZM4AZ1yrxlAIDr/sFyR3vtSwq82MhgUA/D8jaaosklx1RsR019dhZ9lLwRFudANC5zh8jUzrjXtS3pwVY6KgjY0hymVfI9+GUvcr/33J/7YIXTa8p10pT5qKKwpS19PvOUhVNZDcSiqMWAzXY8WHTOKJYob6wHbWWjpSupBs7dBb2hGZmDqhp/xQ46CA/PudW1rUjxlm/yfW3EdDRfuYVF76MksPUYmKlHvlgpRUshhRkAx3wbz7t266/cxV0LHwQArFxJteuUENuX/vRlAMCxL6eKOixhNKshDCeM2hQqaoP68c+d8RfX9rOns38jVqjLFhoJzziH1HVcWL236imaYe/GAGWnx5QP/at3nAsAOPvVPC5qBRnpJQhNKANULEt5saVx5/mQmhc+Rresu/amg2tlipi/JcPsE32UAV+yi8eox/yJGavWKf9/v8zD372OMsknXv8F17ZXdKNsLm+SpawUsTmolgKKtoeOj+txOddYw9C+TqCTEypGsBSIaZ7PhnuP3G2563PTYzSJHLGHyVUiT20r+ucpWl3yT7/l5xylXPXW/Sjjb8pzUr9Z8YCfVJZ7un4r9+6IUxlcOdHDlRSzNF+c8yXPGdXFhRihVCkEDJiJJg6oiIo3Om8LGbBbSjVmThnZQNRMZBpJ2lxbUdcs/cqOkcNc2z7ts1U0s4rT4248n3PMg+WlTHPvp5DCjEGUtKYSAGjpc68FmYJ6hLR3Wcqw999tZ3Dix+9iOP8HDzoeALCnSo4CQP+4HGAtZD/fXZCtGAZBKpwfGbkb1alRaqivBdr11gJ8IIy9oUQq+KH7SHU//BJmLdoPzJVfmfAaLJPNtmWI+i1/fqVO6lsLnH636laLN5gLkWWcFTorKHxiyFdY+VebYR+NHOd74e8Z2vGp/z4LADAXXgNXlBHY+TEbL+88eLtvCwCrfVkdAMBDV7Lzxot43z03eheskmJEtg5QZj30qoN4QZrWjcoR8GTAhVz/D2p9j9uXYVC7St4tWJWUdjAZm69k+7c/l1zJFfdaBipdz4WV0x/VmkifHqxRJisVSZ12yoXv0x/2JYLbcrEbk0avr8h9++l36YjQCgRTC+spdUXA+q38f7QeAAAgAElEQVQ0whP4Yvi6DtbFjNmJNLm58EW1tBkWelTR+ArEfRp6ZWeiaf+nkEIKzyDEk1lzUFVtrMA/td5DLH7P9gsBAGdfQwfbLx3NxDSu5lb48atMblulVDJCzcrz4vLdAUCUIZZqSH7LS1tkyMRKpjaCOMRRBTZuF/demOT480X9XDWWgEolmothvKx46qTQ0Rw9vnFYr1cBgUbWpcHCqIwqO3dxfZYOUSb7O1jIfps8a/PSbFWmAmdW82LLE0u6JMPGSQgFNrsqm5O6Lt1GO+C/v8jqOwdupp1xONj/3jGlEpC8cs9rmIX5pX9SVZwC5aTnBGEmS0XJvv13Ov++6nmkJs/TtszfDA+619EvpcP3NQ+KkhW6ryNIqITsXvpBu9Nzi5TNVuwgZdtn1hEAgBvO8a58LasoNC0x8etOpBy3eY53y8vK0fvqb17CPdB5k+zt/1bT2xuzORPKwpcXXgDrBC+QclnW9fCyerky0jZmJIeFbmHhbyClaCmkMCOQfmgppDADEO1I6gkA9FlliUBrOp6nkmJUCuUMyGLsP8wo6W0P/wxAN5VtiktK5Akei4CbQNruBOTbKiLonqOaQv+0nIGjQQmdlYrnOu82srFfOJQG4HlSm5dg0cgh72hHy+9n+lrhmVbQdlop15raWlasUtMM5r7Lenmaf+p2Rm7/7yH08l4MspeDDc862rSmoh1dwxTMTShnKnxvAV6j2sbPeYRe9niu+UE9NT9HtzoAGO+h8qb3EbI/44vIrvUGLRuK+frMI8qp8hzO+1W6/t3Zb3dtq/KU/+HDl/KEONB2huvJ2h4nc12fmgVhZ8nuFRRh4Zi7qljLEO3bxmSpwGrCxAzu03jAm5mu7OgPnsCucp0v1zjINZdcjOlg3TPT/jfJKVD/oGyv7LQqZSZ6RN7LwIN+t5/mUgoppPAMQdwjfGhfclhhp4jZuka1RyQMuvFxUrKli0lNHl//bd/JHF6VGzBR5qFOpIEzgR/UNJW2K96kQgl1Ycmd2Oq6fP8O3uvjcvuapVJGJeXy80XtglU6hYMZNnW0fH/NwH8oSyw7IaVLz5TGlXJhR5FzCaPKz/4tjeRfPoSZv5aYckfUsRbsacuVhg1D2YFJaYA6WkASUJy2qWhsHW2brzck/yfINKXM6XSrCKbgOQuT/62ghCkRXvpKZqLa/ucr/YDmYGtaowwpZNbqMFuWqsjvaQZLtSaSv05ClX3G1+XisgIuoW7Zx6RCz0nplZO1/oY3/Nq1fesvSXv/8K0fAAAa3XolHPUuxolNVfwNJvTy5XPclx+c8y3NkRBWqlpiFNm4ndjGoI2jt8twIEhU8jlJDdYppDBjEOdMbS0MlASkIN8hbivWp/fiYeUmUpd5i97lLm1Yeyn7WtKEnMk4hrE9WKkfE5UkTmCyl8zwvxXh/bU7vSHzc69mluEFctHpaRvF4aGVtTwaPkymbhr/eEBNZYKQHJmNPXVpqF/LyUgaX3uwo0h5cbVhcAATJV4cUuatvGmeRbxrQZYti+COx7tzJxaMjBiVD/a835JLqs0TSyhLDe6ggb8deYxakDdxSWHGDy+gPPTCIrmTvJM+vBRi/MKL91kGAPiFXLL+dbco2ZN+LvVe681en/4EndArhdWaPillo+ldvL70lbu0JNKJlnKg5N2rxr1uBgqCmh5oKZF8K9+GXx11CwDgrZ97jWv7izfSbfDNt3IuRWVcbmrDrr2UOWPC2oWurryO7/wQHR+iLK/EVf/+3HEh98FKm1kyrQnJjdm85br0YCnArSBjStFSSGEGIO64oD5i3fj/+vYMM4tqZBNixfXrLnVNli1+HwBgwxPfBwBEqj4SKTQiCnh3c8vKKLlDNEksX1OBvc3Kpzve74v+FYRF+jtyGhZKGi931IfuPlPe9RZ1Ye9IRm1f+G5C50NcxPnOEdmOy0W1yWsszvm6P1zvenz5QDpZ9xrJMUwtdFYO6Hg8wXsdvwv3qb9FillVJqVIDs+9TZ/19pNVZjGWyIxd7mCVn+vfTjkl3/QlgPKSeyZjaiqPvI55Li2ixtMxT2WnayrbrWkter3Wt609NMeDJENS05F7m9mp89IOs5FpoIfUV6cjG5NnQm7H5umKB+m1KVXlSxYWuzdh2I03pfE4Yo/k03Kw0EnXlvDbc8/WvDu6nX8nXn0S84rUK5IxJ9nmugvouDGqBx5Kava7T/dJKVoKKcwAxJYHsccMPKE8phD9SckgDSsXKmxvYkWo4FvxKCnZ0uUMm3hyNUNeTAvZyXjXopzVq5Ida0pEakIM+VW/Y3Dl5192sp+SoWZLjW4hC3JTOvXvDMbbNMdj4ayqlWQUblMvkNrVK+LagzK8fU3Kfvs9Rkfgd7+GMmFTOPYnt/wIAHDua77s+gxJK5ttSQ5V+ZjI6r3VA/QrDN1bZ5/Bca5nN5AqWZhMLXDBcthQzwFzuP+vu4vatqkAU//6Wh6PPFx1EuzhOEFbG9bw1rc5EhcX6f95Co+xbJfDsz2tKTkDFClxPVPoGrZH/7bGAxWiUghkp9lHrbZDnCH+bwV4v2CNzJlbGtFcSXlBB3z6ieoAc2EiT7JXRbemzx1DuddE5Iy4pbaRONVWy/q5/OyCywDAFRg2q+jx7+G7Md6ruhIBSc4o0PaaCy/qmkMKKaTwDELsiiUas9qV9ISwUWjx5afR8p6NyKve/Q3ajxYGfSpC3iufJCWbs5R91m6gjaPQCYI4DdT/ZiU9+c3NrOF1wWtZfD0JIhtNe+k8B0SMqtIgrp1PyvbQ/FV++BblisEJYuF2D9uO5MOaKgRdwh7b6Si8Tl4Z5z5AzHS2KFlPsFHZltB5bMGVXIdzcG4+FZ81rEK7tKc5V52FCwq1ph5R6pw8EtaWadT6czDub/chlf6vWXxGQ1WtUQbSmhy5c7FH73nlt3x+npRl4LkMhP3+/XRIftX+z3dtDzPncNVDy8a0Y9ZbW3VUtum2T+CZmL3PeYiIWpuXkOTSKNgmo245JWPCNobyDBSUFGmzp2ilxt/5I2Pav7JuxzGabZ7PFTzv1W5zzRmrJWAqcDPtBVyC5Sw2J/qOuI3bL6FcN6r7hLKuWSnfcvLJuk8KKaTwjEP6oaWQwgxAXJmeiy7xJ5r6Do84jdHLG6xcrXS4r/jEpwEAD53lFQOm1rQ4otUbyTIuXEh19ubV33dtrUD9uErTfmP1KwAAl7+WbZMdZAOjls9xWJqryOe8VNpyjUqkrNih3B5hYfCOWMQdg6Na4rQYpADyObJjGyXsR9KpDyoHSSI1f1gkIlb+ikTG/5zlDzSP0tA2re3dkWOQV6WPG9UZp5akoXK8taB0bGyKEUvsEne7/ISr2V4gq7tZ7k6zSmTbInl+G8PolBgA+vMqVKECh/0x7zOqPg8H4x9mqR7FLX/t88zwFUWTWl5ex7lBL7Fy4q0iU3C0LGqdx1qQrDG2IhRGCzpk9YZqchQY9255c2tiw5ucVKzSS8Y6ZsxBPHC/jrSHJoFYWJosVl0UqKLU9JWOvVtiDFX7ea4V5Aw6jev3L88//ynjpZBCCs8QxJFTuUrvnPVffU3uR6NZCbNWvkdCf9U5wAagrz2Ts0IJ7LNhJSnZwiU+ivb+LYyI3Sa8svcY8yvWO8ySVBpQ0YCML/C2afRGAMD8fs23+XIAQCSlQjb7nx1tY820nSHW7UhkrUw+y7XZ8VNSlLvGSDkfuI2lhO76NPOADEkxFAq+5i5UjizyVhdc4ohA76ucHp0K77NVSuOdCo/J5FSmNfJOv71Ct0lBRmyNP1/DHhygyz32ZPmn7//1dwCAd77gZQCARWpjZd/96MB6cQPmqmbXjnr+PgCAc1Z5d7OPDquGkah1JA6gKVVBxyLqE1+c0qhGxmnezD1PeyEjey6wCDiDS8dyNPIZtRoqv5v47NiNRIUq5Y43PV+Hc1Zv+zc1K67MUjLmXMletQ3jxUwz0rSRTKkSTLhr0kCvllhKDdYppDBzELtP2GSaQLZxjk8uh57hOn6mPc2nkXUs0Yd49pI57Ob59a9ec4lr2rMn3YOO/SpNAJcdtQwAsHk7MVSrl4rVkbynH62yufY8xkOH+S1aJhvku8NPAGBI7juDIzRCb+qjKXaiQqP25K3ea/aQvRgkmIuYL/LjBzLr0gffR5PDb79LlW4XSTB0JSw2rk2N5bJWCpOyC3tf9RdZlm27rYktNdzaBm82bnGyamN1DGY1giLog31aGynMIzpvRta53TGjAIDDPnoqx40VpCvj7XnfYl2G3ro3BaiCMZrmWie3hZYWEGkBwSNDpHua3OXX2h24GtIHJ0Ha/iyhrPxw8dkAgF12dwnxsb4seV2EpqmHE1uOmAaPhTCxo4v0NKf67gfhnf6ACc2sI5Lr9BA2b7MMBGTL0Tx9OilFSyGFGYDYhaq0zZDsKZopy0pTpACZrAWJ6stu8v+ur9XyGmQ4XsMYV1G0MN3f6KMs9D645A0AgMtULDw3QdnANFu5vNfATZp3aSLeXTJgXedHs/TNCvVyz1vBXPjzt1F+uXcvmnhXVJjtOHRQbcij9lkJK828+SSG2e+O/2IDsyNvDYIulAUYc+V0WrT8f8LYDV9CJ7Ii5NMKtrijNj0JNJWRSNi0uEMg0V4EmZyM0B6yF9d68wo6Wf/3bntaJwDAse851fW5/JLvAggquOj40o8zsHfXk05xbWUaxvtOYVhJucGJ//TiC7rmGErKs51zgc1OuT6l+bM43Ezbv3uRpZuo5MJp44jbqJG+4O2XubYnXXa6BuAh6wzI0zKidQIfLAurEu3cblpHuV6F2fSNONs7ZaKe7ZdxGJmMf7k7eibmypVStBRSmAGIXcLcrHGcXsaxXzedTVvAyz/FHPNT0q799DyG7odOxWjY502KVstYpmKSgnLiXbD6FDLS/vMv2eXF7Lv55xzX/Dp7gsjDCcMrDWm/OpQ+plS4vlYid50f92Tqj1+mpLJwPTHqwA+kETPfmtl++mM52qEWbmYIyq8vYHbmD5xG2e3jh7Oo+KvX+DCQWkX2xr/RZamhcBAjSlHsyZMh7bpOlZ3Hq3CoqGMQZIIF2ghbkYV/uHqzFb/WNXZPHedO0oY45HA0n9ZEx9McC9tf5FJLqFxui9zB85b6HJZnrqJT79fOZz0GBa3gdR/8DACgKaGkr+bd5n5/AfOCxkalJCvZjLIiEV06PMlMY8pm3e6raV3kbk665Djf1l5U2Ufzoh/1bn9kRFlPpzraoUlRtCM/SBl8oqgH0/Fy79Ak73nHRZcCmJZtG0BewaKOBQOQZDQHrTKlaCmkMAMQx4mCIVqy0QRfa79QTCWmLPDkV5hGLSevA1fd0fu/AmPCpRJh+upm4pfeK0ja6xh5S2//p3dxiJXU+CFhcfRx7Ou61DN36Rq6jjVRulZMu1QrFBKUdHjbFMfN5XfBf4IJuRHcuXgZAGAf2YdWlnk864+3A4DqmhIWTtJL4Yp9aePZY5SY7YU3aq49HldnB0h9yn0cz2rObY5Vp+tpggjND6VgeeEjYWZLFxEkNd5PTr37Sft6wL6ULT/2D/p3vGhfau3uX+7lFRdbaSKNbGCLRzhGQDvw5Vo/QjD+5K/nnal58/7bghDT/U+ljNfMW90BPrQrzqFWsy2b1mBgndxD1Xb6RnSuKKpdFvvhzXRAgfvTUpXUht7PVsYCfgmxkz6BjF50C0PeVOZK1irQF1nfdkFM6ma+KEOW28m1MIfwXHCG730hTWWQQgozB+mHlkIKMwCxYxnNdzPyvGMiY7OVto0wLZZserIJAJcefw4AYJcx8mt9Y8oJGZFt2JTzavEd8ygwv+3Hx/DEILM71VUqdcHCzwIA/j1xputTbql/4Z86QXatXxmonr2WBRPKjcddn5e9km5auZcsAwDc1rm5e9KB5uF5WbKVtbmvBgDMAlmtJWNkJaSCQTF0PFM6p7ffq8iwKfJyF/wPy/SOF3yelIbYi8/eSBcpKx21i6E8ixPr+D47B3jXrCsXxPHHomnqawCLjUutUZExS4+sIIdnZ2Qd9ePPsSzMcijfJhep7UXyZz5WHThgT8Zh3ynFz5efz1i1Yk3KA1lvc7FnHW/+Ds0H023z7ziVqvqODORhpaSrv894xvKs7mxhBqOes0Ov9sWyrMQtMcPmvJyx99a/sNW4WyHTbKtUcJ7zblSDPDVBVgDAG+ALtiBzkggt1tOc9VOKlkIKMwBxYjKxZM1mxms2slJQGyUz7axVMHXuWkFobF+ORuBBJbJYNkI8E1dJ4fqLXhGxKitltBG5RcTCkdTWKzaQki1f+BLXZ8WjB/CHyg+hQKq4WErq6xczAndOQKb6lnAOm3JSUoBU8DPrTgIAnP06n4n3W8dQgfHgAs7/1B8yBOiuC+k6Zoi0HTjptJWPPjtLV/uIzk768+/5f8YbrDFFSvLNV9DZd1iEJVvlg3jrrTfxRMAtdETRDC83zSUITwUXihJ1t3nNfjRg/3Al97yS8dqEkqNz3UXP20/Dsdiqc4qGLzoHgu53IVTmDKMbjD7c9R2q/TOa5WSA91/7YeZ+GS/xxWyN8z63fJeG8bXBeKaY6lcUeaYzLbWwpfXKeKXU9OKEw/IuHtlGM1E2eAAlORw4l2Lr3G1/f3pInYpTSGHmIB5eTofeVcrpEeVC9S0/Vct1Z9iq46pq6Ed5m+tx9BkMccEayjat4+m0E08Qrw0FpXs3j8io6RApy6I3WjRQV4pU629ee5/rM7aFeUrQq8DCiMfZIhp2RNY7naLPsg8TC992G4vn/eJQuvHMdeXYgRt/THetlZqm8f0lQ5Kaaxw4qCZyHq5KTd3Jqu6ATAN5l20CyItan3YHC6hjVORc5OP7r+P+VYt+nz5894O6ETFzUbk2ek12yAX40mJRhL0tK4oTJxTeMpL1NOcJ4dtFClg1qWhxlc91mR/dqbjHc6Sv/7Y8mCVltRa9KnQ8xc+aLNnuMkkDDc0qz4dWiP06fn7OhV33M4nv+FOZg2M0cHwoN8gJ3XQRQ7Gy2v/pFWMKAenJSb0/WwLuPWfzftOTcof9jcY1zQamstGxu+JlucT1Sl2wUkhhxiB+fB0p2aLFxwMA1qz+obsYZay4k8iEsGXGtDhWhiTIqATTKoraNWU0jGFY3kNiIeHuc6ccly9Rz5U1Z+KOdypOEsorS3d/EwDgkceVDXh6sfXeDa7PWsmCZ9z+EwDAFw79EgBgYXtA43vqMaGflvvXhrPqJmWX2Nn3ibQPeWFkm4pFYATZIdASVxD3y/BaFAfRIJZ83/2iXgUvL122JzNKTar0cFEBuO/++eVskAlkqwGNO5crMOpkxW1P2UPZG4/3Abh7n8Hg1t1G+Oz23UYJ6JZLqS1sB1mfD5OleNFzKed+9VFmp3r3ngzMfJ6Vn22HDrw8Z4GlBef3Z5ROwbSBU+6w3gnjBezK1d+hO+CcYMn2zA4/hXLddr1Ql32XbV3W4ICu2LhlVRKK9Z6W9XzagQbUeSeqe12zGZOQNjhdGw/vJmcZnVOKlkIKMwCxpbpbtZKUbNniD7uLa9fQJtZSTbPYEt8k4r+NEtS8XunyM74OANh19b8AALsVX8kxWsQcO0o+YrLZK0rlfFkoUVSVh68kXJQPtHbNNuW61Y/TZtW76AD9fy+nJGXahiB9zkceYO76kw8hJYsMn01YYTDPW8c5SgVFq+KYV3ZjzaUh7JwLEslEpnXV0mxPk4TrCZ1ZIfmhntD3KlEYSLPSnTynFRjHjrvJCrJbKRc+jwsOpn2wkvjxN1Qom37y1nsAAMOWIEj7v3SIY2Qbfn/O+Bwdao3qHWIXZMubCDRw/dtZD61niJRxrESuwBJHZ2oiBY1AHitbFVOClL8YsCU2RBGCmN1Cx2Q904IrL2XewqO8drxH7n1XfvfCrvu85RS6fpWy5BqaE/7du+ESUvFmzoJPLc8jxw9zTFpq/0JicyKVKkTSMj9NTlSjgtOzWqSQQgrPIKQfWgopzADEltvBElytXHGOu7h4KYXLJ9eQJHckMOaVBcsZ7BpeGGyMU60/laNiY10/mYpsHyN9t2Y8y7JzQMpbF06l/IIi9a6cUsAaFfOr9Iss0OZ1ZBkrC8j+/G0DWYIt8GWPck0as+fqnGPKpid/ANCyk5brpG35JhJdt5TkAY6yBGJOD8z5dhSnlATKhFjKBGM7qtN00BZ0kO8ESUnKCj8YJlu4UkqEo//JgoHzG0G0d5Xz/MYrybLvtoMq+qOuuVoNyOb/73P2cl3OeIxRDQftwZLABXP/UpLDZoiPFdVtTzwzxTW6jFNF7Vsr2FTThsemGGCfpgooRvmnGuDzHWM9xUwrusEx+QXPznZ0gwE9SDNQ3fddKnPqxs0GUzr8BBZQqZeU61PXfnYORajQEDFL1/rECDrXK6f1chN5CkSZVBmSQgozBlHSpPLZXHfCj9KSXC1azBJMq1W4omiVekwIDNP22m/TX0xPdBH6iJoV0kjMEN1r1m9m6PPCuQdqlitcl9oI84wUB5j9qt1hnpGdmv+cXQ4DAJx5xhGuzyeOPYpTMBuqKKaRoPGggL3RHgubK2pHci5bsPIvhg6kymRrBmUrOL9T6wpdUnv0T2m6NdWOtl9BKSmL3L1Xkdwnb6Z7WZ8e2tnz57um+09oBaMyVU9RaXDV4czLsqJC6v6n+fNcn7d8nEqDtx2gwhFVczjWLkjhAQBQ2dqHlMnZsmzd8egqAMApey4DAPhMmUDeNiCjuUnTkCg6PtdD6puJ/X0mdjJLWF77Ytttr1US7GrRimiaHaUlrsT2UnaWTs4r1baJjdqmjTf+4T2nkDMqtDyXEMuL+MoLSe3s3TAnhppxheGa5YURu6KXKaSQwjMOUdIWRdOX54zUAFrKqittO5YvI2Vbs4qULf6/PtPpKR+NooUW62z3uWaOeCWn8rj1zXSw7QTq8dLsV+kXDaYdyYcuC64Mv5846PWuz6IxktFTrmX+D/QLWw2pDG1+yLU1imZLKwsz5SUrZIXP4pBMdRRIYiWGGlR9l+ZeBwCoTfkI8d5+Rjpv23A4x52+L9NrIQCAQlCu76V891bt7dAEf1zb73HpC6Y0F5PbysK/VnTdrMYdf6OPHkbOYZEcA2aJKr7rVwonKnoH5InFdOG13NGWo+Tah2i4fvPepGWexgLLbO9sz5S5rG+IezBeF3UNagrklStkfMfP2NeCySPLvObnn3Hlms2UwXciqzoGyCikCk+4Pm0FPE3gZfpfS3Ut/DtnxTqPOpnUbkrZtOI89+kn517K/4M1V9S/V7QypWgppDADELU7pGgZl6nVf8lt5wRKjNmUAmjBfLrvbFLu/KyP8QMifuUN0yCKArSdC5YndT6DuTIGyeG4nF3NC5YfJHBxaYOyV00Y2tx54kQ4VkX1MOKzerx70X8DAP5rOangjgKdlj/+h0vZoCutrnHgml1undooV2NCXF0NhNmMKG4kPN9Rhq5ZBWL5XOwllnqLhvxtkwxb6ZV4aBivPu0IAP3bSeFvHmJuxqNFGZZLHr458ANfPiYH7x6SgBUKh7Hp7m7LHAvuIDckNEWR69QU/+TVpDiZyO//2/9mRf+08Qpj2a4tvOFuBrS+9pUvc30KsP3pztHYX36//l+u+wcF7DvUqLbG+Y654jexaUQ9/WgoK5vlV4zFlxRAZ/TtUz/mhew6P36bjuSzyu/WmvfXuFZOxgfGTuUpj27W/ybq2w4e935ms65U/J52apSjf3k+5bqUoqWQwgxAjMicZ4w79a4/ibRoiSI9rezXuq3EMouW0M62etWFrk+uQAyasULpmW6ho5N4ecLJVaJyibu1XHqT1/AY5q6XtihrWtK4+7wzZgUqoB9tZwDmC+a/CwDw19XXAwDOPIQhKXMaHtP1VonV334jMxU7eU5uRHGGTrv5iseoxsO3ZSPLS57o66WDcH3cY8eeMlMAFOPnIASl5HfBllEYhKnn4LbHlGuyaXWnmNDvph5W9wGRBWoWw0Tx2jvZtdDiOo69T7JN20su5x9AqppTcbuM8vWfcDMDbl+5gQ7Jc+s+TKZaYFtzmmq5tFRqM+F5G4Oy1LORKYQtA5i9JEHl906nu4pPIUPJcXySNuH+yl1au3+3J5t8rq0J1UnLSbbNWpBxENqko1V8szsPDf4Pf0gruXrHTX5OOr7x1PdybkghhRSecYhayThlNOG8JAgZMYpjNjbDsTX7IVlh1yUnuz7rVzM0wYk904u7hOHxVnlTxamSaKvGpxbKMEnXEDnDi1VNgdi3YXW5bI5BF2eyEip60dy3AAAee+jnPDHpKQ7qtD/99K3EVnUVqp/ME12echs9UVDwGA+J7DMmMGZJ9cxqUwudZbX+iqsVxk2sST4paNFRmCxzK7mOm+csAwAIj2KgyjvcWPJ2wBdP6uF0tKe9KoZuT29SHEzZJ74clYxjtqScC/HgboZpOxdvFJWbkENtnX0vfwPluY2i/FuLXnD8+q238odLBGqZoCgPD/dQTqoGT3pjg+FbtVxVc+LDK3Voa2tlAm+YtvKMWjXSggKFO5IBm//gMfQAijn/qdorAAB9xeN1hY7aSeI10e1pdjLL/TNUOZZt5QG0dfKXrk9VLITtXUrRUkhhBiD90FJIYQYgTqR+d9rqIBw4Ec8YmdpU5V7LOfI3DXGZK9ad7/osWEw2csMqnssZObdPOhfqxe1eUrZ0eCxJJp4eNA0AkeZnhdljc9qclnq5EHllQtNMC2LLHttIlvHZA3Tfenjd9f4GHarmj1Hqb7TEb8q2cc5rqKApBC5SH/ilWFBL+Nejgh7zaWKYyD4Vn1Us8Yqii4sutZLOt4J9UkktG8Ucm81vt8uX1fKIyCAdmSetVUzPiOVtBKr0go1LFmhKacm2ivFZH7g79Q1zLv2TYlerZOXecY9yWvZYbJ5XVpz/0pcCAOY0Of6bb1ERxizZ/o2rflpGkfcAACAASURBVMT/g/JZZgWq5syxmUd5oaHQCXz5TDmkjYhB5+v6OPe/UBbrGFbLla9gS2JKUqQJpiNRJEr8mmO9vE3F9plloSWXrozi0+JALCpqTmlp3RRSmEGIWnLBslp2ubAGk+Xqczn7pIaX2NyOLPrYq2Xrknd3W/4uAMDaVZcC8Fr3OBBIO4rUjuU0mzESmacAPAW64dQC9XWsUBfDZ5ZaMj8NZYTFvhMJ0nWphjtC4WbYWLTLCa7tX5+gEG75G831dtCMqVNaYN2rCC552YsAALOUJ2OTMkR94F5h0kpQ2cO5imkck7SV9crbYf38o43ch/uGqWA+anxMc+IYV83ydaf2npQTmUJ8a8VK12i9T5PmaVK5MTdhFQDgC/exmMmaEg3wU0G24Kkaw6Au3J1R63soR5ZTFOg43AxUKGtkPpngWq95Pd3jdvSpdFKOk/rQTbf6PiVlMTOHZuO0rKhjHKQqVghTW0q1pihxEcw01plkMY1M8pegj4rOlz7JvqAzuk9V6kObzIjd0FGRSBiYfSin0uTzHhu5znUx17qslHYpRUshhRmAKGklVuUbXUd4d6lE8kTGrMSm/jX5KxsEfuprn5J+fdfd3wYAeHI1nUPjwPPSfmaEby0vfUPjV0WJxgKKZgpiw+GG1wxjv/oU5jwZKXgs3MlY8XBOrh5Rtb0zUnmfoqc4zTYxZi6/CQBQmGKfWW3eKd+SGj7IjT+rQWPnby74Dk8or/03DqLKO255KdPm//E75LBrCTRk1LUcJdWAsyiNcvyH+ondP7aacysnlDO+tmxX13bXmuYllf3OgtEalUayCQTyytYKDbxvfeiNAIA/DxPz5wbEaYx4U8D2WVzLPv8mRbj2WcxnMltqd0ulUobfn3xDITtmEnA1lzSZiBT1a6/6L9enomdUk3x62o2idsp9ggWL/AKkCKiL42pprTlRtrzLa+yLI3qBkAb4pjKi2SueCVywLEan0zLKxtOlXtZnKKjM88jEr1wXZ6aRo3ZK0VJIYQYgSlqj/D5V+A1BFRATHzowitBWJ6HbpuXlC0bsViS6r3/hUholV5mGCR6Jx9KUrRGNe8fJDDPf0hGmKHrqVBD2GtxJ59nbL6b71yGnUK74x5BoXSXI/l4w1yIJKG3LPfnUyi3FCf6uxZYKQdQuFlY3ClQKSL852G6VcfuzLDNbfkIVbbbv8G0lj/70uHcAADbIFeq02+/U7SibNIJMxXk5/a6W7GfBlrbVoTPX4ilLqcz5NUrcr6Y0ipWahc14HPtwiQ68B0xSOzhW2YQuaAVBLzGv7buZFOD385htq3f73posD7Vev6fb9IJMaS/tzkbX5lrTkeC+4/ot7e6tClxtZfkcDn/yIdfUiHNbmkQLusxCxm01aATqWZOFLVtVRtJlAsuK5aHoNMF6JnpthntZBaklHcbWSV/DwXyT29m0tG4KKcwYxEkku4Gx8mGG1tgwA48tfe1ty7Yrn5dsEjg8GdVQgsW85K51a0nJhhcd65puWf0T3ZPjGrIdlxPxxADR4+ZKOCmOn5P9yRxlHvgOq74c8JEjAQBPRoEdZJKyQX+VMllbDrcTstHEWW/AydfYttJhiEuzzaDNiQ7v1Cwo6C/7iOsznBD73vIt5n4vG+ZcxqCUzi5eIMqI1B/zZ2FkaTEveDXDSmZPkir2NP2evvZ67tPSHCnL0j65t84lpV4fexlqRVm2T/3fp2c22/SBNTM6uS6YVeI+DCnQN9C3EaKwTjHXurbMZzMq3N9rTIdunGt6uXpRViSrRYozprAT0XCcKm3txmFPOef18J7n9LLtK9es4pKblFdvXO5dvNoF5W1s8OZvvPYquwIAiCvkcmK5sAHAtn6+P1b7LdY+GZXtCRJCQTkmYXUjjEKqz3iZz2wkYHJyTrsuh2ekkEIKzzikH1oKKcwAOGW7ycadjJcYO+IDIgV9mdHZ3FMyknzrkVePTym2qSY3npwE4B6R3R0rfuLaDs+mx/Sq7T/U/QjjObIL64syTg4EnvId/t4+sln3IVTEfv7qnFvYN1ikMZ7BKACml90j5N1xUm04l+XPOhUAcP+/v6N1eTC1SWV6UT7pujNR0NpY2mK7axIn3c7IZFQtU5Sf3bdeT1exvNTLk3pGn7ibqvWFRZ/dCRNWgETscA9Z0/ES19GQyr43kPabUnXPW0OV+ebnkj1sNnmfxTs8Mzk6yHdivyfo3pTfV6s3JYhtdrDkRLGOkZKGmKPAdSuoLGotWMZ2gbJim1jG761nBrQXLmTOyblNnj/idw/4xmZekqXqe0cyqfmUzFLresg6fvvue1yX2Q07StRRVDlKchwoe4P4do1vlaKMK94xSEeCeTto2B8IfeFMwaMvLKVoKaQwAxBHwrBWpK8dBO3EVlI3scLaxGxNFbtoyXnzGz+83fX58tdpMH7j+W8GAHzsVVTL7pajYqBY9Wr3jetJyfqXHwcA+MtGFgZsWAH7MjGGU7AAQEcF02NSSrti+GdAJzKBq5fF1TkcZcl09W+oyrVYLDNpdNRryz9JyZYs/BAAYO3ac12fstXDSKZplCx/YVfZJh7jWKaSPkvvJNRXFLoMUOD/3qc8HeMmlPM5nHWYilw0PMU59QoZTRsadxYVBaXFdCZzlD4Q3OfoOV/6XCpzPvjAaQCAyRJNKD1trzkZepTGhK+8nMVMyqKGIra+IHyA3Yt6AOMq8GFz2C5/v3ZiGdg8GTQH4U29VNE71ZAFeg0txVNAlP79v1eRRxnrR+Su9aoTfNzkog0s6/XjC/QcqzLB9FEJEwWu2lGZ7+N0DmjVdkaVLzWGIsyMZktp0WieUrQUUpgBiJIG8W1NRd5zQWa77GRPV+OtFbqyPIHHAADn3kZK9rMT/uAbZaRwH+a1Qy6ks+bX9j8dALBb5wDXtEfUZ1JIqmcBDb37vpYuRdsGifu2lH0q5JxQxdJxUpx7zzkLANDvchSZ0XMcHoRq2qYSFjaUvNeFbsz1xrKCiYJaYTpD7osW+EJ+69czh4p3yBYJy8klqO3JayQfHyNyDVcuiBQoehrcZwhz0JBs1bJVyfBe9ftz8cF0Cypqn3ZWSBE++Gsp05XDvqvSXkPjaTvWqbDhat15MsjJNawcxIu1pwPmc6V9cgxRECZjlGZUBnfFqOOLG/msnhjke7a16N89MxwvHOccbla6sH02ad6z/Z7WLFWl/o/EUdQ0mZd/iJRsIpCV95Zb2/4P0vF7rwnu5U5R1ZP+4OU5Vx3eyLS51El2G++rdN0feCoFSylaCinMAFgKPBSH+HV2Qou1EQV9wDsrNMy9ecPRAIDcXiysjlwQsrDuBTzmmTtxU5HY9mMPfxQA8INnX+6aVoqkXIbHdq5mocBddj8JALBiFXPxd54GHZTc0dybqIWq187mlAp3urZO61c7WHP7gC68XOsL5m/uZUJPbRnjowxnacht7ZpLXJelSz4IAFi5+jwOK/esrKmcskFlGFEuSxQcR+byYxSAK2sH6LEgClM3WTBveUDEPRR9mMx7739UvyRRyLv7Oy9jfvtZohBvv/VGf4OyqMMo772olzJJOWY2so0BPvYOeubqJenJAk5diqtAotG1hnvS0mbbEE6ge2o5llgP312REwXisG13cfi85SHV/+MKn9lY8Ub0WoE3v/Kv9wMAKmN6j6Q2PeNVh7m281TZZ2iSlP+Nv7rB3QkAWs9mjshQ1p++kpSipZDCDEAMlSh7xaHMaV8vet763sv5tdvnOalAzHULSAZzNYUf1Pd2fWY3+XVvm+CxWeZ3vrnJzK31ID+VpUjoyKm3oiL0Gx8hJVs+SHetDau87c0ZugqSS2LaWSbHqW0r9zBvYhRQ5kRBm80S+e52kxrQUk6yWms331beoCZWRbAoIs4xUbBrkCYeT64hJZu7gJR47RbO36hfHNQzQFuOr0rv3DasDrO5GR4OI2TJWrRVwaWZ481NSRf6dEtPi4wo41xN9NTbFJazk8/ustf72gTbSrzXmIopfOEGtp0lP6JZSZBjwIoOFK1ugYJ/zfXKqG6Ql6DlwqDYyCTlOTVSikcTOxOkJ9CiejrmBqgNr5iDchjPxRe0x+iGNjVSboG6nMrrfZ5z2ah4LatT9NweyrIZcRafu/O3fnyr0CNZ+GeHMeCzpYDeY++V1j0TZt+3OgBpfbQUUpgxiOXAgd6dxCoTgzv9VVPSOKyrtlLM9Y1TTbW27r/klqvQSEzUniSWmt2mHacXXp7wJccyup1sWMrA8vh2UrI5Q+91XbauulhzM+xEzVU2t4p95aCazXqMFynUPZGsM6FqNSUwx38SL/RtVenEF3PkXLKJJRDS+iIvrdjGbNlESrZoMSnbmtX8P5Pz+5N1lXGIJbNy6naZhV0AbhB42FR25rxyV6qNeWFEASJ1gbCW+Tjm/meHlBJAWP24v/zJd7LEnXXKb996LQNWZ42S++hveW3d0dcqj/0wq5DmZvMdML2nLxDkcXhbv43GWXqIoabVEFNO0dB3XAPNmaQ2vDhoYUqJ7uP33z1qE4Ujk5EJLg9pECdjsp+5S7t6dxaSlQ04CjunDM5v+/tf+b+8SH58IPP212peFs/IS/+9N5DapRQthRRmANIPLYUUZgDi20++AwBww69v45mAs5teFndALlc/K10BALjkT1QurM3823UZGZTxup+po3eRSv3M5zECeugprr1A3eKG9NnXxKs2Jciv2Haxazt3HqOvN26kGj8LOrfWIpL3vOmM24Gy1QpHiP3LOOVEK7xMEHdhLlw5569lxeOtoR8/G3ezKmufJMu4dMmJAIB1qy/ybXPdLlaWlyWScG5hUFFYC0ve3C5HS55q5lJs9pegzKwVHGwPdt1nQvdt5LyK28CZSrJkK//3hrt5YkpKgLp3Wr78aCrNNuXJip72a5qf5xbMqGtR7MGc7Kccm5OyCvs9i+adf27mfXqCYhpzx2lK+uQilnRyr6UVsmh4Ni3Jd+cZDR2+AWCO5bYMam31jXPvXIFhsbG212MB51hX7J13KtBwOr7zymt04+CZKSX7D458vfqmkEIKzzhEyb/pgnXRqXQoPfFH7/NXJSk2dZxSPKoVTGgrQOSrP77KdfnG10lx3nYux/nkwcystExtexsByZSaejKiKB1bOIWkWnPDiYLCGxbMvWQZQ2zWbKFj8taJrwIAhsp0/i11Nvr7CKMmmWEAwM4GDe6zejhGK9nDNY1FEdpW/cnIiEOgoQrXTnXnvWzJ6N0QktxlqVfmrH+S1NlpgvM2vCK3rVhHoBjouMxMVtCPHMSnP8l1FLN+fz77JWVNTlT8UHtn/s6WWawRqNKzwtFWyD4yj962ZakKuIOyqNtWPoifvPwItWWfcSl7TrrhBt/HEsdUxM0M8/igpm0ZIENex5z/jEb0ipQVmqZBC5RFBeVVVKbrojgWoyJWDuPID3zIdfnphXQmtlJM5VZ3Su16kF3aDFKuWAq6oX9CqqAkvNLdKqVoKaQwAxAlIwriEFr54QnfchePv+R/+UOaYYcE7dMWVl6f8e42W0X1LK/fAn3LPebm1PGOym0lzLeSqAXjgV3hdOP3gxnLoGzpC5fsxhJMG7YyxGb7JF29BsrXuC4FkbTG2Iu5jP5TOBReqOE9Lo2l6q5H3JBIFMByfVQlATQDimCZmwfcGQXEipqE/rvLZ9P9a/MGZu9KJJa0sx3djxQjn3h5xXJTIKIp4wufZ6ng3ojm1qAiLaoZZk3+whcVSCqzgaMEOXOZ8pS5qWcUywzS0ZqnJL2NBVKPGX+eU9MLs1auSyYzlTjWxUce7vrkZWuolcjVvO+O3/CCxRfJiO+cmwHv/CxDcj3XbXYpBHkj28b56BnljQVod0nfLmkbAExZE/1vpofi03mDmYN5Vq1tfAVEjz0NkzMdUoqWQgozAFEjIUXLmcUxsFdfcuL3AADv+b4KuhkSl0KroRz51QDjWeBoQVi+4kJUXJ0X17Zl3sLq7vxELVOTVe3LBvy44QYz8AqRzl1EWXDtzqs1Va8JjWClc808SQN14iiZn79R043Rk13XRoRBtwvbTwYob1ic/jLRtB7JaC05M9cDfKakyVg8yD3duJ17bGJoKWvykV9zQ9rAnHLjf/EzB+p/Bi+GttXRxj4AgDO/ymJ8bVGlgvOSlozVCTRkpi/N8iWoZ6zII7mPRuBOZczGLLOIV82ZWNyHlQ8K3c7MV2yKbc4+hKkGZknz987r5eAcOgr3Wh0GvnTJIA3k8hhEOHt7epZ/MWOJHF2tZquk4/tMTVMiuzFsgWEQp52z/uZArQuTmel6zqdCStFSSGEGIKqqtG5BOCIaD75Osd+XHUvN3nGXq/yojA91OfZGPkmAr55qyMkNpxONgG8WxTIZzcqnQm5QhgYaATqoi+T2mF6qphAJIZnZi78IAHhizef9bTQHM/WYeNKWG1Qc4ps2Meg/s/8CAHzzDjoMb5lL2fOxoSc459ijvGdvopPyD/ejRnFhQ7osYc2prMfU5o6kAipYvIiasJWrqQWrmAdQoOirSZtZjLfoDKn15z7Fuga5bJ9r+9kzVd61TftTXdRwSti3pGOxFqzZlqJ9Mg2liSYIo3x0zURIy2XoiSrHHw+skzb8UlvTVub6xxjfn4sOfxNP93n5vSrj25dukKydkQSc0VqD+mVmCJxSio18lpsYu5rQCrbN+TW3nZuWZOPk/6A5Nm8NZ69wUyurNP+PvlHqVJxCCjMG6YeWQgozAFGSTCQAUJWKNB96RRunIrn8Byd9GwBwwo+oQg/CnD34xA0E+5QtpDjkiURWW3LbtvJNGWMLLUVDIOy3IzPayktfbY2TqIkl23W3r7s+Kx5nvhKLf8tLts/KQz4b6nKlA74zx7i2b/yVhvAnFlCVvmLBo5gO+29gZqjrFpDNWTK+u27Aw1R5xLU1I3wsM4fqV2DhcmYP27z2HAA+7SMAv78yOdSTnZq/orU7Xr+ctxyb0q7UZHi1KEPj5MtBFncLRa700VTSzDCyOit+vMeZfIEtTaZ2t4AN5zBvpbzEZ1Wfwkx680fRsnY1u6PKfV56uEKPX1Kq9FkKeMu3+fBO+Lk332C+YvvmkK0cl+NDn1jHjLmDBZHuLb17se2IaaOkxAl1Ia7wlXn3qW9Na664xv+ZbqUULYUUZgCipFFPAKChmKlW8O05pa4hZGmGz38f3bVOvljuWmGyLMtY5YaxLLLK/dAJUGnWqJOVRCVmypva30hZ6AKkeCRDIh2LYZM3bqwI6MCnFYuGjwIArFvHIuWmmbakS5kkiCPSxG+IWPz8mw8xM9eji5mTZEtfYP8Q7LKFGX7vmcs8JcMjcn+yehKDPkuVxesVE5oWLFlUTUsdnv92AMDo2itcHxdvJqRraTls1iG2NIYh122rdZQmK0k+CijmnDKNy+NgIcC6yuX6OwQF/OawfOzYFpVrapjrkkizaZqSsJi7mQ94mNCEzVXZTPN97SDPiMoHY0rj1nUflXG67dAjXNOHVAzlo/fJSF+y0lSmw1ff2I/f0X4kjoPrVtFnApoWGTfmuLVuDVDj6dzypkFK0VJIYQYgNsyT10dbC8odVU0l3Nv9tZ/8fVKyc04gZfvwDwJHZOVGR79KPck9KxEWyGXD3H383bKSt0IZOcWoRJE5tQboWTJUbPkRxVNHysaUKL9j4goJAus2kZItV8motU8wcttY9iTnsW9dckmki22VT8pnppGIADoup8a0dL0i5q0A42Xst7bZ7qzSAdi0lZRswZzjXZ+Vm2heicUMlKwKr3Jl1IM0YWY77WgOsZEuHSOttRWIpaNZyYvOuUB2HVnCo4znKJIWbTtWw9H54VlYklVJD7kQK4eryRXUx6bgorIjP6moLKqUVz6RKdG/Ia710If+7toeOiFD+ItpCN8uq/OX7iGHUVeZqGxghnK2cW2dvXsma4aqBKhE2FPKT0sxkDxdnpfUqTiFFGYeYoeJ9IkXIv/tdfQdWkaorCEEfdEf/h4p2UXHXub6nPgj5tGHgvsaBXPOFSUKwz/MK8gJFLyRSXGl6RliAe8oagGSbiWWKdewpadSDd3zCVWyWa4sw2uUYTj0PU10z6xkqZ6MDPkT2oTu5M2akwrhmbQxrShfM8B0WWkI84YEY2L7gjiJttzE1qz9oeszuJRa0/GV0qS6evAMBSrGgYxgdQsyVq2ck2hZeVuT74IsXs285tehLJbNUg6NGirH2/bjF3byd8l79+pIjZ9JdVNBYKwV5StLjs5VeS1nLlI5aSx99T5URRmbWsZ4meOb2/EGP328ss1n/5FLr9WNLGyFrXfooYVuW7Ns/61CUs7eMb0sSdDaZG1jRixsSZcLLmNK8BzMxS1JCxGmkMKMQTSRMJF4RrxpPnCdMexrp0bFQzf0fdo33+fNRDjrhJ8CAD5x3jG6qAs9ltvPy4BNFxpOTGb6PEO2Lvgv4JfN1cqSDztaZ6nyRSY7gYap5S5SaDIb0rI5DJdZtfG7fk6Sq/JZsx3JEdlFgrb1r8/t3xB5LVnm4ClDkzzUSz78Y0S6tgE5IhfM39lKBthaA9vkVlWD323h/3CM1cxhGcVWMP1631h1EfzGL9LRWImVOnq5e3g+Q3a2b2aO+ias/LE5NvvC7MXncs+qf5M9caU0rMaGGFIPS6/Yb/Ph3s0ChW3eNpdd8FQwN2J7b8waFxYAtnO2Zu5xA8yglZHaPO4KbaKLWoT9eGLHnrqdZMJyUGFvMW2q60EOYlBzKTsn9acUI34KpBQthRRmAKJ2QiOB2bJC+4qLKIyJZhuSBYyAvfXdDAyd2/AavivPpd3p6ydS/jn9QlVdccYSP/xGYfxDT2YSmycGmGhn0Tgx0Z/Oo5dEb2BfyUhzZf6iiUhcJvo/bBnSCiXSHtVE4Ix4LBv2Bew3SyMZOW8MHS3pYM5knrAyqrgBsx1Z5RnzJAiUtvmOLm4mFb/pdfRwWDzKdAoNBVA2e7y98YDf0L5lLMTiXV8DALj7j3RiHhz0heubbdr/sjl52UTUEiaql1bIE9t3Ot52WGsxAHb5MtY+qFafr6WSouUK3hvm71OkAM/61zsAAL97B8OJ8uOkBI2i5LCGf9A9ojibh5hL8uCf8H3ZsOTXnGuLvEvf6LNcH9MPTFXWax2cS7mumn2BN8y2krTWEhx7FI4zd1TO3aMMsUEcCNiJKHuVTuK3vOsrPD3KVBvb+vz8j/sVZeRWhfs8oRp29Rbf11zW20n/E6QULYUUZgDSDy2FFGYA4ozpKqdHkQLejycRuyHh75jjmfL6sh8xf2HgbINj30bW8ScXkw356jFkbz558XufMn5LsuRWlX+d7KO0vLVjmZrUJRO4bUkN3nFBU92KB1tHmCQpo/wTUY4nM3K0nRAvtmqjL6KxdDbXtmq90nlbNmg5vBqbmAlUubnQAxVeDWwuRj0hO76J4/zhMGaJeuHWfQEAxVEqUhK5MLV2+kGvOvImAMCbfkZXqbUrbwEA9O/BqPJ1G652bQciFiLMgjFfLm+kcnK6qOPIszu9Smqyc4rpq+3O3vPLt92Cv6gTNTS7Spkzt04WdbykPZ7wxuFKi2vLVbUj/Vzz7OKwxmfbKLO762PPtVKyApNWVljKisDkU8hzfm3t+NxYPLZc49yDCN/t+BUAgNWv5YtzqAzw2xOKLY83vHr/2td+FgBw1G/5ngxUyF6O5alQ6QsKNf4nSClaCinMAMRoi1ooK3AYzVyTsbMuXfMbT6AAfPUPWUzQZPzQ8eTcn5GSvfYtnwQA3Hwlw0wufucPAADvveAE13aOFA7948Qem9tUkw51LG+k5hYI7maAjURqGpadSkqEHoWOhCkrXLqMyArWqUyUVhDFvvFjKlQxdzldoNatluHYlW9l23zodGoXnRHajM8K/2kHxk/55+6y/rm8z85hXQjNqd2w9xaVlzItsuT0letIyeYvOtG13fIYsyIX4yVdw1phw7wRgpa/X6Zga5nUGrkeHwLjqfdOORzPl3Vjzg6WvLKSzLMmp4UjBzB3fC/+qNpYpGCxnuFQ+NDUfUw5ii0LmZVjbgeVpIptbshsW4b2+LJ309SUSagMaQaufLs0Gfa0fDtLPXc6zLg8Ry9z35R3pL5fYUOYUuHNMjkvBXI7k9P/BSlFSyGFGYDY+ccY2g9csKzY23ZhtG357tzjA0YNA5vAJrksbRTK2yLN/3svJiW7/J3nurbv+AHzZTxyFqngDpkADEFYbkiEeegbJINJvrt8am/O6v9uU7sAoxZV9siqB0rNm9NKWk8TZPnvdaRkw4uYrWr1GmarSqxabsajsTgjISDL+8TOoG/uPMH4lsTLFS7//2dQapgHsC1JmFT1A7Fulc/tv+cCGp3XPHk+AB/wGU3zd+6qmacQJgsktczFRtnCMgYT9qy1lTkV+fNiyn92vm40ZbjPkSLU1Da2Pk/jk5uIq+mYQ7BVAc54uXHWmK5JXvzxu2nQf+e1cpqYi6fCepZV/tdh3JElj87nfdqUU3OBDLtdJgsMyOJuNREt2VY47/8AKUVLIYUZgDiRAThSovh8UKW8VJoWzlCeVgnGAuoCr9yC+lQLxHymM5orueId3/P5z390LLHuu39ELGy18iw2vGlZmQJPXqdklADRa3kKa8y7cP1LyHPPG/Vy3bYektXD72Guw9Is8v0uNjEIDcobBlXoyKonSMmWL2b6hrVrmM4hE9bWtUp4ph2Vq1dB1L0LU0v59+jSBzkXrWdwBxffktf1eNlrsh5dtAoAsN/APpqkntX/a+9LwyyrynO/vc8+U50aunqonruLbprcRBGHSyBeY8IVfaIQAQkCgsxcaXBAE54YvUlIbiTXON2AoChCI4IKgoDjNSQEuTiSqGiMdDd0dVVXd3VXT9VVdarOuPPjfd+11jk06fsn9eTH/v6caa2919p7n2/+3i+F1tCT8/dljJJs7RqkSm2bPFGxmQAAIABJREFUQHpZTcKVaykFEkHIu0lbErmLAolWydE447UbKSPguzqF13GeSeSloDllgcHy6SGMXVFczENgbI9ys0L4TtJAP58FplNZHvcyF+Z4cUmPXw6v4KW3MwGB2tSuBCU1raCt8/pVSAJ46QPwho+/hSjNIyNmZrZn2S/d2DN++GjH8QQ7WmqjnCiKjy3SMomWUUYLQIlCDJWcEx+OKl2vabUrXuDKJzz3crVx9U4bapa2TyXIgrl8CyTZbVcj1nbtXYy10RDKUzoeCYSHbKQBMaf94CpPnorUoFMOIxl4ccAdm0ewyx+d/EozM/vN7yNNKWJb2KTsI4Exyxvk1CLMo+3cBkl2/GrE2Z4fu83NaZXYAYbxurxiV02WGQW1QbnlkLRv+L+/Z2Zm33wjuOXGykvMzKzWxFpnB/e7ORd85814o8vMYtp81JnyhRPgZWwXJNky2mzPT0DStVURE9iGSm8yIfwKqEYaS8Hf90FdGT4UOzcgXnfgMDSKmGPjWmCrMQdt32qM2VT8r2ZmNkCxqELQDlvWIQbj5ueFo0mJOjDvOx3ooZvoYSK4es+rAoyiKAlBmISj348L8t3l+Hzh1yD91oYPEB82JZLnnU0pTejY8iqTaBlltACU/dEyymgBKJpik4t+B9ntnQhzBQaSKSoveA/Upq/+LdSmlaGoJ01Sqp5+7bvNzOyB2wCpraqonvnAiK1JRcHLJ65EUPu9NzOoTfVkf+CDUcx2wxGojD8dRsD05VOsZlPWWFjJzVct98k1CBKf9vOf4IuBJX6wdFM1L3SgflwqL8+aNde5KVvHoJYVqOI6TZeYEo0ghWyOBnm/NreXOrXXFEFBXtvUJjguBNte4BrDZoWO9J0qqfl55Zp3mZnZ6DgaNRaD4ycxVUOhjimHzKmZnuZZidwjKCthf3pYMlDIwqVFSltlL8pZdj48TJdZM0hlyvEAPbxO/az1S2o88A431D75R6jwf+dnWd2vG6CWWKpdDLTZvK7TXOfr//ofCHL/6V1v84OZKlhTgFqIYtxY7ij/g27KJFpGGS0AJTlmXLbIbuJCgNtADhORvSY0ljVilhwixIdQc4MCmwjKLnWJqaVAouXZPJzB2/feyqD2ZZCCF98Bqdgb2L1zYg1MdF4hqF/1hhPoU94ntUYNjM0RyWrZLF1AM/QL9/kT1Jk8XEjUYR7Hd9k7bLY+sutWN+e49ZBuYyP8Tmuk2z8fIGi1GKqoUToVJa27e7gH3Ffc3eVNd0KsWDvodOjSqYh5ob4OE2OQZCtXguuP7/U4L8Yk3EjNODqFekexdIlraShgvZo/dMNmBHF4rTfq8h1M0S9/2S/QrOOf1//YzYlauCCv2PkaMzO7+6T7zcxslU4cwGuWZyhq6Kep9usY/F15D6F/hmNTjk3U/qtG8XXQj5V2caSgjzgQgd46kLRfjDKJllFGC0BJRVHb+RdWKC+mu7pC7vTorXDDX3gFOPiWO8HB6wH7vWgzgoWPfArBQzHqFtnCfMAfy8JmVNdXchlJsrsu/6iZmV1+/x+5OaskfBhcfWYRJNeyOdg+Wkmr4QOyCdnsRII1jDCV5qVqXh4K2ZIqqBsdc32KGpu6F3xa2M7ncR3WLEU1+cQ+VJeniVhd0NZKffpk8/Ha1lnCk6coSFJ/P3rJ3S0nfHusYZ6oUsUgeJ5yXot1QjmVCBEdbNc+SLKVKy93c0bHgaefFMV3x7l3LLbgsDHMImJ41InJ0qI0zBV1p4UN4+1SWV59wlRh2KNuz5iZ2c+Of9LMfAoeCPOfLv6jmZnN2NP4Oj6RxxhwIyttBMKtiD3XI1RPl3T9K3xoat7aTJk2V+Mek9JGMzNbc4THCrr8CgQzMQSxc86AR/ZBEocy/+iUSbSMMloAcs3iL3kpOon0T3nu1WZqycE+/Pu/9C+QUoeo1571DnreAuz6Bz8DqSd+r1/EIEIPllAZFqmMhd6v4gxnUw+/4+otbs5Vn7kMbwRT0oTH6uFXAsXozAmcKan7tCrl5D45jHKH0/4ZqEY2AI7UCL1RitkWUCYR60REwWpyr2lQWpPIS0fWvWoY6U+/GkfQuBRihgh8WbDwnDrHK5WnvVsMeWBdbjNin7Cjecuh63oDT2aW7KI2k2NrrskjpXhQ2jG8HokCoxO4dwX7Kfe+jSNCTAzdyW5Xop6blGvzbtTYzZBkx3r30WV5UvW9ZmY2EZS+iJbSvvqnMrSbdUz1+vErvZF28lfppR7+O37zC77qKZTPO5QrY2Zm1uTekvqp+HorCmefuNZrUb/z7XPxpue7ncdJN3JjL+zH0E2ZRMsoowWgRKr0koMojttQXe1+VBn8aAN4dorRiE88fPutPIgnSSzxwNe/C9xqijUdAYy7lY+Ai//d7TfzG0TJlvVC0shBedUtl7k5n7saNsaVdzNm0g8Od/aP0W726y+DZHvlrNeb97JtzGlPPY4vBrEDOZZCRqr4Suz6zIIXqXI+UbVfWL5OdDA1PNm6E5Js7XqU2IyNfdoNpalkEojqzVbmVUwptSwow/FeTDahF8oWpWLYY921AlMLXKZplWlHREobavq7Nr4dkmzt8tPMzOzpp5FuNsiUpqS+zY2dK9NTW4bdk7DoMncQEqxMm3AuaMA208acJW2sJT+H18Yg1nDy1lPMzOzJYX/PcjTcfwuCx+ZfgruV7oemMROt8JveizSwWgnFnDNLEWSLDuEiDLKNcDsACJ3sgX1YzGOdg7upuewHRMP+sHppFPvftx5oYHl6dPsPYP2zA5N2LMokWkYZLQBF6T7YaNesQRnICfX17sc27YaRMirqPrkbRZupVG0VMbY9pzhIQJ+TrwcW3oFF4HhzLUgA4a+bmRUcOCM4w9ab0Og94oGXCJU4BIIlQ731HZAS122B1HBiVlkO7WBSTJavoFIPJNysGreHXkHX1dE6SJkmLlEklDiMGVqM40jiqKHluuFr3FAn3SSNmN6RxN0JqsECiC+R8rfKoreYmdnkYWBCFgOVItFe1WFGt0bGW5uJt5G3xdWhR+G49RuQxLxzNxKecx03ANy9TTsrln1IaWU1GqHloxWA8t4L9ZlAQUdYiDsRomRTYxiiylXhsyhQpH989U/c2N+9mzbUOki9VnE7j6HUEHo721U3p5nfyzHsHnSIcNC7kbbypXd+zo294OuA8JivIM6nuHKxiawkS7rTel5ImUTLKKMFoOyPllFGC0BO6ZhaBaDvZ6cDvLw63AS1gnREvLh+cYJCzvvg7ZveCefH3mVwIzd6ZJVDrao2vOpYVViAkN0XXAq3+EN3I2l5jqsrh6VHXMp1t0Md+/zFcKRc8nkEuetDWMvuZJmbozhon5rMuV86A8DhWtIU6oxCA/muNsAWBJTl4UnpzElYnZ0QP3L3Vu8MWc96th3EjUzp51fr2wadAFHko7eC16xUoDI22oDO7i1damZmtebdfi1Ku+a6mwku3oxSp2KojHFQzlws4DuVnT37LFTGvqVoYP/8vv/jxvbGr+L68FmldkVlgSlsESQ8q22wFMOy0uSoLfdzKQFavCffGwm747Hmqs/5MYohTfOZK/4mPvLrvi6138zsMBG4pLCv0Bv6cHrqw35wDSffV3lNuBRbzutVj7uQB/6dbWSUUUb/gZSI3X9xG0pUOgARCW131/lEwlUnI/6lp4v4Sx8OnAmzxMloqT6jT2WunBQHRnhNwU8E/A72wcgUr5Xruxo4HipsDC4WccldkGS3XQMkqGs/B4zDYZ+hY/Ocsp+TGKywFj9vCAIUQ/Pgg0mBUsldDqaLsW4mgFaxKBf6gs3aTH/KM7E5/HXHNkiyjWsvw+fRLZhDCZlLhNPiJX+NFc+NFEZ9sw0pFROhN+6oTOY8ppsplPra933QzMz25tlcMPHX9PEPIeF4DW9Rhbfu8Cgk2aLlN7ixk+MfwWkU7tDmeJ0cbGQgPlpdr4qQFLv9JeHnLhEgv1mPq5oO5J8OzK1LwGmHqY4VAF7LL6aKc+c0EtJ1M8gqdqGYrmVys3FWJpNRRv85yLHy6QTNSqeCkpc1JaQsXf5hYLx/421fNjOzMx5DutYB/k9D52bM8O8SJo5Okq8cfwkCzKWgxdMvPg3uvmwefHecuVgSnIt5/FwgcWbJtvLEeijQVXztLZBkX74ADezP/5RvYF9aQluMjcb/+rkRMzOr0sV98wZf+DnEYKrlKW2V9asWu/JMH5VjY2yOyGJqvp7k/PqLjI7ven6LmZmtWbXZzMyeG0UzwILyh3PebqxSbDTjzkLZdhqEGByVO9Zy5jtpZxFirD6AdKRDVS8xX3cDQjH/+pGbuFfsvUDJWR39iBu7Zh0KIsd2okAykqGVwxw1tEzMu9Jlu6rhZI5tnNrMIo/yQsT2pDIi2cS9SpXi0xGH8Rdd3l4103yW51WLp2H8HlyuX1+JZ7jGrIgD/4RQibIXWpW9fnCCvfXZiJmZ5VX8leD/keTCmpqjUybRMspoASiZ7QO36auC0/UFzrRDfSwZOBm85oxHwQUeew2STk+/F8hTPSf6OWND/2BmZq0IHUNsioFAAjGODn3PD16J47SeR9rXpkOwbaR9iwEVmp4fVJoKSLOGfpDB50FIpfO/Akn2yJm3uzln3YbvZii4Ht6IoHxKxf/nfkV2wn4o8rVBwNvuoeR69fs/YGZmk8QAKDW81+6pmz5sZmbHuZarknFEwQqMA4eWTP1+1wgk2Vo2sB8bV6DUw4X19DH9qAoNYDDBdT80+dOOY5mZ/Yoez1f9BZpEVlfC+5pn0Lt8ANy5VfaW41gFnH/TDeiX8KOPQIIRccB7mc1s+ygk2folkJQ7dsOOm+pfxL0jHak041Okck08W1sXIdn31dP47QDN9Q2TWOPXlz3u5vy6qSeBrEwFxJEqWDbffNF7JlUgCyk1oAtD53j/Yn+npwegnelWrVqOXK/d34OU6g8TqWPc6xq1BN3NcvnYDQi7l5hRRhn9B1JSUQtU/eWC+McgeVpT/2EOPf0BcNQvXo2+XRd+4Qw3Z8///H9mZrbpAwCDme+Frr79dnxvR7yinLffNjOztAmp+s1b/9LMfNwr0nmjENiRRkwEKdjqTpniz2fd6220B69ArO3ch+GhPPc5SMVdqyFlFw0FHqwNVZ6bx7kOsb3JJThfswcnmA30/bP/EGUaP/oYpFOFi4rp0srlvUE3T0ukQYmSI1Tx9gOQZEtXoKx/164vujkllrZM06w62KAkc2vwN61EOyhuUyLKY0nPbZPgOmnkS5t0oHzKdfNbtTNoB+xYZuLoHkiy1athG//yCLy+DUIxl8Kglcw4gzRaPv1aMzObipHOVToMvM3mshPclBkTRib23qZwYhddm8kFi9L22fM5GgKi8zT914Wj2V1VdraJ1B2IkpN+if2zS/3YGeypUsSrs8+p1LSK3uv+YpRJtIwyWgBK5GR0iQ6BMyeqgdMnObzWesCaiidgsCTZt8550M15471I8HzmJsRmNnwQxaFFesjW7vdlOHnCD3z2HkiaxY5F6xWLabQ9x84TPEjfyLclM6JVgsTILfLZKufeiePf8pYtZmb2wP2XmZnZxGJIyje/+0o39r6bP2ZmZutMPdrYgZOdYqzBLJCcZ9l52m3OMpOXUbHEJIiksa2LtISUe2wxu2b7XkiyJSvf7aYc3MEyIjJOgQCX2mThAfhPDz1ipSrWMNOvuCOuaSrQoVaQ3M3YaS/Bl+QXjtn4qxlID5dMzc5CO3dBkg2tRuLtjp3ondeBOsxbUaCUWj02jM/TONOqQ5AixU3+Oml1uq+KZ6YKx7YDkdkVA/Mfqd4IGW/P6W5K/3FbMIbP1sjzfAbYkaaUD8pwlFkSdXz0cbSwmvlFKJNoGWW0AJT90TLKaAEoqqbQhYT6lA/+eyU1zOZXR4h8NEfDcbnqfHZ6Mf6NtwN/74z73mpmZu31yOMat+08lJezgyaXMFTTBl2qeYN6mTbZRDzxao6wKFT93aYbXE3zIqqdxXYAlDjFfdAbe9O1nzAzs+cSrO1/P/RXbugbrvpjMzP7/h1/ZmZmE9TXTn3vn5uZ2Uw/0YJnfevVH3xU6iaoJDhjpbMF1cxO19Ul49IEC6Kdhr6KDevhkHl2DJXb0kx7hd8R9HadiXFNWZhsv/M+rHu6SFU4T2ySoOHk4jnMf+pvUFm9it8nrDNsduBSYgOFFKq0CsLVymjlaiR7H9oZVJVzrzMlOD8mGFCZZdpvhcrqSoftYVYiBolc9RE9D5ES2v7hZW7sl25EoP2Cxy/AcXM4T56oW4VZhpqaXjWdH4DaXWU4YvEMGr9/+/VQfX/v5svcWPs1XOeJfjj0yoxqD9SR3G2Fw3YsyiRaRhktACV1SoayS3fy/725zvxd63EuV7Dhwzm45XvX+7SqM+6HJHv8QqAInfZhtDBd+pInzMzsmf7tbmyDvHP9GILD+bW/a2beiI1ykCatsMWQWiK5IgiWl1A6CmkpDRrMR72c38N0rUdRynPeleD2gV/ANrLSVihU/Wwf/MwnUP2tNKEwUVhVPCVnJfPCdePR++X6zFd+LlBoqCIpbGfrMEiGzjMzs8m9D+CHWC58n7zUSwkwTD/80x/Hus/4QyQGV+nw6G15KfjNjwP7RXdRP0V0nIQJ1BaDmyucolcFtfdQki0butZNOXjwNq4N92yjjfIXaCeRQ9AaD06kk+rmdLUIS7xEi8rA8rAcnrG8/czMzAqSzeWwQhxUsh/xaBP4oue/YyilYQcQTu+TnPMQj88rVdBxx+xYlEm0jDJaAEoGajIS+E3w14sqnT/1qQJjFi5k9e+rBjBSyQroq6d9HMHoH96I8oxT7oCL+pR+zypScbS14CpzB4DJUF6iykCcYLa13M3JtaHHC8xJ4LqsLrFGU58DmUMEKCEbjXGT29jt+6obtrihA2TnURVSdXFBhaAw8No1dhJJgo6KfkM8X+fX1aIXmTNFFOnUaXOUaWMuZkfziAHmXNFLHKEWH9gNSTY8hILP58ZQ8Fko+VBGREleZkPDdUzcfeJjSKtS0lBQRWT9Cvort0hQGzpmGLDu3JqAuWzpErSqnZ/F/ZmZut+NWTd8lpmZPfnUjWZm1sOgf1+Z0rEFSddq+5QmBYUjVZgSfLNIXJZi01/TaIAL/hUmNQeJG0l0qrkc8RiDTklDbMHZpwyvyTnO4RpqAbLVCNYXLca9qhMBuTYNyZyWM8yQjDL6T0FJt60QBhpd4xYNalCEsXLygau+ZWZm5335jX7SGnCGg+sgnU65Dx6hvz8b+vPr/vbP3dCIeaNTS+HN6bXv8BfZcbB+coFE6+9D0nLSAOfsKf/QzMwm9gPz3/X96ggiqnyla6uEJf6rj13mRl5/9fvxRpUPA8SuJyZ/rqAalRD+gEfMgbOqKLJKbv+sbXVDr9mBxOzRCrAHj6si7ej2YeDfHx8D/ban7dN6erjiNoPbO3dBki1djXXv2bfFjS3FvADs0GNNSMYBuir7pQGEAWWlSAnK0vVWw15zQQOwnBCsKOZc77kGS1TYQ6AR2pgjj5iZ2abhM83MbGzk6/hBdnRZ0iP03knzkbqkpACe8TR/g9/6awiaP3Ih0IzP2vLXmLkcD+p2ls0keS8FB2qAMrCZYTMzu+89SP9721cI2xDUJ1v79zGnyVRD7tFWSgU4dsQ6k2gZZbQAlDzXBz2zQq5ZCcozmuqZpn8sO8888g4g2573F8Bsf/gt33dzzn4CqLOHmAK1uAAl+HVbIMm+ev7X3NhzvgJO0WdId9nF3mPrHDQCjhGE0azdAsevxyh1KbbIBR1+v3Wu2TxOpGyRFeTYfUyDChuH7FoEUfapq7DHzWpg31bwiojCiZ/lAHso7Oq0L3axk+XmX252Y5/+jX/BfH7eS5z788dhd31jNbj/htmApZbZgJ0dbBSz2jW5xczMlq/ynWHGxyAZ8yymVNGp64DC1KV26mNjUVcjIcUiy2yo3goqJh1+PtegjKxImP4MEOaDjqLyoG7bAUm2YgXSy8ZHYbendcRN2wWfnieoUOFpqleB6+UQ7XNjV5Vh38YzAOWx3fwhhsq0gR1eOyAHmGolp2Nu/r/hDde9I+/tRZ2zv6juoxXuFAfMh61EX4QyiZZRRgtA2R8to4wWgJJv2TfNzOxbP0Ew7kOv+JD7cZBVrn1SF5ynNe343FsLdI8J/Hc3HgeX7u4ZqEKLemGonnPvOj926ttmZhYfhH6w5EQEu1PBNKcMOAbsoFx6DG9SHCef0HGSQG1ock35XKDuCGGKB5IzvEJXfkf/uzZ+3XwnVMabr0Crqnd/9u08D16aFb9ntVqS6thgIH8fMSbmBqftWDSyBIb7YdVFzQ/7H4tKhaMKSa9Oi96LMTYSNDNbN/weMzPbMQr4djk9itS9BEHeCCKyulIKiCS8LnGspujBDehCfBL8eRopYMAq58A/wER/p0LuGIfKuGYdqrRHiLYVcv2iOlV1n1d1aUmgm/IG/v79qHN78GI41c795Btw3KNBevA5ufeDqOq+aMvruEjuK+it+zM2IPzoz5G6d8uJSLl7mW3kujueoKNSJtEyymgBKBo6tCo1M9s0hpqgV0yc5H58/+tvNDOzHla5Ds6Cs95zJlJq3n4j0my+e8133ZzXPgCuYrJrB//ezMyq9pSZmZUtSI0yuLbvvhi1a5d+nM3CVXfVFTA3861pmRvrAptqYaSE2zhItI3ImfWN5Ms8efh573iXG3vX7VjLJkGCUMDceSkk2xV3ULJ54CyzHnkEcJ5pNv/bwZSi65++3g2dXAcHyc4ynFDNCha+fg+449dWox7t+AMb/fHlF8mzpiyCE6euavMAkkuNNVavQn3Y3r1Iko0lwJTnHGBO5SjjdZRYratcd/cglNEG927TqSINoqcXjTFigihWZx72c3jgOIcgcYud2uXoWDuEazqx5x43xTlo5EpvMRs7h7W2Uy/R4hbf60GhH+O+P0A62MrDfBgTf52eX4LwypVfYjNN+TMoOfctHnVjz/nXN+G7ZdA6Xr4dFeH3n/ogpx67W3wm0TLKaAEoeij9Wmpm9sTj0Gv/9LQPuB/LTJ5skeP1kbHd/Sa4vi/9AOyYn2727v2Xf/m38GYYL61BlJM0DYha+cCZ7trWNlEm89hJcNme/g22OWUHqenIBzJ7mHCcaxIRWW5m6vRRly5v5tvhymBxHIgu+wBky3wWEuResUpxwpjqF66CPXTxXd6lLiyV+f7OPLYGFf598iGb2fXfQ0LzgSVI2+mbB3f/6EnQ+4cNrYD66j6tStXvUZcXudUitw+QkmOFIbiUteuuMDOz7aN34nceth247IuxrguOI7hIl3oVtNqyWHushKexct+r+A7nrx75oT++1s32T222a2pTIituvWrZ292cvfsg3eTWjwt6bmQ7BbZ+u+uNROU8r4s89aF9KS2hh8drq4IeEnu66N37vzK0iPrQD1A69Tenwt9wQvPl3HKISHl0yiRaRhktAEV70snUzGyIRkc8F7BNcpOasNLJ7j9/DrjNJTeAAz35vsfclN9+iLgMMPlslkylIpsnBNflb1N02gz8AK/3/wkQod56H3Ecgm4ybSb5tsnFtVr12XPcLdiGS1DVj1UuRonHec/qalGLy4QULTH9NneEBiPrPe+88lNuzhVfZEBaMVudW1jwZS9etxtsgykeaAWPf5xt4GCsaTZwqlV0IEoCF8QVWEXsUYHlU22Qm8tUHT4Okm1sDJItDFI7+JOInFnoV7R9olwQ3E5nOEToycVwqy4ROYyBq/VvZ4cCn+rVUOeb4NlYx8aYO3agGLXMZyRJcO8OB70JFqVUKQT5yWs3xWTyGpGSewKR1uNkjHodlDv2FQo/ySs9PyqhKkqcdwX8j0aZRMsoowWgqJnCysnNdbXMMJ9D3GZJR3GWXi6aHPduRpeZi+78Az+J+b9VugULzGlxamyYf0lOMM/XksYQfu/htyJ59ux7LvVzqJpPlbgmxjBKcn+RFQVV6+6UeVYwRnKrOdzIgCW1wKGrOYlgzOmRh28y6ZhqZvbpzbBZr/kM07V8QzYzM2sUPPed4rVUbKqPHDSpK9sXn+sBCyyQp4rbqpVxQXlKkee/KQ25WixODSLYrh2/BjiMI6Of8XO4pbzSynLqfjDErfqL6YpbKS2akdK01OetW275RyqvuS6rG4tqMl2sHsSjGry+G1cBcXn3Ltiwstlmit7W72tB20hYSqPC1SqzCSXRiqFdyucyogbQtk4NKVBynIkaq9Ufv++2mf89yiRaRhktAEWz6RQkGl1nnfi18LyVlGRao5dQzESFn0H+6zxdPAOCRmDLzFYCLjkXiIISdeukClTYX1RQkv7S6n/BAFaVP3rdQ27Omx9A10tbjjW1lSnKri8urhbso023ViwJQA7eJr/Pp97Dl6MomeNXCWte8pEanZNjHwl4FANzd10N2/Lyz9O2ZKytGXilkkaxc4G8hvO0sxJ1Y2kFqgXt0RqRcHIE/UncZsPuo3iZUTULvxaHVt/39Rve56bsGIcdpETgOIaLtcVSnXrkK3vLekCk7TgUIZ2pU5KGv7n4nPAu5dmLYQ/Xg4T2VhsGb56Xbs3QRWZmtmfiXuwvAAeuyPOsNqMSNYJYPordLsOxSTu3RZTmou5vkNqSsrNPjXahurMmvNh5C4CgXoQyiZZRRgtA2R8to4wWgKJaOpOamcXUBdqBN6TpMPXwWmbCrTXkFsfLVIgzQjXTtY2gutOialQNlNMi/bCFOnSsyRJUiIJw8+Tj9qVHdu8lcE9fdA/c1eruM8PYQ4tifSANxLm0S6kJ0iVYR1SIci8Yq3as0iBSqsBNVljn0iBIrJwuqmW3XIMk2XdtYepV4Kp3Gc0qYXPQj2pcj+sVpqnWVSHukMpIgkpvBTeAyFXyDTXpcMir4ppqZi3Icz5+E8ITO8YQsmCWk4PADvVAl6nNNadqAAABg0lEQVSk6/OCBAG+yflJ9S6EtZxzigjgBapZM3DZt3nR8k0FkvGyYjUaiuwdv8ONVQZWgyljxYgYkC0+A0p6D93wuhxM1M7pi4YKGoNNM0lcuKOxj3ZzbmioHJ0yiZZRRgtAUTpPK7Czdx6IrHMuLxRj/PtlsFuDciv486vYVNAVKQ+fksU2g7FKm5LNWiAWyf6VSIvZx6Dxb1Q3+EnP4OU71wBr7w2PA21rchBzimRb/bWgFZOkVFGRWKzF5cwGAm2WAdFKKjEYQHyZZ461INFWAqs0TVHAoPbdV6Bp36VfeJs/wFIct0ZMwEQBcTFzrmU+9lyywQ2UmF6V17q5ljT2DqbIYUq6UnNsmbUiLVe17r0JbU5fNQwszm3jSDGqOMkW1pkosEvszW7sSgW9A5yRWtxZRqKEcD1qeibawbAcr2/M5OEmO3vUOfbEFT4RfOs+JILXOT91iNfCNcFaw0Qp6TsFPRI1lgYVjhJ91kmlQTAEIx9U/P8hrjKJllFGC0D/BuC2+QkjXJb5AAAAAElFTkSuQmCC\" y=\"-10.14\"/>\r\n",
       "   </g>\r\n",
       "   <g id=\"matplotlib.axis_1\">\r\n",
       "    <g id=\"xtick_1\">\r\n",
       "     <g id=\"line2d_1\">\r\n",
       "      <defs>\r\n",
       "       <path d=\"M 0 0 \r\n",
       "L 0 3.5 \r\n",
       "\" id=\"mc5547c014f\" style=\"stroke:#000000;stroke-width:0.8;\"/>\r\n",
       "      </defs>\r\n",
       "      <g>\r\n",
       "       <use style=\"stroke:#000000;stroke-width:0.8;\" x=\"28.0122\" xlink:href=\"#mc5547c014f\" y=\"228.14\"/>\r\n",
       "      </g>\r\n",
       "     </g>\r\n",
       "     <g id=\"text_1\">\r\n",
       "      <!-- 0 -->\r\n",
       "      <defs>\r\n",
       "       <path d=\"M 31.78125 66.40625 \r\n",
       "Q 24.171875 66.40625 20.328125 58.90625 \r\n",
       "Q 16.5 51.421875 16.5 36.375 \r\n",
       "Q 16.5 21.390625 20.328125 13.890625 \r\n",
       "Q 24.171875 6.390625 31.78125 6.390625 \r\n",
       "Q 39.453125 6.390625 43.28125 13.890625 \r\n",
       "Q 47.125 21.390625 47.125 36.375 \r\n",
       "Q 47.125 51.421875 43.28125 58.90625 \r\n",
       "Q 39.453125 66.40625 31.78125 66.40625 \r\n",
       "z\r\n",
       "M 31.78125 74.21875 \r\n",
       "Q 44.046875 74.21875 50.515625 64.515625 \r\n",
       "Q 56.984375 54.828125 56.984375 36.375 \r\n",
       "Q 56.984375 17.96875 50.515625 8.265625 \r\n",
       "Q 44.046875 -1.421875 31.78125 -1.421875 \r\n",
       "Q 19.53125 -1.421875 13.0625 8.265625 \r\n",
       "Q 6.59375 17.96875 6.59375 36.375 \r\n",
       "Q 6.59375 54.828125 13.0625 64.515625 \r\n",
       "Q 19.53125 74.21875 31.78125 74.21875 \r\n",
       "z\r\n",
       "\" id=\"DejaVuSans-48\"/>\r\n",
       "      </defs>\r\n",
       "      <g transform=\"translate(24.83095 242.738437)scale(0.1 -0.1)\">\r\n",
       "       <use xlink:href=\"#DejaVuSans-48\"/>\r\n",
       "      </g>\r\n",
       "     </g>\r\n",
       "    </g>\r\n",
       "    <g id=\"xtick_2\">\r\n",
       "     <g id=\"line2d_2\">\r\n",
       "      <g>\r\n",
       "       <use style=\"stroke:#000000;stroke-width:0.8;\" x=\"71.5002\" xlink:href=\"#mc5547c014f\" y=\"228.14\"/>\r\n",
       "      </g>\r\n",
       "     </g>\r\n",
       "     <g id=\"text_2\">\r\n",
       "      <!-- 20 -->\r\n",
       "      <defs>\r\n",
       "       <path d=\"M 19.1875 8.296875 \r\n",
       "L 53.609375 8.296875 \r\n",
       "L 53.609375 0 \r\n",
       "L 7.328125 0 \r\n",
       "L 7.328125 8.296875 \r\n",
       "Q 12.9375 14.109375 22.625 23.890625 \r\n",
       "Q 32.328125 33.6875 34.8125 36.53125 \r\n",
       "Q 39.546875 41.84375 41.421875 45.53125 \r\n",
       "Q 43.3125 49.21875 43.3125 52.78125 \r\n",
       "Q 43.3125 58.59375 39.234375 62.25 \r\n",
       "Q 35.15625 65.921875 28.609375 65.921875 \r\n",
       "Q 23.96875 65.921875 18.8125 64.3125 \r\n",
       "Q 13.671875 62.703125 7.8125 59.421875 \r\n",
       "L 7.8125 69.390625 \r\n",
       "Q 13.765625 71.78125 18.9375 73 \r\n",
       "Q 24.125 74.21875 28.421875 74.21875 \r\n",
       "Q 39.75 74.21875 46.484375 68.546875 \r\n",
       "Q 53.21875 62.890625 53.21875 53.421875 \r\n",
       "Q 53.21875 48.921875 51.53125 44.890625 \r\n",
       "Q 49.859375 40.875 45.40625 35.40625 \r\n",
       "Q 44.1875 33.984375 37.640625 27.21875 \r\n",
       "Q 31.109375 20.453125 19.1875 8.296875 \r\n",
       "z\r\n",
       "\" id=\"DejaVuSans-50\"/>\r\n",
       "      </defs>\r\n",
       "      <g transform=\"translate(65.1377 242.738437)scale(0.1 -0.1)\">\r\n",
       "       <use xlink:href=\"#DejaVuSans-50\"/>\r\n",
       "       <use x=\"63.623047\" xlink:href=\"#DejaVuSans-48\"/>\r\n",
       "      </g>\r\n",
       "     </g>\r\n",
       "    </g>\r\n",
       "    <g id=\"xtick_3\">\r\n",
       "     <g id=\"line2d_3\">\r\n",
       "      <g>\r\n",
       "       <use style=\"stroke:#000000;stroke-width:0.8;\" x=\"114.9882\" xlink:href=\"#mc5547c014f\" y=\"228.14\"/>\r\n",
       "      </g>\r\n",
       "     </g>\r\n",
       "     <g id=\"text_3\">\r\n",
       "      <!-- 40 -->\r\n",
       "      <defs>\r\n",
       "       <path d=\"M 37.796875 64.3125 \r\n",
       "L 12.890625 25.390625 \r\n",
       "L 37.796875 25.390625 \r\n",
       "z\r\n",
       "M 35.203125 72.90625 \r\n",
       "L 47.609375 72.90625 \r\n",
       "L 47.609375 25.390625 \r\n",
       "L 58.015625 25.390625 \r\n",
       "L 58.015625 17.1875 \r\n",
       "L 47.609375 17.1875 \r\n",
       "L 47.609375 0 \r\n",
       "L 37.796875 0 \r\n",
       "L 37.796875 17.1875 \r\n",
       "L 4.890625 17.1875 \r\n",
       "L 4.890625 26.703125 \r\n",
       "z\r\n",
       "\" id=\"DejaVuSans-52\"/>\r\n",
       "      </defs>\r\n",
       "      <g transform=\"translate(108.6257 242.738437)scale(0.1 -0.1)\">\r\n",
       "       <use xlink:href=\"#DejaVuSans-52\"/>\r\n",
       "       <use x=\"63.623047\" xlink:href=\"#DejaVuSans-48\"/>\r\n",
       "      </g>\r\n",
       "     </g>\r\n",
       "    </g>\r\n",
       "    <g id=\"xtick_4\">\r\n",
       "     <g id=\"line2d_4\">\r\n",
       "      <g>\r\n",
       "       <use style=\"stroke:#000000;stroke-width:0.8;\" x=\"158.4762\" xlink:href=\"#mc5547c014f\" y=\"228.14\"/>\r\n",
       "      </g>\r\n",
       "     </g>\r\n",
       "     <g id=\"text_4\">\r\n",
       "      <!-- 60 -->\r\n",
       "      <defs>\r\n",
       "       <path d=\"M 33.015625 40.375 \r\n",
       "Q 26.375 40.375 22.484375 35.828125 \r\n",
       "Q 18.609375 31.296875 18.609375 23.390625 \r\n",
       "Q 18.609375 15.53125 22.484375 10.953125 \r\n",
       "Q 26.375 6.390625 33.015625 6.390625 \r\n",
       "Q 39.65625 6.390625 43.53125 10.953125 \r\n",
       "Q 47.40625 15.53125 47.40625 23.390625 \r\n",
       "Q 47.40625 31.296875 43.53125 35.828125 \r\n",
       "Q 39.65625 40.375 33.015625 40.375 \r\n",
       "z\r\n",
       "M 52.59375 71.296875 \r\n",
       "L 52.59375 62.3125 \r\n",
       "Q 48.875 64.0625 45.09375 64.984375 \r\n",
       "Q 41.3125 65.921875 37.59375 65.921875 \r\n",
       "Q 27.828125 65.921875 22.671875 59.328125 \r\n",
       "Q 17.53125 52.734375 16.796875 39.40625 \r\n",
       "Q 19.671875 43.65625 24.015625 45.921875 \r\n",
       "Q 28.375 48.1875 33.59375 48.1875 \r\n",
       "Q 44.578125 48.1875 50.953125 41.515625 \r\n",
       "Q 57.328125 34.859375 57.328125 23.390625 \r\n",
       "Q 57.328125 12.15625 50.6875 5.359375 \r\n",
       "Q 44.046875 -1.421875 33.015625 -1.421875 \r\n",
       "Q 20.359375 -1.421875 13.671875 8.265625 \r\n",
       "Q 6.984375 17.96875 6.984375 36.375 \r\n",
       "Q 6.984375 53.65625 15.1875 63.9375 \r\n",
       "Q 23.390625 74.21875 37.203125 74.21875 \r\n",
       "Q 40.921875 74.21875 44.703125 73.484375 \r\n",
       "Q 48.484375 72.75 52.59375 71.296875 \r\n",
       "z\r\n",
       "\" id=\"DejaVuSans-54\"/>\r\n",
       "      </defs>\r\n",
       "      <g transform=\"translate(152.1137 242.738437)scale(0.1 -0.1)\">\r\n",
       "       <use xlink:href=\"#DejaVuSans-54\"/>\r\n",
       "       <use x=\"63.623047\" xlink:href=\"#DejaVuSans-48\"/>\r\n",
       "      </g>\r\n",
       "     </g>\r\n",
       "    </g>\r\n",
       "    <g id=\"xtick_5\">\r\n",
       "     <g id=\"line2d_5\">\r\n",
       "      <g>\r\n",
       "       <use style=\"stroke:#000000;stroke-width:0.8;\" x=\"201.9642\" xlink:href=\"#mc5547c014f\" y=\"228.14\"/>\r\n",
       "      </g>\r\n",
       "     </g>\r\n",
       "     <g id=\"text_5\">\r\n",
       "      <!-- 80 -->\r\n",
       "      <defs>\r\n",
       "       <path d=\"M 31.78125 34.625 \r\n",
       "Q 24.75 34.625 20.71875 30.859375 \r\n",
       "Q 16.703125 27.09375 16.703125 20.515625 \r\n",
       "Q 16.703125 13.921875 20.71875 10.15625 \r\n",
       "Q 24.75 6.390625 31.78125 6.390625 \r\n",
       "Q 38.8125 6.390625 42.859375 10.171875 \r\n",
       "Q 46.921875 13.96875 46.921875 20.515625 \r\n",
       "Q 46.921875 27.09375 42.890625 30.859375 \r\n",
       "Q 38.875 34.625 31.78125 34.625 \r\n",
       "z\r\n",
       "M 21.921875 38.8125 \r\n",
       "Q 15.578125 40.375 12.03125 44.71875 \r\n",
       "Q 8.5 49.078125 8.5 55.328125 \r\n",
       "Q 8.5 64.0625 14.71875 69.140625 \r\n",
       "Q 20.953125 74.21875 31.78125 74.21875 \r\n",
       "Q 42.671875 74.21875 48.875 69.140625 \r\n",
       "Q 55.078125 64.0625 55.078125 55.328125 \r\n",
       "Q 55.078125 49.078125 51.53125 44.71875 \r\n",
       "Q 48 40.375 41.703125 38.8125 \r\n",
       "Q 48.828125 37.15625 52.796875 32.3125 \r\n",
       "Q 56.78125 27.484375 56.78125 20.515625 \r\n",
       "Q 56.78125 9.90625 50.3125 4.234375 \r\n",
       "Q 43.84375 -1.421875 31.78125 -1.421875 \r\n",
       "Q 19.734375 -1.421875 13.25 4.234375 \r\n",
       "Q 6.78125 9.90625 6.78125 20.515625 \r\n",
       "Q 6.78125 27.484375 10.78125 32.3125 \r\n",
       "Q 14.796875 37.15625 21.921875 38.8125 \r\n",
       "z\r\n",
       "M 18.3125 54.390625 \r\n",
       "Q 18.3125 48.734375 21.84375 45.5625 \r\n",
       "Q 25.390625 42.390625 31.78125 42.390625 \r\n",
       "Q 38.140625 42.390625 41.71875 45.5625 \r\n",
       "Q 45.3125 48.734375 45.3125 54.390625 \r\n",
       "Q 45.3125 60.0625 41.71875 63.234375 \r\n",
       "Q 38.140625 66.40625 31.78125 66.40625 \r\n",
       "Q 25.390625 66.40625 21.84375 63.234375 \r\n",
       "Q 18.3125 60.0625 18.3125 54.390625 \r\n",
       "z\r\n",
       "\" id=\"DejaVuSans-56\"/>\r\n",
       "      </defs>\r\n",
       "      <g transform=\"translate(195.6017 242.738437)scale(0.1 -0.1)\">\r\n",
       "       <use xlink:href=\"#DejaVuSans-56\"/>\r\n",
       "       <use x=\"63.623047\" xlink:href=\"#DejaVuSans-48\"/>\r\n",
       "      </g>\r\n",
       "     </g>\r\n",
       "    </g>\r\n",
       "   </g>\r\n",
       "   <g id=\"matplotlib.axis_2\">\r\n",
       "    <g id=\"ytick_1\">\r\n",
       "     <g id=\"line2d_6\">\r\n",
       "      <defs>\r\n",
       "       <path d=\"M 0 0 \r\n",
       "L -3.5 0 \r\n",
       "\" id=\"mf5b78a758b\" style=\"stroke:#000000;stroke-width:0.8;\"/>\r\n",
       "      </defs>\r\n",
       "      <g>\r\n",
       "       <use style=\"stroke:#000000;stroke-width:0.8;\" x=\"26.925\" xlink:href=\"#mf5b78a758b\" y=\"11.7872\"/>\r\n",
       "      </g>\r\n",
       "     </g>\r\n",
       "     <g id=\"text_6\">\r\n",
       "      <!-- 0 -->\r\n",
       "      <g transform=\"translate(13.5625 15.586419)scale(0.1 -0.1)\">\r\n",
       "       <use xlink:href=\"#DejaVuSans-48\"/>\r\n",
       "      </g>\r\n",
       "     </g>\r\n",
       "    </g>\r\n",
       "    <g id=\"ytick_2\">\r\n",
       "     <g id=\"line2d_7\">\r\n",
       "      <g>\r\n",
       "       <use style=\"stroke:#000000;stroke-width:0.8;\" x=\"26.925\" xlink:href=\"#mf5b78a758b\" y=\"55.2752\"/>\r\n",
       "      </g>\r\n",
       "     </g>\r\n",
       "     <g id=\"text_7\">\r\n",
       "      <!-- 20 -->\r\n",
       "      <g transform=\"translate(7.2 59.074419)scale(0.1 -0.1)\">\r\n",
       "       <use xlink:href=\"#DejaVuSans-50\"/>\r\n",
       "       <use x=\"63.623047\" xlink:href=\"#DejaVuSans-48\"/>\r\n",
       "      </g>\r\n",
       "     </g>\r\n",
       "    </g>\r\n",
       "    <g id=\"ytick_3\">\r\n",
       "     <g id=\"line2d_8\">\r\n",
       "      <g>\r\n",
       "       <use style=\"stroke:#000000;stroke-width:0.8;\" x=\"26.925\" xlink:href=\"#mf5b78a758b\" y=\"98.7632\"/>\r\n",
       "      </g>\r\n",
       "     </g>\r\n",
       "     <g id=\"text_8\">\r\n",
       "      <!-- 40 -->\r\n",
       "      <g transform=\"translate(7.2 102.562419)scale(0.1 -0.1)\">\r\n",
       "       <use xlink:href=\"#DejaVuSans-52\"/>\r\n",
       "       <use x=\"63.623047\" xlink:href=\"#DejaVuSans-48\"/>\r\n",
       "      </g>\r\n",
       "     </g>\r\n",
       "    </g>\r\n",
       "    <g id=\"ytick_4\">\r\n",
       "     <g id=\"line2d_9\">\r\n",
       "      <g>\r\n",
       "       <use style=\"stroke:#000000;stroke-width:0.8;\" x=\"26.925\" xlink:href=\"#mf5b78a758b\" y=\"142.2512\"/>\r\n",
       "      </g>\r\n",
       "     </g>\r\n",
       "     <g id=\"text_9\">\r\n",
       "      <!-- 60 -->\r\n",
       "      <g transform=\"translate(7.2 146.050419)scale(0.1 -0.1)\">\r\n",
       "       <use xlink:href=\"#DejaVuSans-54\"/>\r\n",
       "       <use x=\"63.623047\" xlink:href=\"#DejaVuSans-48\"/>\r\n",
       "      </g>\r\n",
       "     </g>\r\n",
       "    </g>\r\n",
       "    <g id=\"ytick_5\">\r\n",
       "     <g id=\"line2d_10\">\r\n",
       "      <g>\r\n",
       "       <use style=\"stroke:#000000;stroke-width:0.8;\" x=\"26.925\" xlink:href=\"#mf5b78a758b\" y=\"185.7392\"/>\r\n",
       "      </g>\r\n",
       "     </g>\r\n",
       "     <g id=\"text_10\">\r\n",
       "      <!-- 80 -->\r\n",
       "      <g transform=\"translate(7.2 189.538419)scale(0.1 -0.1)\">\r\n",
       "       <use xlink:href=\"#DejaVuSans-56\"/>\r\n",
       "       <use x=\"63.623047\" xlink:href=\"#DejaVuSans-48\"/>\r\n",
       "      </g>\r\n",
       "     </g>\r\n",
       "    </g>\r\n",
       "   </g>\r\n",
       "   <g id=\"patch_3\">\r\n",
       "    <path d=\"M 26.925 228.14 \r\n",
       "L 26.925 10.7 \r\n",
       "\" style=\"fill:none;stroke:#000000;stroke-linecap:square;stroke-linejoin:miter;stroke-width:0.8;\"/>\r\n",
       "   </g>\r\n",
       "   <g id=\"patch_4\">\r\n",
       "    <path d=\"M 244.365 228.14 \r\n",
       "L 244.365 10.7 \r\n",
       "\" style=\"fill:none;stroke:#000000;stroke-linecap:square;stroke-linejoin:miter;stroke-width:0.8;\"/>\r\n",
       "   </g>\r\n",
       "   <g id=\"patch_5\">\r\n",
       "    <path d=\"M 26.925 228.14 \r\n",
       "L 244.365 228.14 \r\n",
       "\" style=\"fill:none;stroke:#000000;stroke-linecap:square;stroke-linejoin:miter;stroke-width:0.8;\"/>\r\n",
       "   </g>\r\n",
       "   <g id=\"patch_6\">\r\n",
       "    <path d=\"M 26.925 10.7 \r\n",
       "L 244.365 10.7 \r\n",
       "\" style=\"fill:none;stroke:#000000;stroke-linecap:square;stroke-linejoin:miter;stroke-width:0.8;\"/>\r\n",
       "   </g>\r\n",
       "  </g>\r\n",
       " </g>\r\n",
       " <defs>\r\n",
       "  <clipPath id=\"p637356dcb8\">\r\n",
       "   <rect height=\"217.44\" width=\"217.44\" x=\"26.925\" y=\"10.7\"/>\r\n",
       "  </clipPath>\r\n",
       " </defs>\r\n",
       "</svg>\r\n"
      ],
      "text/plain": [
       "<Figure size 432x288 with 1 Axes>"
      ]
     },
     "metadata": {
      "needs_background": "light"
     },
     "output_type": "display_data"
    }
   ],
   "source": [
    "import matplotlib.image as img\n",
    "import matplotlib.pyplot as plt\n",
    "%matplotlib inline\n",
    "\n",
    "image = img.imread(\"Colorblk.jpg\")\n",
    "print(image.shape)\n",
    "print(image.size)\n",
    "plt.imshow(image)\n",
    "plt.show()"
   ]
  },
  {
   "cell_type": "code",
   "execution_count": 35,
   "metadata": {},
   "outputs": [
    {
     "name": "stdout",
     "output_type": "stream",
     "text": [
      "Reading Line: 0 Content: Color\tValue\n",
      "\n",
      "Reading Line: 2 Content: Orange\t2\n",
      "\n",
      "Reading Line: 4 Content: Green\t4\n",
      "\n",
      "Reading Line: 6 Content: Purple\t6\n",
      "\n",
      "Reading Line: 8 Content: White\t8\n"
     ]
    }
   ],
   "source": [
    "n = 2\n",
    "with open(\"Colors.txt\", 'r') as open_file:\n",
    "    for j, observation in enumerate(open_file):\n",
    "        if j % n==0:\n",
    "            print('Reading Line: ' + str(j) +\n",
    "            ' Content: ' + observation)"
   ]
  },
  {
   "cell_type": "code",
   "execution_count": 37,
   "metadata": {},
   "outputs": [
    {
     "name": "stdout",
     "output_type": "stream",
     "text": [
      "Reading Line: 2 Content: Orange\t2\n",
      "\n",
      "Reading Line: 4 Content: Green\t4\n",
      "\n"
     ]
    }
   ],
   "source": [
    "from random import random\n",
    "sample_size = 0.25\n",
    "with open(\"Colors.txt\", 'r') as open_file:\n",
    "    for j, observation in enumerate(open_file):\n",
    "        if random()<=sample_size:\n",
    "            print('Reading Line: ' + str(j) +\n",
    "            ' Content: ' + observation)"
   ]
  },
  {
   "cell_type": "code",
   "execution_count": 39,
   "metadata": {},
   "outputs": [
    {
     "name": "stdout",
     "output_type": "stream",
     "text": [
      "    Color  Value\n",
      "0     Red      1\n",
      "1  Orange      2\n",
      "2  Yellow      3\n",
      "3   Green      4\n",
      "4    Blue      5\n",
      "5  Purple      6\n",
      "6   Black      7\n",
      "7   White      8\n"
     ]
    }
   ],
   "source": [
    "import pandas as pd\n",
    "color_table = pd.io.parsers.read_table(\"Colors.txt\")\n",
    "print(color_table)"
   ]
  },
  {
   "cell_type": "code",
   "execution_count": 40,
   "metadata": {},
   "outputs": [
    {
     "name": "stdout",
     "output_type": "stream",
     "text": [
      "            age\n",
      "0       29.0000\n",
      "1        0.9167\n",
      "2        2.0000\n",
      "3       30.0000\n",
      "4       25.0000\n",
      "...         ...\n",
      "1304    14.5000\n",
      "1305  9999.0000\n",
      "1306    26.5000\n",
      "1307    27.0000\n",
      "1308    29.0000\n",
      "\n",
      "[1309 rows x 1 columns]\n"
     ]
    }
   ],
   "source": [
    "import pandas as pd\n",
    "titanic = pd.io.parsers.read_csv(\"Titanic.csv\")\n",
    "X = titanic[['age']]\n",
    "print(X)"
   ]
  },
  {
   "cell_type": "code",
   "execution_count": 41,
   "metadata": {},
   "outputs": [
    {
     "name": "stdout",
     "output_type": "stream",
     "text": [
      "[[29.        ]\n",
      " [ 0.91670001]\n",
      " [ 2.        ]\n",
      " ...\n",
      " [26.5       ]\n",
      " [27.        ]\n",
      " [29.        ]]\n"
     ]
    }
   ],
   "source": [
    "X = titanic[['age']].values\n",
    "print(X)"
   ]
  },
  {
   "cell_type": "code",
   "execution_count": 42,
   "metadata": {},
   "outputs": [
    {
     "name": "stdout",
     "output_type": "stream",
     "text": [
      "    Angle (Degrees)      Sine    Cosine    Tangent\n",
      "0        138.550574  0.661959 -0.749540  -0.883153\n",
      "1        305.535745 -0.813753  0.581211  -1.400100\n",
      "2        280.518695 -0.983195  0.182556  -5.385709\n",
      "3        216.363795 -0.592910 -0.805269   0.736289\n",
      "4         36.389247  0.593268  0.805005   0.736974\n",
      "..              ...       ...       ...        ...\n",
      "67       324.199562 -0.584964  0.811059  -0.721234\n",
      "68       187.948172 -0.138277 -0.990394   0.139619\n",
      "69       270.678249 -0.999930  0.011837 -84.472139\n",
      "70       270.779159 -0.999908  0.013598 -73.530885\n",
      "71       200.213513 -0.345520 -0.938412   0.368196\n",
      "\n",
      "[72 rows x 4 columns]\n"
     ]
    }
   ],
   "source": [
    "import pandas as pd\n",
    "xls = pd.ExcelFile(\"Values.xls\")\n",
    "trig_values = xls.parse('Sheet1', index_col=None,\n",
    "                        na_values=['NA'])\n",
    "print(trig_values)"
   ]
  },
  {
   "cell_type": "code",
   "execution_count": 44,
   "metadata": {},
   "outputs": [
    {
     "data": {
      "application/pdf": "[encoded data removed]",
      "image/svg+xml": [
       "<?xml version=\"1.0\" encoding=\"utf-8\" standalone=\"no\"?>\r\n",
       "<!DOCTYPE svg PUBLIC \"-//W3C//DTD SVG 1.1//EN\"\r\n",
       "  \"http://www.w3.org/Graphics/SVG/1.1/DTD/svg11.dtd\">\r\n",
       "<!-- Created with matplotlib (https://matplotlib.org/) -->\r\n",
       "<svg height=\"252.018125pt\" version=\"1.1\" viewBox=\"0 0 255.065 252.018125\" width=\"255.065pt\" xmlns=\"http://www.w3.org/2000/svg\" xmlns:xlink=\"http://www.w3.org/1999/xlink\">\r\n",
       " <defs>\r\n",
       "  <style type=\"text/css\">\r\n",
       "*{stroke-linecap:butt;stroke-linejoin:round;}\r\n",
       "  </style>\r\n",
       " </defs>\r\n",
       " <g id=\"figure_1\">\r\n",
       "  <g id=\"patch_1\">\r\n",
       "   <path d=\"M 0 252.018125 \r\n",
       "L 255.065 252.018125 \r\n",
       "L 255.065 0 \r\n",
       "L 0 0 \r\n",
       "z\r\n",
       "\" style=\"fill:none;\"/>\r\n",
       "  </g>\r\n",
       "  <g id=\"axes_1\">\r\n",
       "   <g id=\"patch_2\">\r\n",
       "    <path d=\"M 26.925 228.14 \r\n",
       "L 244.365 228.14 \r\n",
       "L 244.365 10.7 \r\n",
       "L 26.925 10.7 \r\n",
       "z\r\n",
       "\" style=\"fill:#ffffff;\"/>\r\n",
       "   </g>\r\n",
       "   <g clip-path=\"url(#p9dfb6a2ea0)\">\r\n",
       "    <image height=\"218\" id=\"image43996ad594\" transform=\"scale(1 -1)translate(0 -218)\" width=\"218\" x=\"26.925\" xlink:href=\"data:image/png;base64,\r\n",
       "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\" y=\"-10.14\"/>\r\n",
       "   </g>\r\n",
       "   <g id=\"matplotlib.axis_1\">\r\n",
       "    <g id=\"xtick_1\">\r\n",
       "     <g id=\"line2d_1\">\r\n",
       "      <defs>\r\n",
       "       <path d=\"M 0 0 \r\n",
       "L 0 3.5 \r\n",
       "\" id=\"mdcbe8888bb\" style=\"stroke:#000000;stroke-width:0.8;\"/>\r\n",
       "      </defs>\r\n",
       "      <g>\r\n",
       "       <use style=\"stroke:#000000;stroke-width:0.8;\" x=\"28.133\" xlink:href=\"#mdcbe8888bb\" y=\"228.14\"/>\r\n",
       "      </g>\r\n",
       "     </g>\r\n",
       "     <g id=\"text_1\">\r\n",
       "      <!-- 0 -->\r\n",
       "      <defs>\r\n",
       "       <path d=\"M 31.78125 66.40625 \r\n",
       "Q 24.171875 66.40625 20.328125 58.90625 \r\n",
       "Q 16.5 51.421875 16.5 36.375 \r\n",
       "Q 16.5 21.390625 20.328125 13.890625 \r\n",
       "Q 24.171875 6.390625 31.78125 6.390625 \r\n",
       "Q 39.453125 6.390625 43.28125 13.890625 \r\n",
       "Q 47.125 21.390625 47.125 36.375 \r\n",
       "Q 47.125 51.421875 43.28125 58.90625 \r\n",
       "Q 39.453125 66.40625 31.78125 66.40625 \r\n",
       "z\r\n",
       "M 31.78125 74.21875 \r\n",
       "Q 44.046875 74.21875 50.515625 64.515625 \r\n",
       "Q 56.984375 54.828125 56.984375 36.375 \r\n",
       "Q 56.984375 17.96875 50.515625 8.265625 \r\n",
       "Q 44.046875 -1.421875 31.78125 -1.421875 \r\n",
       "Q 19.53125 -1.421875 13.0625 8.265625 \r\n",
       "Q 6.59375 17.96875 6.59375 36.375 \r\n",
       "Q 6.59375 54.828125 13.0625 64.515625 \r\n",
       "Q 19.53125 74.21875 31.78125 74.21875 \r\n",
       "z\r\n",
       "\" id=\"DejaVuSans-48\"/>\r\n",
       "      </defs>\r\n",
       "      <g transform=\"translate(24.95175 242.738437)scale(0.1 -0.1)\">\r\n",
       "       <use xlink:href=\"#DejaVuSans-48\"/>\r\n",
       "      </g>\r\n",
       "     </g>\r\n",
       "    </g>\r\n",
       "    <g id=\"xtick_2\">\r\n",
       "     <g id=\"line2d_2\">\r\n",
       "      <g>\r\n",
       "       <use style=\"stroke:#000000;stroke-width:0.8;\" x=\"76.453\" xlink:href=\"#mdcbe8888bb\" y=\"228.14\"/>\r\n",
       "      </g>\r\n",
       "     </g>\r\n",
       "     <g id=\"text_2\">\r\n",
       "      <!-- 20 -->\r\n",
       "      <defs>\r\n",
       "       <path d=\"M 19.1875 8.296875 \r\n",
       "L 53.609375 8.296875 \r\n",
       "L 53.609375 0 \r\n",
       "L 7.328125 0 \r\n",
       "L 7.328125 8.296875 \r\n",
       "Q 12.9375 14.109375 22.625 23.890625 \r\n",
       "Q 32.328125 33.6875 34.8125 36.53125 \r\n",
       "Q 39.546875 41.84375 41.421875 45.53125 \r\n",
       "Q 43.3125 49.21875 43.3125 52.78125 \r\n",
       "Q 43.3125 58.59375 39.234375 62.25 \r\n",
       "Q 35.15625 65.921875 28.609375 65.921875 \r\n",
       "Q 23.96875 65.921875 18.8125 64.3125 \r\n",
       "Q 13.671875 62.703125 7.8125 59.421875 \r\n",
       "L 7.8125 69.390625 \r\n",
       "Q 13.765625 71.78125 18.9375 73 \r\n",
       "Q 24.125 74.21875 28.421875 74.21875 \r\n",
       "Q 39.75 74.21875 46.484375 68.546875 \r\n",
       "Q 53.21875 62.890625 53.21875 53.421875 \r\n",
       "Q 53.21875 48.921875 51.53125 44.890625 \r\n",
       "Q 49.859375 40.875 45.40625 35.40625 \r\n",
       "Q 44.1875 33.984375 37.640625 27.21875 \r\n",
       "Q 31.109375 20.453125 19.1875 8.296875 \r\n",
       "z\r\n",
       "\" id=\"DejaVuSans-50\"/>\r\n",
       "      </defs>\r\n",
       "      <g transform=\"translate(70.0905 242.738437)scale(0.1 -0.1)\">\r\n",
       "       <use xlink:href=\"#DejaVuSans-50\"/>\r\n",
       "       <use x=\"63.623047\" xlink:href=\"#DejaVuSans-48\"/>\r\n",
       "      </g>\r\n",
       "     </g>\r\n",
       "    </g>\r\n",
       "    <g id=\"xtick_3\">\r\n",
       "     <g id=\"line2d_3\">\r\n",
       "      <g>\r\n",
       "       <use style=\"stroke:#000000;stroke-width:0.8;\" x=\"124.773\" xlink:href=\"#mdcbe8888bb\" y=\"228.14\"/>\r\n",
       "      </g>\r\n",
       "     </g>\r\n",
       "     <g id=\"text_3\">\r\n",
       "      <!-- 40 -->\r\n",
       "      <defs>\r\n",
       "       <path d=\"M 37.796875 64.3125 \r\n",
       "L 12.890625 25.390625 \r\n",
       "L 37.796875 25.390625 \r\n",
       "z\r\n",
       "M 35.203125 72.90625 \r\n",
       "L 47.609375 72.90625 \r\n",
       "L 47.609375 25.390625 \r\n",
       "L 58.015625 25.390625 \r\n",
       "L 58.015625 17.1875 \r\n",
       "L 47.609375 17.1875 \r\n",
       "L 47.609375 0 \r\n",
       "L 37.796875 0 \r\n",
       "L 37.796875 17.1875 \r\n",
       "L 4.890625 17.1875 \r\n",
       "L 4.890625 26.703125 \r\n",
       "z\r\n",
       "\" id=\"DejaVuSans-52\"/>\r\n",
       "      </defs>\r\n",
       "      <g transform=\"translate(118.4105 242.738437)scale(0.1 -0.1)\">\r\n",
       "       <use xlink:href=\"#DejaVuSans-52\"/>\r\n",
       "       <use x=\"63.623047\" xlink:href=\"#DejaVuSans-48\"/>\r\n",
       "      </g>\r\n",
       "     </g>\r\n",
       "    </g>\r\n",
       "    <g id=\"xtick_4\">\r\n",
       "     <g id=\"line2d_4\">\r\n",
       "      <g>\r\n",
       "       <use style=\"stroke:#000000;stroke-width:0.8;\" x=\"173.093\" xlink:href=\"#mdcbe8888bb\" y=\"228.14\"/>\r\n",
       "      </g>\r\n",
       "     </g>\r\n",
       "     <g id=\"text_4\">\r\n",
       "      <!-- 60 -->\r\n",
       "      <defs>\r\n",
       "       <path d=\"M 33.015625 40.375 \r\n",
       "Q 26.375 40.375 22.484375 35.828125 \r\n",
       "Q 18.609375 31.296875 18.609375 23.390625 \r\n",
       "Q 18.609375 15.53125 22.484375 10.953125 \r\n",
       "Q 26.375 6.390625 33.015625 6.390625 \r\n",
       "Q 39.65625 6.390625 43.53125 10.953125 \r\n",
       "Q 47.40625 15.53125 47.40625 23.390625 \r\n",
       "Q 47.40625 31.296875 43.53125 35.828125 \r\n",
       "Q 39.65625 40.375 33.015625 40.375 \r\n",
       "z\r\n",
       "M 52.59375 71.296875 \r\n",
       "L 52.59375 62.3125 \r\n",
       "Q 48.875 64.0625 45.09375 64.984375 \r\n",
       "Q 41.3125 65.921875 37.59375 65.921875 \r\n",
       "Q 27.828125 65.921875 22.671875 59.328125 \r\n",
       "Q 17.53125 52.734375 16.796875 39.40625 \r\n",
       "Q 19.671875 43.65625 24.015625 45.921875 \r\n",
       "Q 28.375 48.1875 33.59375 48.1875 \r\n",
       "Q 44.578125 48.1875 50.953125 41.515625 \r\n",
       "Q 57.328125 34.859375 57.328125 23.390625 \r\n",
       "Q 57.328125 12.15625 50.6875 5.359375 \r\n",
       "Q 44.046875 -1.421875 33.015625 -1.421875 \r\n",
       "Q 20.359375 -1.421875 13.671875 8.265625 \r\n",
       "Q 6.984375 17.96875 6.984375 36.375 \r\n",
       "Q 6.984375 53.65625 15.1875 63.9375 \r\n",
       "Q 23.390625 74.21875 37.203125 74.21875 \r\n",
       "Q 40.921875 74.21875 44.703125 73.484375 \r\n",
       "Q 48.484375 72.75 52.59375 71.296875 \r\n",
       "z\r\n",
       "\" id=\"DejaVuSans-54\"/>\r\n",
       "      </defs>\r\n",
       "      <g transform=\"translate(166.7305 242.738437)scale(0.1 -0.1)\">\r\n",
       "       <use xlink:href=\"#DejaVuSans-54\"/>\r\n",
       "       <use x=\"63.623047\" xlink:href=\"#DejaVuSans-48\"/>\r\n",
       "      </g>\r\n",
       "     </g>\r\n",
       "    </g>\r\n",
       "    <g id=\"xtick_5\">\r\n",
       "     <g id=\"line2d_5\">\r\n",
       "      <g>\r\n",
       "       <use style=\"stroke:#000000;stroke-width:0.8;\" x=\"221.413\" xlink:href=\"#mdcbe8888bb\" y=\"228.14\"/>\r\n",
       "      </g>\r\n",
       "     </g>\r\n",
       "     <g id=\"text_5\">\r\n",
       "      <!-- 80 -->\r\n",
       "      <defs>\r\n",
       "       <path d=\"M 31.78125 34.625 \r\n",
       "Q 24.75 34.625 20.71875 30.859375 \r\n",
       "Q 16.703125 27.09375 16.703125 20.515625 \r\n",
       "Q 16.703125 13.921875 20.71875 10.15625 \r\n",
       "Q 24.75 6.390625 31.78125 6.390625 \r\n",
       "Q 38.8125 6.390625 42.859375 10.171875 \r\n",
       "Q 46.921875 13.96875 46.921875 20.515625 \r\n",
       "Q 46.921875 27.09375 42.890625 30.859375 \r\n",
       "Q 38.875 34.625 31.78125 34.625 \r\n",
       "z\r\n",
       "M 21.921875 38.8125 \r\n",
       "Q 15.578125 40.375 12.03125 44.71875 \r\n",
       "Q 8.5 49.078125 8.5 55.328125 \r\n",
       "Q 8.5 64.0625 14.71875 69.140625 \r\n",
       "Q 20.953125 74.21875 31.78125 74.21875 \r\n",
       "Q 42.671875 74.21875 48.875 69.140625 \r\n",
       "Q 55.078125 64.0625 55.078125 55.328125 \r\n",
       "Q 55.078125 49.078125 51.53125 44.71875 \r\n",
       "Q 48 40.375 41.703125 38.8125 \r\n",
       "Q 48.828125 37.15625 52.796875 32.3125 \r\n",
       "Q 56.78125 27.484375 56.78125 20.515625 \r\n",
       "Q 56.78125 9.90625 50.3125 4.234375 \r\n",
       "Q 43.84375 -1.421875 31.78125 -1.421875 \r\n",
       "Q 19.734375 -1.421875 13.25 4.234375 \r\n",
       "Q 6.78125 9.90625 6.78125 20.515625 \r\n",
       "Q 6.78125 27.484375 10.78125 32.3125 \r\n",
       "Q 14.796875 37.15625 21.921875 38.8125 \r\n",
       "z\r\n",
       "M 18.3125 54.390625 \r\n",
       "Q 18.3125 48.734375 21.84375 45.5625 \r\n",
       "Q 25.390625 42.390625 31.78125 42.390625 \r\n",
       "Q 38.140625 42.390625 41.71875 45.5625 \r\n",
       "Q 45.3125 48.734375 45.3125 54.390625 \r\n",
       "Q 45.3125 60.0625 41.71875 63.234375 \r\n",
       "Q 38.140625 66.40625 31.78125 66.40625 \r\n",
       "Q 25.390625 66.40625 21.84375 63.234375 \r\n",
       "Q 18.3125 60.0625 18.3125 54.390625 \r\n",
       "z\r\n",
       "\" id=\"DejaVuSans-56\"/>\r\n",
       "      </defs>\r\n",
       "      <g transform=\"translate(215.0505 242.738437)scale(0.1 -0.1)\">\r\n",
       "       <use xlink:href=\"#DejaVuSans-56\"/>\r\n",
       "       <use x=\"63.623047\" xlink:href=\"#DejaVuSans-48\"/>\r\n",
       "      </g>\r\n",
       "     </g>\r\n",
       "    </g>\r\n",
       "   </g>\r\n",
       "   <g id=\"matplotlib.axis_2\">\r\n",
       "    <g id=\"ytick_1\">\r\n",
       "     <g id=\"line2d_6\">\r\n",
       "      <defs>\r\n",
       "       <path d=\"M 0 0 \r\n",
       "L -3.5 0 \r\n",
       "\" id=\"mdb1263d53a\" style=\"stroke:#000000;stroke-width:0.8;\"/>\r\n",
       "      </defs>\r\n",
       "      <g>\r\n",
       "       <use style=\"stroke:#000000;stroke-width:0.8;\" x=\"26.925\" xlink:href=\"#mdb1263d53a\" y=\"11.908\"/>\r\n",
       "      </g>\r\n",
       "     </g>\r\n",
       "     <g id=\"text_6\">\r\n",
       "      <!-- 0 -->\r\n",
       "      <g transform=\"translate(13.5625 15.707219)scale(0.1 -0.1)\">\r\n",
       "       <use xlink:href=\"#DejaVuSans-48\"/>\r\n",
       "      </g>\r\n",
       "     </g>\r\n",
       "    </g>\r\n",
       "    <g id=\"ytick_2\">\r\n",
       "     <g id=\"line2d_7\">\r\n",
       "      <g>\r\n",
       "       <use style=\"stroke:#000000;stroke-width:0.8;\" x=\"26.925\" xlink:href=\"#mdb1263d53a\" y=\"36.068\"/>\r\n",
       "      </g>\r\n",
       "     </g>\r\n",
       "     <g id=\"text_7\">\r\n",
       "      <!-- 10 -->\r\n",
       "      <defs>\r\n",
       "       <path d=\"M 12.40625 8.296875 \r\n",
       "L 28.515625 8.296875 \r\n",
       "L 28.515625 63.921875 \r\n",
       "L 10.984375 60.40625 \r\n",
       "L 10.984375 69.390625 \r\n",
       "L 28.421875 72.90625 \r\n",
       "L 38.28125 72.90625 \r\n",
       "L 38.28125 8.296875 \r\n",
       "L 54.390625 8.296875 \r\n",
       "L 54.390625 0 \r\n",
       "L 12.40625 0 \r\n",
       "z\r\n",
       "\" id=\"DejaVuSans-49\"/>\r\n",
       "      </defs>\r\n",
       "      <g transform=\"translate(7.2 39.867219)scale(0.1 -0.1)\">\r\n",
       "       <use xlink:href=\"#DejaVuSans-49\"/>\r\n",
       "       <use x=\"63.623047\" xlink:href=\"#DejaVuSans-48\"/>\r\n",
       "      </g>\r\n",
       "     </g>\r\n",
       "    </g>\r\n",
       "    <g id=\"ytick_3\">\r\n",
       "     <g id=\"line2d_8\">\r\n",
       "      <g>\r\n",
       "       <use style=\"stroke:#000000;stroke-width:0.8;\" x=\"26.925\" xlink:href=\"#mdb1263d53a\" y=\"60.228\"/>\r\n",
       "      </g>\r\n",
       "     </g>\r\n",
       "     <g id=\"text_8\">\r\n",
       "      <!-- 20 -->\r\n",
       "      <g transform=\"translate(7.2 64.027219)scale(0.1 -0.1)\">\r\n",
       "       <use xlink:href=\"#DejaVuSans-50\"/>\r\n",
       "       <use x=\"63.623047\" xlink:href=\"#DejaVuSans-48\"/>\r\n",
       "      </g>\r\n",
       "     </g>\r\n",
       "    </g>\r\n",
       "    <g id=\"ytick_4\">\r\n",
       "     <g id=\"line2d_9\">\r\n",
       "      <g>\r\n",
       "       <use style=\"stroke:#000000;stroke-width:0.8;\" x=\"26.925\" xlink:href=\"#mdb1263d53a\" y=\"84.388\"/>\r\n",
       "      </g>\r\n",
       "     </g>\r\n",
       "     <g id=\"text_9\">\r\n",
       "      <!-- 30 -->\r\n",
       "      <defs>\r\n",
       "       <path d=\"M 40.578125 39.3125 \r\n",
       "Q 47.65625 37.796875 51.625 33 \r\n",
       "Q 55.609375 28.21875 55.609375 21.1875 \r\n",
       "Q 55.609375 10.40625 48.1875 4.484375 \r\n",
       "Q 40.765625 -1.421875 27.09375 -1.421875 \r\n",
       "Q 22.515625 -1.421875 17.65625 -0.515625 \r\n",
       "Q 12.796875 0.390625 7.625 2.203125 \r\n",
       "L 7.625 11.71875 \r\n",
       "Q 11.71875 9.328125 16.59375 8.109375 \r\n",
       "Q 21.484375 6.890625 26.8125 6.890625 \r\n",
       "Q 36.078125 6.890625 40.9375 10.546875 \r\n",
       "Q 45.796875 14.203125 45.796875 21.1875 \r\n",
       "Q 45.796875 27.640625 41.28125 31.265625 \r\n",
       "Q 36.765625 34.90625 28.71875 34.90625 \r\n",
       "L 20.21875 34.90625 \r\n",
       "L 20.21875 43.015625 \r\n",
       "L 29.109375 43.015625 \r\n",
       "Q 36.375 43.015625 40.234375 45.921875 \r\n",
       "Q 44.09375 48.828125 44.09375 54.296875 \r\n",
       "Q 44.09375 59.90625 40.109375 62.90625 \r\n",
       "Q 36.140625 65.921875 28.71875 65.921875 \r\n",
       "Q 24.65625 65.921875 20.015625 65.03125 \r\n",
       "Q 15.375 64.15625 9.8125 62.3125 \r\n",
       "L 9.8125 71.09375 \r\n",
       "Q 15.4375 72.65625 20.34375 73.4375 \r\n",
       "Q 25.25 74.21875 29.59375 74.21875 \r\n",
       "Q 40.828125 74.21875 47.359375 69.109375 \r\n",
       "Q 53.90625 64.015625 53.90625 55.328125 \r\n",
       "Q 53.90625 49.265625 50.4375 45.09375 \r\n",
       "Q 46.96875 40.921875 40.578125 39.3125 \r\n",
       "z\r\n",
       "\" id=\"DejaVuSans-51\"/>\r\n",
       "      </defs>\r\n",
       "      <g transform=\"translate(7.2 88.187219)scale(0.1 -0.1)\">\r\n",
       "       <use xlink:href=\"#DejaVuSans-51\"/>\r\n",
       "       <use x=\"63.623047\" xlink:href=\"#DejaVuSans-48\"/>\r\n",
       "      </g>\r\n",
       "     </g>\r\n",
       "    </g>\r\n",
       "    <g id=\"ytick_5\">\r\n",
       "     <g id=\"line2d_10\">\r\n",
       "      <g>\r\n",
       "       <use style=\"stroke:#000000;stroke-width:0.8;\" x=\"26.925\" xlink:href=\"#mdb1263d53a\" y=\"108.548\"/>\r\n",
       "      </g>\r\n",
       "     </g>\r\n",
       "     <g id=\"text_10\">\r\n",
       "      <!-- 40 -->\r\n",
       "      <g transform=\"translate(7.2 112.347219)scale(0.1 -0.1)\">\r\n",
       "       <use xlink:href=\"#DejaVuSans-52\"/>\r\n",
       "       <use x=\"63.623047\" xlink:href=\"#DejaVuSans-48\"/>\r\n",
       "      </g>\r\n",
       "     </g>\r\n",
       "    </g>\r\n",
       "    <g id=\"ytick_6\">\r\n",
       "     <g id=\"line2d_11\">\r\n",
       "      <g>\r\n",
       "       <use style=\"stroke:#000000;stroke-width:0.8;\" x=\"26.925\" xlink:href=\"#mdb1263d53a\" y=\"132.708\"/>\r\n",
       "      </g>\r\n",
       "     </g>\r\n",
       "     <g id=\"text_11\">\r\n",
       "      <!-- 50 -->\r\n",
       "      <defs>\r\n",
       "       <path d=\"M 10.796875 72.90625 \r\n",
       "L 49.515625 72.90625 \r\n",
       "L 49.515625 64.59375 \r\n",
       "L 19.828125 64.59375 \r\n",
       "L 19.828125 46.734375 \r\n",
       "Q 21.96875 47.46875 24.109375 47.828125 \r\n",
       "Q 26.265625 48.1875 28.421875 48.1875 \r\n",
       "Q 40.625 48.1875 47.75 41.5 \r\n",
       "Q 54.890625 34.8125 54.890625 23.390625 \r\n",
       "Q 54.890625 11.625 47.5625 5.09375 \r\n",
       "Q 40.234375 -1.421875 26.90625 -1.421875 \r\n",
       "Q 22.3125 -1.421875 17.546875 -0.640625 \r\n",
       "Q 12.796875 0.140625 7.71875 1.703125 \r\n",
       "L 7.71875 11.625 \r\n",
       "Q 12.109375 9.234375 16.796875 8.0625 \r\n",
       "Q 21.484375 6.890625 26.703125 6.890625 \r\n",
       "Q 35.15625 6.890625 40.078125 11.328125 \r\n",
       "Q 45.015625 15.765625 45.015625 23.390625 \r\n",
       "Q 45.015625 31 40.078125 35.4375 \r\n",
       "Q 35.15625 39.890625 26.703125 39.890625 \r\n",
       "Q 22.75 39.890625 18.8125 39.015625 \r\n",
       "Q 14.890625 38.140625 10.796875 36.28125 \r\n",
       "z\r\n",
       "\" id=\"DejaVuSans-53\"/>\r\n",
       "      </defs>\r\n",
       "      <g transform=\"translate(7.2 136.507219)scale(0.1 -0.1)\">\r\n",
       "       <use xlink:href=\"#DejaVuSans-53\"/>\r\n",
       "       <use x=\"63.623047\" xlink:href=\"#DejaVuSans-48\"/>\r\n",
       "      </g>\r\n",
       "     </g>\r\n",
       "    </g>\r\n",
       "    <g id=\"ytick_7\">\r\n",
       "     <g id=\"line2d_12\">\r\n",
       "      <g>\r\n",
       "       <use style=\"stroke:#000000;stroke-width:0.8;\" x=\"26.925\" xlink:href=\"#mdb1263d53a\" y=\"156.868\"/>\r\n",
       "      </g>\r\n",
       "     </g>\r\n",
       "     <g id=\"text_12\">\r\n",
       "      <!-- 60 -->\r\n",
       "      <g transform=\"translate(7.2 160.667219)scale(0.1 -0.1)\">\r\n",
       "       <use xlink:href=\"#DejaVuSans-54\"/>\r\n",
       "       <use x=\"63.623047\" xlink:href=\"#DejaVuSans-48\"/>\r\n",
       "      </g>\r\n",
       "     </g>\r\n",
       "    </g>\r\n",
       "    <g id=\"ytick_8\">\r\n",
       "     <g id=\"line2d_13\">\r\n",
       "      <g>\r\n",
       "       <use style=\"stroke:#000000;stroke-width:0.8;\" x=\"26.925\" xlink:href=\"#mdb1263d53a\" y=\"181.028\"/>\r\n",
       "      </g>\r\n",
       "     </g>\r\n",
       "     <g id=\"text_13\">\r\n",
       "      <!-- 70 -->\r\n",
       "      <defs>\r\n",
       "       <path d=\"M 8.203125 72.90625 \r\n",
       "L 55.078125 72.90625 \r\n",
       "L 55.078125 68.703125 \r\n",
       "L 28.609375 0 \r\n",
       "L 18.3125 0 \r\n",
       "L 43.21875 64.59375 \r\n",
       "L 8.203125 64.59375 \r\n",
       "z\r\n",
       "\" id=\"DejaVuSans-55\"/>\r\n",
       "      </defs>\r\n",
       "      <g transform=\"translate(7.2 184.827219)scale(0.1 -0.1)\">\r\n",
       "       <use xlink:href=\"#DejaVuSans-55\"/>\r\n",
       "       <use x=\"63.623047\" xlink:href=\"#DejaVuSans-48\"/>\r\n",
       "      </g>\r\n",
       "     </g>\r\n",
       "    </g>\r\n",
       "    <g id=\"ytick_9\">\r\n",
       "     <g id=\"line2d_14\">\r\n",
       "      <g>\r\n",
       "       <use style=\"stroke:#000000;stroke-width:0.8;\" x=\"26.925\" xlink:href=\"#mdb1263d53a\" y=\"205.188\"/>\r\n",
       "      </g>\r\n",
       "     </g>\r\n",
       "     <g id=\"text_14\">\r\n",
       "      <!-- 80 -->\r\n",
       "      <g transform=\"translate(7.2 208.987219)scale(0.1 -0.1)\">\r\n",
       "       <use xlink:href=\"#DejaVuSans-56\"/>\r\n",
       "       <use x=\"63.623047\" xlink:href=\"#DejaVuSans-48\"/>\r\n",
       "      </g>\r\n",
       "     </g>\r\n",
       "    </g>\r\n",
       "   </g>\r\n",
       "   <g id=\"patch_3\">\r\n",
       "    <path d=\"M 26.925 228.14 \r\n",
       "L 26.925 10.7 \r\n",
       "\" style=\"fill:none;stroke:#000000;stroke-linecap:square;stroke-linejoin:miter;stroke-width:0.8;\"/>\r\n",
       "   </g>\r\n",
       "   <g id=\"patch_4\">\r\n",
       "    <path d=\"M 244.365 228.14 \r\n",
       "L 244.365 10.7 \r\n",
       "\" style=\"fill:none;stroke:#000000;stroke-linecap:square;stroke-linejoin:miter;stroke-width:0.8;\"/>\r\n",
       "   </g>\r\n",
       "   <g id=\"patch_5\">\r\n",
       "    <path d=\"M 26.925 228.14 \r\n",
       "L 244.365 228.14 \r\n",
       "\" style=\"fill:none;stroke:#000000;stroke-linecap:square;stroke-linejoin:miter;stroke-width:0.8;\"/>\r\n",
       "   </g>\r\n",
       "   <g id=\"patch_6\">\r\n",
       "    <path d=\"M 26.925 10.7 \r\n",
       "L 244.365 10.7 \r\n",
       "\" style=\"fill:none;stroke:#000000;stroke-linecap:square;stroke-linejoin:miter;stroke-width:0.8;\"/>\r\n",
       "   </g>\r\n",
       "  </g>\r\n",
       " </g>\r\n",
       " <defs>\r\n",
       "  <clipPath id=\"p9dfb6a2ea0\">\r\n",
       "   <rect height=\"217.44\" width=\"217.44\" x=\"26.925\" y=\"10.7\"/>\r\n",
       "  </clipPath>\r\n",
       " </defs>\r\n",
       "</svg>\r\n"
      ],
      "text/plain": [
       "<Figure size 432x288 with 1 Axes>"
      ]
     },
     "metadata": {
      "needs_background": "light"
     },
     "output_type": "display_data"
    }
   ],
   "source": [
    "from skimage.io import imread\n",
    "from skimage.transform import resize\n",
    "from matplotlib import pyplot as plt\n",
    "import matplotlib.cm as cm\n",
    "\n",
    "example_file = (\"http://upload.wikimedia.org/\" +\n",
    "    \"wikipedia/commons/7/7d/Dog_face.png\")\n",
    "image = imread(example_file, as_gray=True)\n",
    "plt.imshow(image, cmap=cm.gray)\n",
    "plt.show()"
   ]
  },
  {
   "cell_type": "code",
   "execution_count": 45,
   "metadata": {},
   "outputs": [
    {
     "name": "stdout",
     "output_type": "stream",
     "text": [
      "data type: <class 'numpy.ndarray'>, shape: (90, 90)\n"
     ]
    }
   ],
   "source": [
    "print(\"data type: %s, shape: %s\" %\n",
    "      (type(image), image.shape))"
   ]
  },
  {
   "cell_type": "code",
   "execution_count": 46,
   "metadata": {},
   "outputs": [
    {
     "data": {
      "application/pdf": "[encoded data removed]",
      "image/svg+xml": [
       "<?xml version=\"1.0\" encoding=\"utf-8\" standalone=\"no\"?>\r\n",
       "<!DOCTYPE svg PUBLIC \"-//W3C//DTD SVG 1.1//EN\"\r\n",
       "  \"http://www.w3.org/Graphics/SVG/1.1/DTD/svg11.dtd\">\r\n",
       "<!-- Created with matplotlib (https://matplotlib.org/) -->\r\n",
       "<svg height=\"252.018125pt\" version=\"1.1\" viewBox=\"0 0 271.791154 252.018125\" width=\"271.791154pt\" xmlns=\"http://www.w3.org/2000/svg\" xmlns:xlink=\"http://www.w3.org/1999/xlink\">\r\n",
       " <defs>\r\n",
       "  <style type=\"text/css\">\r\n",
       "*{stroke-linecap:butt;stroke-linejoin:round;}\r\n",
       "  </style>\r\n",
       " </defs>\r\n",
       " <g id=\"figure_1\">\r\n",
       "  <g id=\"patch_1\">\r\n",
       "   <path d=\"M 0 252.018125 \r\n",
       "L 271.791154 252.018125 \r\n",
       "L 271.791154 0 \r\n",
       "L 0 0 \r\n",
       "z\r\n",
       "\" style=\"fill:none;\"/>\r\n",
       "  </g>\r\n",
       "  <g id=\"axes_1\">\r\n",
       "   <g id=\"patch_2\">\r\n",
       "    <path d=\"M 26.925 228.14 \r\n",
       "L 261.091154 228.14 \r\n",
       "L 261.091154 10.7 \r\n",
       "L 26.925 10.7 \r\n",
       "z\r\n",
       "\" style=\"fill:#ffffff;\"/>\r\n",
       "   </g>\r\n",
       "   <g clip-path=\"url(#pbe2aac0e21)\">\r\n",
       "    <image height=\"218\" id=\"imagea69f0798cb\" transform=\"scale(1 -1)translate(0 -218)\" width=\"235\" x=\"26.925\" xlink:href=\"data:image/png;base64,\r\n",
       "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\" y=\"-10.14\"/>\r\n",
       "   </g>\r\n",
       "   <g id=\"matplotlib.axis_1\">\r\n",
       "    <g id=\"xtick_1\">\r\n",
       "     <g id=\"line2d_1\">\r\n",
       "      <defs>\r\n",
       "       <path d=\"M 0 0 \r\n",
       "L 0 3.5 \r\n",
       "\" id=\"ma1193f172e\" style=\"stroke:#000000;stroke-width:0.8;\"/>\r\n",
       "      </defs>\r\n",
       "      <g>\r\n",
       "       <use style=\"stroke:#000000;stroke-width:0.8;\" x=\"28.597615\" xlink:href=\"#ma1193f172e\" y=\"228.14\"/>\r\n",
       "      </g>\r\n",
       "     </g>\r\n",
       "     <g id=\"text_1\">\r\n",
       "      <!-- 0 -->\r\n",
       "      <defs>\r\n",
       "       <path d=\"M 31.78125 66.40625 \r\n",
       "Q 24.171875 66.40625 20.328125 58.90625 \r\n",
       "Q 16.5 51.421875 16.5 36.375 \r\n",
       "Q 16.5 21.390625 20.328125 13.890625 \r\n",
       "Q 24.171875 6.390625 31.78125 6.390625 \r\n",
       "Q 39.453125 6.390625 43.28125 13.890625 \r\n",
       "Q 47.125 21.390625 47.125 36.375 \r\n",
       "Q 47.125 51.421875 43.28125 58.90625 \r\n",
       "Q 39.453125 66.40625 31.78125 66.40625 \r\n",
       "z\r\n",
       "M 31.78125 74.21875 \r\n",
       "Q 44.046875 74.21875 50.515625 64.515625 \r\n",
       "Q 56.984375 54.828125 56.984375 36.375 \r\n",
       "Q 56.984375 17.96875 50.515625 8.265625 \r\n",
       "Q 44.046875 -1.421875 31.78125 -1.421875 \r\n",
       "Q 19.53125 -1.421875 13.0625 8.265625 \r\n",
       "Q 6.59375 17.96875 6.59375 36.375 \r\n",
       "Q 6.59375 54.828125 13.0625 64.515625 \r\n",
       "Q 19.53125 74.21875 31.78125 74.21875 \r\n",
       "z\r\n",
       "\" id=\"DejaVuSans-48\"/>\r\n",
       "      </defs>\r\n",
       "      <g transform=\"translate(25.416365 242.738437)scale(0.1 -0.1)\">\r\n",
       "       <use xlink:href=\"#DejaVuSans-48\"/>\r\n",
       "      </g>\r\n",
       "     </g>\r\n",
       "    </g>\r\n",
       "    <g id=\"xtick_2\">\r\n",
       "     <g id=\"line2d_2\">\r\n",
       "      <g>\r\n",
       "       <use style=\"stroke:#000000;stroke-width:0.8;\" x=\"62.049923\" xlink:href=\"#ma1193f172e\" y=\"228.14\"/>\r\n",
       "      </g>\r\n",
       "     </g>\r\n",
       "     <g id=\"text_2\">\r\n",
       "      <!-- 10 -->\r\n",
       "      <defs>\r\n",
       "       <path d=\"M 12.40625 8.296875 \r\n",
       "L 28.515625 8.296875 \r\n",
       "L 28.515625 63.921875 \r\n",
       "L 10.984375 60.40625 \r\n",
       "L 10.984375 69.390625 \r\n",
       "L 28.421875 72.90625 \r\n",
       "L 38.28125 72.90625 \r\n",
       "L 38.28125 8.296875 \r\n",
       "L 54.390625 8.296875 \r\n",
       "L 54.390625 0 \r\n",
       "L 12.40625 0 \r\n",
       "z\r\n",
       "\" id=\"DejaVuSans-49\"/>\r\n",
       "      </defs>\r\n",
       "      <g transform=\"translate(55.687423 242.738437)scale(0.1 -0.1)\">\r\n",
       "       <use xlink:href=\"#DejaVuSans-49\"/>\r\n",
       "       <use x=\"63.623047\" xlink:href=\"#DejaVuSans-48\"/>\r\n",
       "      </g>\r\n",
       "     </g>\r\n",
       "    </g>\r\n",
       "    <g id=\"xtick_3\">\r\n",
       "     <g id=\"line2d_3\">\r\n",
       "      <g>\r\n",
       "       <use style=\"stroke:#000000;stroke-width:0.8;\" x=\"95.502231\" xlink:href=\"#ma1193f172e\" y=\"228.14\"/>\r\n",
       "      </g>\r\n",
       "     </g>\r\n",
       "     <g id=\"text_3\">\r\n",
       "      <!-- 20 -->\r\n",
       "      <defs>\r\n",
       "       <path d=\"M 19.1875 8.296875 \r\n",
       "L 53.609375 8.296875 \r\n",
       "L 53.609375 0 \r\n",
       "L 7.328125 0 \r\n",
       "L 7.328125 8.296875 \r\n",
       "Q 12.9375 14.109375 22.625 23.890625 \r\n",
       "Q 32.328125 33.6875 34.8125 36.53125 \r\n",
       "Q 39.546875 41.84375 41.421875 45.53125 \r\n",
       "Q 43.3125 49.21875 43.3125 52.78125 \r\n",
       "Q 43.3125 58.59375 39.234375 62.25 \r\n",
       "Q 35.15625 65.921875 28.609375 65.921875 \r\n",
       "Q 23.96875 65.921875 18.8125 64.3125 \r\n",
       "Q 13.671875 62.703125 7.8125 59.421875 \r\n",
       "L 7.8125 69.390625 \r\n",
       "Q 13.765625 71.78125 18.9375 73 \r\n",
       "Q 24.125 74.21875 28.421875 74.21875 \r\n",
       "Q 39.75 74.21875 46.484375 68.546875 \r\n",
       "Q 53.21875 62.890625 53.21875 53.421875 \r\n",
       "Q 53.21875 48.921875 51.53125 44.890625 \r\n",
       "Q 49.859375 40.875 45.40625 35.40625 \r\n",
       "Q 44.1875 33.984375 37.640625 27.21875 \r\n",
       "Q 31.109375 20.453125 19.1875 8.296875 \r\n",
       "z\r\n",
       "\" id=\"DejaVuSans-50\"/>\r\n",
       "      </defs>\r\n",
       "      <g transform=\"translate(89.139731 242.738437)scale(0.1 -0.1)\">\r\n",
       "       <use xlink:href=\"#DejaVuSans-50\"/>\r\n",
       "       <use x=\"63.623047\" xlink:href=\"#DejaVuSans-48\"/>\r\n",
       "      </g>\r\n",
       "     </g>\r\n",
       "    </g>\r\n",
       "    <g id=\"xtick_4\">\r\n",
       "     <g id=\"line2d_4\">\r\n",
       "      <g>\r\n",
       "       <use style=\"stroke:#000000;stroke-width:0.8;\" x=\"128.954538\" xlink:href=\"#ma1193f172e\" y=\"228.14\"/>\r\n",
       "      </g>\r\n",
       "     </g>\r\n",
       "     <g id=\"text_4\">\r\n",
       "      <!-- 30 -->\r\n",
       "      <defs>\r\n",
       "       <path d=\"M 40.578125 39.3125 \r\n",
       "Q 47.65625 37.796875 51.625 33 \r\n",
       "Q 55.609375 28.21875 55.609375 21.1875 \r\n",
       "Q 55.609375 10.40625 48.1875 4.484375 \r\n",
       "Q 40.765625 -1.421875 27.09375 -1.421875 \r\n",
       "Q 22.515625 -1.421875 17.65625 -0.515625 \r\n",
       "Q 12.796875 0.390625 7.625 2.203125 \r\n",
       "L 7.625 11.71875 \r\n",
       "Q 11.71875 9.328125 16.59375 8.109375 \r\n",
       "Q 21.484375 6.890625 26.8125 6.890625 \r\n",
       "Q 36.078125 6.890625 40.9375 10.546875 \r\n",
       "Q 45.796875 14.203125 45.796875 21.1875 \r\n",
       "Q 45.796875 27.640625 41.28125 31.265625 \r\n",
       "Q 36.765625 34.90625 28.71875 34.90625 \r\n",
       "L 20.21875 34.90625 \r\n",
       "L 20.21875 43.015625 \r\n",
       "L 29.109375 43.015625 \r\n",
       "Q 36.375 43.015625 40.234375 45.921875 \r\n",
       "Q 44.09375 48.828125 44.09375 54.296875 \r\n",
       "Q 44.09375 59.90625 40.109375 62.90625 \r\n",
       "Q 36.140625 65.921875 28.71875 65.921875 \r\n",
       "Q 24.65625 65.921875 20.015625 65.03125 \r\n",
       "Q 15.375 64.15625 9.8125 62.3125 \r\n",
       "L 9.8125 71.09375 \r\n",
       "Q 15.4375 72.65625 20.34375 73.4375 \r\n",
       "Q 25.25 74.21875 29.59375 74.21875 \r\n",
       "Q 40.828125 74.21875 47.359375 69.109375 \r\n",
       "Q 53.90625 64.015625 53.90625 55.328125 \r\n",
       "Q 53.90625 49.265625 50.4375 45.09375 \r\n",
       "Q 46.96875 40.921875 40.578125 39.3125 \r\n",
       "z\r\n",
       "\" id=\"DejaVuSans-51\"/>\r\n",
       "      </defs>\r\n",
       "      <g transform=\"translate(122.592038 242.738437)scale(0.1 -0.1)\">\r\n",
       "       <use xlink:href=\"#DejaVuSans-51\"/>\r\n",
       "       <use x=\"63.623047\" xlink:href=\"#DejaVuSans-48\"/>\r\n",
       "      </g>\r\n",
       "     </g>\r\n",
       "    </g>\r\n",
       "    <g id=\"xtick_5\">\r\n",
       "     <g id=\"line2d_5\">\r\n",
       "      <g>\r\n",
       "       <use style=\"stroke:#000000;stroke-width:0.8;\" x=\"162.406846\" xlink:href=\"#ma1193f172e\" y=\"228.14\"/>\r\n",
       "      </g>\r\n",
       "     </g>\r\n",
       "     <g id=\"text_5\">\r\n",
       "      <!-- 40 -->\r\n",
       "      <defs>\r\n",
       "       <path d=\"M 37.796875 64.3125 \r\n",
       "L 12.890625 25.390625 \r\n",
       "L 37.796875 25.390625 \r\n",
       "z\r\n",
       "M 35.203125 72.90625 \r\n",
       "L 47.609375 72.90625 \r\n",
       "L 47.609375 25.390625 \r\n",
       "L 58.015625 25.390625 \r\n",
       "L 58.015625 17.1875 \r\n",
       "L 47.609375 17.1875 \r\n",
       "L 47.609375 0 \r\n",
       "L 37.796875 0 \r\n",
       "L 37.796875 17.1875 \r\n",
       "L 4.890625 17.1875 \r\n",
       "L 4.890625 26.703125 \r\n",
       "z\r\n",
       "\" id=\"DejaVuSans-52\"/>\r\n",
       "      </defs>\r\n",
       "      <g transform=\"translate(156.044346 242.738437)scale(0.1 -0.1)\">\r\n",
       "       <use xlink:href=\"#DejaVuSans-52\"/>\r\n",
       "       <use x=\"63.623047\" xlink:href=\"#DejaVuSans-48\"/>\r\n",
       "      </g>\r\n",
       "     </g>\r\n",
       "    </g>\r\n",
       "    <g id=\"xtick_6\">\r\n",
       "     <g id=\"line2d_6\">\r\n",
       "      <g>\r\n",
       "       <use style=\"stroke:#000000;stroke-width:0.8;\" x=\"195.859154\" xlink:href=\"#ma1193f172e\" y=\"228.14\"/>\r\n",
       "      </g>\r\n",
       "     </g>\r\n",
       "     <g id=\"text_6\">\r\n",
       "      <!-- 50 -->\r\n",
       "      <defs>\r\n",
       "       <path d=\"M 10.796875 72.90625 \r\n",
       "L 49.515625 72.90625 \r\n",
       "L 49.515625 64.59375 \r\n",
       "L 19.828125 64.59375 \r\n",
       "L 19.828125 46.734375 \r\n",
       "Q 21.96875 47.46875 24.109375 47.828125 \r\n",
       "Q 26.265625 48.1875 28.421875 48.1875 \r\n",
       "Q 40.625 48.1875 47.75 41.5 \r\n",
       "Q 54.890625 34.8125 54.890625 23.390625 \r\n",
       "Q 54.890625 11.625 47.5625 5.09375 \r\n",
       "Q 40.234375 -1.421875 26.90625 -1.421875 \r\n",
       "Q 22.3125 -1.421875 17.546875 -0.640625 \r\n",
       "Q 12.796875 0.140625 7.71875 1.703125 \r\n",
       "L 7.71875 11.625 \r\n",
       "Q 12.109375 9.234375 16.796875 8.0625 \r\n",
       "Q 21.484375 6.890625 26.703125 6.890625 \r\n",
       "Q 35.15625 6.890625 40.078125 11.328125 \r\n",
       "Q 45.015625 15.765625 45.015625 23.390625 \r\n",
       "Q 45.015625 31 40.078125 35.4375 \r\n",
       "Q 35.15625 39.890625 26.703125 39.890625 \r\n",
       "Q 22.75 39.890625 18.8125 39.015625 \r\n",
       "Q 14.890625 38.140625 10.796875 36.28125 \r\n",
       "z\r\n",
       "\" id=\"DejaVuSans-53\"/>\r\n",
       "      </defs>\r\n",
       "      <g transform=\"translate(189.496654 242.738437)scale(0.1 -0.1)\">\r\n",
       "       <use xlink:href=\"#DejaVuSans-53\"/>\r\n",
       "       <use x=\"63.623047\" xlink:href=\"#DejaVuSans-48\"/>\r\n",
       "      </g>\r\n",
       "     </g>\r\n",
       "    </g>\r\n",
       "    <g id=\"xtick_7\">\r\n",
       "     <g id=\"line2d_7\">\r\n",
       "      <g>\r\n",
       "       <use style=\"stroke:#000000;stroke-width:0.8;\" x=\"229.311462\" xlink:href=\"#ma1193f172e\" y=\"228.14\"/>\r\n",
       "      </g>\r\n",
       "     </g>\r\n",
       "     <g id=\"text_7\">\r\n",
       "      <!-- 60 -->\r\n",
       "      <defs>\r\n",
       "       <path d=\"M 33.015625 40.375 \r\n",
       "Q 26.375 40.375 22.484375 35.828125 \r\n",
       "Q 18.609375 31.296875 18.609375 23.390625 \r\n",
       "Q 18.609375 15.53125 22.484375 10.953125 \r\n",
       "Q 26.375 6.390625 33.015625 6.390625 \r\n",
       "Q 39.65625 6.390625 43.53125 10.953125 \r\n",
       "Q 47.40625 15.53125 47.40625 23.390625 \r\n",
       "Q 47.40625 31.296875 43.53125 35.828125 \r\n",
       "Q 39.65625 40.375 33.015625 40.375 \r\n",
       "z\r\n",
       "M 52.59375 71.296875 \r\n",
       "L 52.59375 62.3125 \r\n",
       "Q 48.875 64.0625 45.09375 64.984375 \r\n",
       "Q 41.3125 65.921875 37.59375 65.921875 \r\n",
       "Q 27.828125 65.921875 22.671875 59.328125 \r\n",
       "Q 17.53125 52.734375 16.796875 39.40625 \r\n",
       "Q 19.671875 43.65625 24.015625 45.921875 \r\n",
       "Q 28.375 48.1875 33.59375 48.1875 \r\n",
       "Q 44.578125 48.1875 50.953125 41.515625 \r\n",
       "Q 57.328125 34.859375 57.328125 23.390625 \r\n",
       "Q 57.328125 12.15625 50.6875 5.359375 \r\n",
       "Q 44.046875 -1.421875 33.015625 -1.421875 \r\n",
       "Q 20.359375 -1.421875 13.671875 8.265625 \r\n",
       "Q 6.984375 17.96875 6.984375 36.375 \r\n",
       "Q 6.984375 53.65625 15.1875 63.9375 \r\n",
       "Q 23.390625 74.21875 37.203125 74.21875 \r\n",
       "Q 40.921875 74.21875 44.703125 73.484375 \r\n",
       "Q 48.484375 72.75 52.59375 71.296875 \r\n",
       "z\r\n",
       "\" id=\"DejaVuSans-54\"/>\r\n",
       "      </defs>\r\n",
       "      <g transform=\"translate(222.948962 242.738437)scale(0.1 -0.1)\">\r\n",
       "       <use xlink:href=\"#DejaVuSans-54\"/>\r\n",
       "       <use x=\"63.623047\" xlink:href=\"#DejaVuSans-48\"/>\r\n",
       "      </g>\r\n",
       "     </g>\r\n",
       "    </g>\r\n",
       "   </g>\r\n",
       "   <g id=\"matplotlib.axis_2\">\r\n",
       "    <g id=\"ytick_1\">\r\n",
       "     <g id=\"line2d_8\">\r\n",
       "      <defs>\r\n",
       "       <path d=\"M 0 0 \r\n",
       "L -3.5 0 \r\n",
       "\" id=\"m71c39f04b6\" style=\"stroke:#000000;stroke-width:0.8;\"/>\r\n",
       "      </defs>\r\n",
       "      <g>\r\n",
       "       <use style=\"stroke:#000000;stroke-width:0.8;\" x=\"26.925\" xlink:href=\"#m71c39f04b6\" y=\"12.372615\"/>\r\n",
       "      </g>\r\n",
       "     </g>\r\n",
       "     <g id=\"text_8\">\r\n",
       "      <!-- 0 -->\r\n",
       "      <g transform=\"translate(13.5625 16.171834)scale(0.1 -0.1)\">\r\n",
       "       <use xlink:href=\"#DejaVuSans-48\"/>\r\n",
       "      </g>\r\n",
       "     </g>\r\n",
       "    </g>\r\n",
       "    <g id=\"ytick_2\">\r\n",
       "     <g id=\"line2d_9\">\r\n",
       "      <g>\r\n",
       "       <use style=\"stroke:#000000;stroke-width:0.8;\" x=\"26.925\" xlink:href=\"#m71c39f04b6\" y=\"45.824923\"/>\r\n",
       "      </g>\r\n",
       "     </g>\r\n",
       "     <g id=\"text_9\">\r\n",
       "      <!-- 10 -->\r\n",
       "      <g transform=\"translate(7.2 49.624142)scale(0.1 -0.1)\">\r\n",
       "       <use xlink:href=\"#DejaVuSans-49\"/>\r\n",
       "       <use x=\"63.623047\" xlink:href=\"#DejaVuSans-48\"/>\r\n",
       "      </g>\r\n",
       "     </g>\r\n",
       "    </g>\r\n",
       "    <g id=\"ytick_3\">\r\n",
       "     <g id=\"line2d_10\">\r\n",
       "      <g>\r\n",
       "       <use style=\"stroke:#000000;stroke-width:0.8;\" x=\"26.925\" xlink:href=\"#m71c39f04b6\" y=\"79.277231\"/>\r\n",
       "      </g>\r\n",
       "     </g>\r\n",
       "     <g id=\"text_10\">\r\n",
       "      <!-- 20 -->\r\n",
       "      <g transform=\"translate(7.2 83.07645)scale(0.1 -0.1)\">\r\n",
       "       <use xlink:href=\"#DejaVuSans-50\"/>\r\n",
       "       <use x=\"63.623047\" xlink:href=\"#DejaVuSans-48\"/>\r\n",
       "      </g>\r\n",
       "     </g>\r\n",
       "    </g>\r\n",
       "    <g id=\"ytick_4\">\r\n",
       "     <g id=\"line2d_11\">\r\n",
       "      <g>\r\n",
       "       <use style=\"stroke:#000000;stroke-width:0.8;\" x=\"26.925\" xlink:href=\"#m71c39f04b6\" y=\"112.729538\"/>\r\n",
       "      </g>\r\n",
       "     </g>\r\n",
       "     <g id=\"text_11\">\r\n",
       "      <!-- 30 -->\r\n",
       "      <g transform=\"translate(7.2 116.528757)scale(0.1 -0.1)\">\r\n",
       "       <use xlink:href=\"#DejaVuSans-51\"/>\r\n",
       "       <use x=\"63.623047\" xlink:href=\"#DejaVuSans-48\"/>\r\n",
       "      </g>\r\n",
       "     </g>\r\n",
       "    </g>\r\n",
       "    <g id=\"ytick_5\">\r\n",
       "     <g id=\"line2d_12\">\r\n",
       "      <g>\r\n",
       "       <use style=\"stroke:#000000;stroke-width:0.8;\" x=\"26.925\" xlink:href=\"#m71c39f04b6\" y=\"146.181846\"/>\r\n",
       "      </g>\r\n",
       "     </g>\r\n",
       "     <g id=\"text_12\">\r\n",
       "      <!-- 40 -->\r\n",
       "      <g transform=\"translate(7.2 149.981065)scale(0.1 -0.1)\">\r\n",
       "       <use xlink:href=\"#DejaVuSans-52\"/>\r\n",
       "       <use x=\"63.623047\" xlink:href=\"#DejaVuSans-48\"/>\r\n",
       "      </g>\r\n",
       "     </g>\r\n",
       "    </g>\r\n",
       "    <g id=\"ytick_6\">\r\n",
       "     <g id=\"line2d_13\">\r\n",
       "      <g>\r\n",
       "       <use style=\"stroke:#000000;stroke-width:0.8;\" x=\"26.925\" xlink:href=\"#m71c39f04b6\" y=\"179.634154\"/>\r\n",
       "      </g>\r\n",
       "     </g>\r\n",
       "     <g id=\"text_13\">\r\n",
       "      <!-- 50 -->\r\n",
       "      <g transform=\"translate(7.2 183.433373)scale(0.1 -0.1)\">\r\n",
       "       <use xlink:href=\"#DejaVuSans-53\"/>\r\n",
       "       <use x=\"63.623047\" xlink:href=\"#DejaVuSans-48\"/>\r\n",
       "      </g>\r\n",
       "     </g>\r\n",
       "    </g>\r\n",
       "    <g id=\"ytick_7\">\r\n",
       "     <g id=\"line2d_14\">\r\n",
       "      <g>\r\n",
       "       <use style=\"stroke:#000000;stroke-width:0.8;\" x=\"26.925\" xlink:href=\"#m71c39f04b6\" y=\"213.086462\"/>\r\n",
       "      </g>\r\n",
       "     </g>\r\n",
       "     <g id=\"text_14\">\r\n",
       "      <!-- 60 -->\r\n",
       "      <g transform=\"translate(7.2 216.88568)scale(0.1 -0.1)\">\r\n",
       "       <use xlink:href=\"#DejaVuSans-54\"/>\r\n",
       "       <use x=\"63.623047\" xlink:href=\"#DejaVuSans-48\"/>\r\n",
       "      </g>\r\n",
       "     </g>\r\n",
       "    </g>\r\n",
       "   </g>\r\n",
       "   <g id=\"patch_3\">\r\n",
       "    <path d=\"M 26.925 228.14 \r\n",
       "L 26.925 10.7 \r\n",
       "\" style=\"fill:none;stroke:#000000;stroke-linecap:square;stroke-linejoin:miter;stroke-width:0.8;\"/>\r\n",
       "   </g>\r\n",
       "   <g id=\"patch_4\">\r\n",
       "    <path d=\"M 261.091154 228.14 \r\n",
       "L 261.091154 10.7 \r\n",
       "\" style=\"fill:none;stroke:#000000;stroke-linecap:square;stroke-linejoin:miter;stroke-width:0.8;\"/>\r\n",
       "   </g>\r\n",
       "   <g id=\"patch_5\">\r\n",
       "    <path d=\"M 26.925 228.14 \r\n",
       "L 261.091154 228.14 \r\n",
       "\" style=\"fill:none;stroke:#000000;stroke-linecap:square;stroke-linejoin:miter;stroke-width:0.8;\"/>\r\n",
       "   </g>\r\n",
       "   <g id=\"patch_6\">\r\n",
       "    <path d=\"M 26.925 10.7 \r\n",
       "L 261.091154 10.7 \r\n",
       "\" style=\"fill:none;stroke:#000000;stroke-linecap:square;stroke-linejoin:miter;stroke-width:0.8;\"/>\r\n",
       "   </g>\r\n",
       "  </g>\r\n",
       " </g>\r\n",
       " <defs>\r\n",
       "  <clipPath id=\"pbe2aac0e21\">\r\n",
       "   <rect height=\"217.44\" width=\"234.166154\" x=\"26.925\" y=\"10.7\"/>\r\n",
       "  </clipPath>\r\n",
       " </defs>\r\n",
       "</svg>\r\n"
      ],
      "text/plain": [
       "<Figure size 432x288 with 1 Axes>"
      ]
     },
     "metadata": {
      "needs_background": "light"
     },
     "output_type": "display_data"
    }
   ],
   "source": [
    "image2 = image[5:70,0:70]\n",
    "plt.imshow(image2, cmap=cm.gray)\n",
    "plt.show()"
   ]
  },
  {
   "cell_type": "code",
   "execution_count": 47,
   "metadata": {},
   "outputs": [
    {
     "name": "stderr",
     "output_type": "stream",
     "text": [
      "C:\\Users\\chelt\\Anaconda3\\lib\\site-packages\\skimage\\transform\\_warps.py:110: UserWarning: Anti-aliasing will be enabled by default in skimage 0.15 to avoid aliasing artifacts when down-sampling images.\n",
      "  warn(\"Anti-aliasing will be enabled by default in skimage 0.15 to \"\n"
     ]
    },
    {
     "name": "stdout",
     "output_type": "stream",
     "text": [
      "data type: <class 'numpy.ndarray'>, shape: (30, 30)\n"
     ]
    },
    {
     "data": {
      "application/pdf": "[encoded data removed]",
      "image/svg+xml": [
       "<?xml version=\"1.0\" encoding=\"utf-8\" standalone=\"no\"?>\r\n",
       "<!DOCTYPE svg PUBLIC \"-//W3C//DTD SVG 1.1//EN\"\r\n",
       "  \"http://www.w3.org/Graphics/SVG/1.1/DTD/svg11.dtd\">\r\n",
       "<!-- Created with matplotlib (https://matplotlib.org/) -->\r\n",
       "<svg height=\"252.018125pt\" version=\"1.1\" viewBox=\"0 0 255.065 252.018125\" width=\"255.065pt\" xmlns=\"http://www.w3.org/2000/svg\" xmlns:xlink=\"http://www.w3.org/1999/xlink\">\r\n",
       " <defs>\r\n",
       "  <style type=\"text/css\">\r\n",
       "*{stroke-linecap:butt;stroke-linejoin:round;}\r\n",
       "  </style>\r\n",
       " </defs>\r\n",
       " <g id=\"figure_1\">\r\n",
       "  <g id=\"patch_1\">\r\n",
       "   <path d=\"M 0 252.018125 \r\n",
       "L 255.065 252.018125 \r\n",
       "L 255.065 0 \r\n",
       "L 0 0 \r\n",
       "z\r\n",
       "\" style=\"fill:none;\"/>\r\n",
       "  </g>\r\n",
       "  <g id=\"axes_1\">\r\n",
       "   <g id=\"patch_2\">\r\n",
       "    <path d=\"M 26.925 228.14 \r\n",
       "L 244.365 228.14 \r\n",
       "L 244.365 10.7 \r\n",
       "L 26.925 10.7 \r\n",
       "z\r\n",
       "\" style=\"fill:#ffffff;\"/>\r\n",
       "   </g>\r\n",
       "   <g clip-path=\"url(#pb4bf9d9854)\">\r\n",
       "    <image height=\"218\" id=\"imagee9c5f3b611\" transform=\"scale(1 -1)translate(0 -218)\" width=\"218\" x=\"26.925\" xlink:href=\"data:image/png;base64,\r\n",
       "iVBORw0KGgoAAAANSUhEUgAAANoAAADaCAYAAADAHVzbAAAABHNCSVQICAgIfAhkiAAADipJREFUeJztnctvV1UXhlelRQS5tQIFQfBKCAoyVBONE2NMGOjcsQOc6MChJiaMHKphYAyJ0QSN0YoBEzUxUdGoASVcqpCCIC2FllIuXhAv31+wnv3lVNboeaZvztm/nnPe7mStvdbqef/99/+NhH/++SeTIiLi77//TrWenp5UO3bsWKr9+uuvuCbdl65dvnx5qs2ZMwfXvHr1aqqNj4+n2vnz51Pt33/Tx95cc3BwMNXmzp2L9129enWq3X333am2atWqVFu8eDGuSX/LpUuXUq23tzfV3nvvPVxz27ZtqTY8PJxqs2bNSrXWdzIwMJBq1+GVIvKfoNFECtBoIgVoNJECNJpIARpNpIDe+fPnpyKF7yMi+vr6Oi1KIfHp6enOa153Xf5/g1IVb731Fq7Z39+faps2bUo1CrVfvHgR1yT+/PPPVFu4cCFee+XKlVQ7fvx4p99D31AEpzLonVG6ZmxsDNdcsGBBqtF7oTUptRTB3647mkgBGk2kAI0mUoBGEylAo4kUoNFECtBoIgX0nj59OhV///33zjemPNGNN96Yaq0yDyq5oHKNefPmpRqVjkRE7N69O9UuX76camvWrEk1yr9FRExOTqba2bNnU41ybBGcR/vjjz9Sjd4nlbNERNxyyy2pRmUp9Ax++eUXXJO+3euvvz7V6O+kby+Cv2t3NJECNJpIARpNpACNJlKARhMpQKOJFNA7NTXV+WIKJVPHIEopUOg1gssqZs+enWoUmr3//vtxzZGRkVRbtmxZqp05cybVXn75ZVzzhRdeSLWVK1em2oEDB/C+9OzpGVG4/Pvvv8c1qbSJwvufffZZqv3111+45m+//dZpTfq+WqVNlOZwRxMpQKOJFKDRRArQaCIFaDSRAjSaSAE9L730UtqiaOnSpXgxhTOpSxF1RaIT7xERP//8M+oZdHq/1d2IukPRCfOjR4+mGp30juBOYU8++WSqLVq0CO978ODBVKN0Db3rVuetJUuWpBoNPDl16lSqtd7Z4cOHU+3ChQupNjExkWpU3RDB6SV3NJECNJpIARpNpACNJlKARhMpQKOJFNDz4Ycfdp5hfS1ozXam8GvrRHfXNal5DzXuoUELo6OjuCbNdt6/f3+qtcLeNLiEqgJokEWrIdDevXtTjao1qNkS/dYIPr1PjX0oXdNqVkXP3h1NpACNJlKARhMpQKOJFKDRRArQaCIFaDSRAnopVzaTPBrlplp5K4JyUzTom6DcUgR3P6KyFCoVohxR6740WIO6OEVwqQd17fruu+9SjUqQIvj5UskKDeRoDdagMiT6/iiv18qj0X3d0UQK0GgiBWg0kQI0mkgBGk2kAI0mUgCG92cShidapRwEhXUp9H/kyJFUa4Wn6TkMDg52+j3bt2/HNbdu3ZpqNOebukq1rqVw+rp161JteHi485r0jCiNQVoEh/dXrFiRaidPnky1VuqEvOSOJlKARhMpQKOJFKDRRArQaCIFaDSRAnqGhobS2HXrVDuF6bue/G+FUCnUjuFVuO8rr7yCa957772ptnHjxlSjTlbnz5/HNd99991Ue/bZZ1NtYGAA7/vBBx+kGqVOvvrqq1Rbu3YtrvnRRx+lWtfvpNUFa/369alG3dJ++OGHVKPuWS3c0UQK0GgiBWg0kQI0mkgBGk2kAI0mUkDPzp07Ow+5oPB+15P/reu6rtk1LRAR8fTTT3f6Pbfffnuq0dCICP69hw4dSrVWVQANpNi5c2eqXb16NdX27NmDa1LTJGpgRCmZ/v5+XPPRRx9NNXoGX375ZaqdO3cO16TBGu5oIgVoNJECNJpIARpNpACNJlKARhMpQKOJFNCza9euznk0yvVQiQ1prQ5ZlFtpldhkUI4oIuLrr79OtVdffTXVaGBCK4920003pRo995GREbzvc889l2pHjx5NtY8//jjVlixZgmtSeQkN3ejr60s16nL1/+gZU1NTqdb6Tqgsyh1NpACNJlKARhMpQKOJFKDRRArQaCIF4JCLFl1LT7799ttUoxKQCJ79vHnz5lSjQQs33HADrnnfffel2htvvJFq1OmKSjUiIqanp1ONQteUFojg4RnUWYrC3jToI4JnP1Oqh9I1rS5Yo6OjqUZDTSgl0wrvE+5oIgVoNJECNJpIARpNpACNJlKARhMpoLcVZiZoWMCnn36aat98802qtU7vUzh4aGgo1ei0PJ1aj+DQNqUGKFRMzy6COypRV6lWpyYKmZ84cSLV6G+ZnJzENbuG8OmdLVq0CNdcvXp1qtH7pudHM74jImbNmpVq7mgiBWg0kQI0mkgBGk2kAI0mUoBGEymgt+swioiIM2fOpNrhw4dTbd26danWmptNs4k3bNiQajS8gGY3R0RcuHAh1agqgE6tt0LFlDagMDKF4SO6N8Mhzp49izr9XmrsQ6ke+jsiuHKCQvj0/C5evIhrUmWJO5pIARpNpACNJlKARhMpQKOJFKDRRArQaCIF9LbKUojdu3enGuUq7rzzzlSbPXs2rkm5CsrBnTp1KtWOHTuGa1JOhkpWqFvVggULcE0qk6F810w6NdF9KYdEucSIiDlz5qQalclQt6rWQBN6Z5Q3pY5erXwhvVN3NJECNJpIARpNpACNJlKARhMpQKOJFIBDLigsG8GziSk0S7N+77rrLlyTOiPt27cv1ei3jo+P45oUMqeQLj1bKqGJ4CEOJ0+eTLVWuobSI5RSoL+TymAiIvr7+1ONulnRc2+VrFCaiNaktEAr9UTfpjuaSAEaTaQAjSZSgEYTKUCjiRSg0UQK6KUT72+++SZeTOFX6vJEYW86DR/BXZNoSAOFxFsDJ+i0N3URo2fQGi5y5MiRVKOT662uZvTOqAMUPYNWFzEK/1OVB1UFtN4ZpYmogxalgagaI4K/XXc0kQI0mkgBGk2kAI0mUoBGEylAo4kUoNFECuilzkd79+7Fiynv0jVX0ZomQ7kVmibz0EMPpdrY2BiuSfmRH3/8MdUoX9j6O+nZktYqk6FyF5oORLmwVu6ToBwclbO0yqmoTIu6nk1MTKRa69lS6Y47mkgBGk2kAI0mUoBGEylAo4kUoNFECuilsO2LL76IF7/++uupRiUFk5OTqdYaWE5dnCi8T+zYsQN16oxEIfyZDJygUhjqTkadmCIiRkdHU+3y5cupRsPrW2FvSmVQeP/WW29Ntdtuuw3XPHDgQKodP3481VrlNwSVKLmjiRSg0UQK0GgiBWg0kQI0mkgBGk2kAOyCRaenIyK2bNmSapQ2oJB4q9MQdY+iIQ3UIYtCwa37Umibwr2tkDgNVKBQe2swyapVq1KNZjRTNUYrjUHfwpo1a1Jt2bJlqbZr1y5ck9Ij9P2R1kqd0HtxRxMpQKOJFKDRRArQaCIFaDSRAjSaSAG9FIJuzVmmUCidgqbQNp0gj+BQ+549e1Lt888/T7WFCxfimjSsgqC/c+nSpXgtpV3o2baeH61Ls6ZpSAhd1/pN1Nzo4MGDqUbfXkTExo0bU216ejrV6J21GipRasUdTaQAjSZSgEYTKUCjiRSg0UQK0GgiBWg0kQIwj9YaPE5QaQTdt5WroBzSzTffnGrj4+Optn37dlzziy++SLVt27al2qFDh1KtVSazfv36VJuamkq15cuX432Hh4dTjTpLUd6KcpsRPDiCyqIo/0ZlMBFcukPfEOVUqWNX677uaCIFaDSRAjSaSAEaTaQAjSZSgEYTKYDjlQ0oTN8qY8hohW0pLE4phc2bN6fa448/jmsODQ2l2v79+1ONZju3/k4K4Y+MjKQazaGOiFi5cmWqnT59OtVobjaVnURwNysqQaKuUq1QO6UG6LulVEWrK9y5c+dSzR1NpACNJlKARhMpQKOJFKDRRArQaCIF4On9Fq0T6F2ua53e7zq8YHBwMNVa3b5ee+21VNu6dWuq7du3L9VoaERExNjYWKrdcccdqXbPPffgfambFc23pu+k9bdQyHxgYCDV6DR867ulNAd9f7QmzV6P4PSSO5pIARpNpACNJlKARhMpQKOJFKDRRAq4Zqf3rxVdqwJoAMGDDz6I1z7wwAOptnjx4lTbsGFDqn3yySe4JjWXodD/8ePH8b6UyqDUCZ2Wp3nbETx3nP6Wvr6+VGt9e12HrFCVAt2zpbujiRSg0UQK0GgiBWg0kQI0mkgBGk2kAI0mUkDPO++8c02SYZTnaHWAIqiMhtak3EmrzIO6Tj3//POpRoM1Hn74YVyT8oV031bJD0H5MMpDziSn1TV318pp0XdC5SzUJezEiRO45mOPPZZq7mgiBWg0kQI0mkgBGk2kAI0mUoBGEymg5+23374m4X0Kp5PWKoPp2gWLwr1UjhHBoWSawfzII4+kGqUMIiKeeOKJVPvpp59SrRVqp+dHJSIzeWfE3LlzU41+a6tbGg3WII2GYzz11FO45vz581PNHU2kAI0mUoBGEylAo4kUoNFECtBoIgVgeH8moWIK+XYdjtGCfi9pdJq7dS39LRT637RpE65JJ/S3bNmSajRTO4K7a9H7nDdvXqpRiD6CqyP6+/tTjZ7tpUuXcE2qYnjmmWdSjQaIzKTrmzuaSAEaTaQAjSZSgEYTKUCjiRSg0UQK6NmxY0cas7xWYfiZnPbuGmKdSUOgrjO36brW76H7UqidTpBH8BzmiYmJVKOKAboughv7rFixItXWrl2bavQMIiKuXLmSalSlQNe13hk2pMIrReQ/QaOJFKDRRArQaCIFaDSRAjSaSAEaTaQAzKPNJG/QNd/Vuq5rbmomuTuiawnNtYLKYCJ4cETXZ9vqSNX1O6E1W8/2WnybM1nTHU2kAI0mUoBGEylAo4kUoNFECtBoIgX8D41qUKl1vlumAAAAAElFTkSuQmCC\" y=\"-10.14\"/>\r\n",
       "   </g>\r\n",
       "   <g id=\"matplotlib.axis_1\">\r\n",
       "    <g id=\"xtick_1\">\r\n",
       "     <g id=\"line2d_1\">\r\n",
       "      <defs>\r\n",
       "       <path d=\"M 0 0 \r\n",
       "L 0 3.5 \r\n",
       "\" id=\"m7f67d0ea8c\" style=\"stroke:#000000;stroke-width:0.8;\"/>\r\n",
       "      </defs>\r\n",
       "      <g>\r\n",
       "       <use style=\"stroke:#000000;stroke-width:0.8;\" x=\"30.549\" xlink:href=\"#m7f67d0ea8c\" y=\"228.14\"/>\r\n",
       "      </g>\r\n",
       "     </g>\r\n",
       "     <g id=\"text_1\">\r\n",
       "      <!-- 0 -->\r\n",
       "      <defs>\r\n",
       "       <path d=\"M 31.78125 66.40625 \r\n",
       "Q 24.171875 66.40625 20.328125 58.90625 \r\n",
       "Q 16.5 51.421875 16.5 36.375 \r\n",
       "Q 16.5 21.390625 20.328125 13.890625 \r\n",
       "Q 24.171875 6.390625 31.78125 6.390625 \r\n",
       "Q 39.453125 6.390625 43.28125 13.890625 \r\n",
       "Q 47.125 21.390625 47.125 36.375 \r\n",
       "Q 47.125 51.421875 43.28125 58.90625 \r\n",
       "Q 39.453125 66.40625 31.78125 66.40625 \r\n",
       "z\r\n",
       "M 31.78125 74.21875 \r\n",
       "Q 44.046875 74.21875 50.515625 64.515625 \r\n",
       "Q 56.984375 54.828125 56.984375 36.375 \r\n",
       "Q 56.984375 17.96875 50.515625 8.265625 \r\n",
       "Q 44.046875 -1.421875 31.78125 -1.421875 \r\n",
       "Q 19.53125 -1.421875 13.0625 8.265625 \r\n",
       "Q 6.59375 17.96875 6.59375 36.375 \r\n",
       "Q 6.59375 54.828125 13.0625 64.515625 \r\n",
       "Q 19.53125 74.21875 31.78125 74.21875 \r\n",
       "z\r\n",
       "\" id=\"DejaVuSans-48\"/>\r\n",
       "      </defs>\r\n",
       "      <g transform=\"translate(27.36775 242.738437)scale(0.1 -0.1)\">\r\n",
       "       <use xlink:href=\"#DejaVuSans-48\"/>\r\n",
       "      </g>\r\n",
       "     </g>\r\n",
       "    </g>\r\n",
       "    <g id=\"xtick_2\">\r\n",
       "     <g id=\"line2d_2\">\r\n",
       "      <g>\r\n",
       "       <use style=\"stroke:#000000;stroke-width:0.8;\" x=\"66.789\" xlink:href=\"#m7f67d0ea8c\" y=\"228.14\"/>\r\n",
       "      </g>\r\n",
       "     </g>\r\n",
       "     <g id=\"text_2\">\r\n",
       "      <!-- 5 -->\r\n",
       "      <defs>\r\n",
       "       <path d=\"M 10.796875 72.90625 \r\n",
       "L 49.515625 72.90625 \r\n",
       "L 49.515625 64.59375 \r\n",
       "L 19.828125 64.59375 \r\n",
       "L 19.828125 46.734375 \r\n",
       "Q 21.96875 47.46875 24.109375 47.828125 \r\n",
       "Q 26.265625 48.1875 28.421875 48.1875 \r\n",
       "Q 40.625 48.1875 47.75 41.5 \r\n",
       "Q 54.890625 34.8125 54.890625 23.390625 \r\n",
       "Q 54.890625 11.625 47.5625 5.09375 \r\n",
       "Q 40.234375 -1.421875 26.90625 -1.421875 \r\n",
       "Q 22.3125 -1.421875 17.546875 -0.640625 \r\n",
       "Q 12.796875 0.140625 7.71875 1.703125 \r\n",
       "L 7.71875 11.625 \r\n",
       "Q 12.109375 9.234375 16.796875 8.0625 \r\n",
       "Q 21.484375 6.890625 26.703125 6.890625 \r\n",
       "Q 35.15625 6.890625 40.078125 11.328125 \r\n",
       "Q 45.015625 15.765625 45.015625 23.390625 \r\n",
       "Q 45.015625 31 40.078125 35.4375 \r\n",
       "Q 35.15625 39.890625 26.703125 39.890625 \r\n",
       "Q 22.75 39.890625 18.8125 39.015625 \r\n",
       "Q 14.890625 38.140625 10.796875 36.28125 \r\n",
       "z\r\n",
       "\" id=\"DejaVuSans-53\"/>\r\n",
       "      </defs>\r\n",
       "      <g transform=\"translate(63.60775 242.738437)scale(0.1 -0.1)\">\r\n",
       "       <use xlink:href=\"#DejaVuSans-53\"/>\r\n",
       "      </g>\r\n",
       "     </g>\r\n",
       "    </g>\r\n",
       "    <g id=\"xtick_3\">\r\n",
       "     <g id=\"line2d_3\">\r\n",
       "      <g>\r\n",
       "       <use style=\"stroke:#000000;stroke-width:0.8;\" x=\"103.029\" xlink:href=\"#m7f67d0ea8c\" y=\"228.14\"/>\r\n",
       "      </g>\r\n",
       "     </g>\r\n",
       "     <g id=\"text_3\">\r\n",
       "      <!-- 10 -->\r\n",
       "      <defs>\r\n",
       "       <path d=\"M 12.40625 8.296875 \r\n",
       "L 28.515625 8.296875 \r\n",
       "L 28.515625 63.921875 \r\n",
       "L 10.984375 60.40625 \r\n",
       "L 10.984375 69.390625 \r\n",
       "L 28.421875 72.90625 \r\n",
       "L 38.28125 72.90625 \r\n",
       "L 38.28125 8.296875 \r\n",
       "L 54.390625 8.296875 \r\n",
       "L 54.390625 0 \r\n",
       "L 12.40625 0 \r\n",
       "z\r\n",
       "\" id=\"DejaVuSans-49\"/>\r\n",
       "      </defs>\r\n",
       "      <g transform=\"translate(96.6665 242.738437)scale(0.1 -0.1)\">\r\n",
       "       <use xlink:href=\"#DejaVuSans-49\"/>\r\n",
       "       <use x=\"63.623047\" xlink:href=\"#DejaVuSans-48\"/>\r\n",
       "      </g>\r\n",
       "     </g>\r\n",
       "    </g>\r\n",
       "    <g id=\"xtick_4\">\r\n",
       "     <g id=\"line2d_4\">\r\n",
       "      <g>\r\n",
       "       <use style=\"stroke:#000000;stroke-width:0.8;\" x=\"139.269\" xlink:href=\"#m7f67d0ea8c\" y=\"228.14\"/>\r\n",
       "      </g>\r\n",
       "     </g>\r\n",
       "     <g id=\"text_4\">\r\n",
       "      <!-- 15 -->\r\n",
       "      <g transform=\"translate(132.9065 242.738437)scale(0.1 -0.1)\">\r\n",
       "       <use xlink:href=\"#DejaVuSans-49\"/>\r\n",
       "       <use x=\"63.623047\" xlink:href=\"#DejaVuSans-53\"/>\r\n",
       "      </g>\r\n",
       "     </g>\r\n",
       "    </g>\r\n",
       "    <g id=\"xtick_5\">\r\n",
       "     <g id=\"line2d_5\">\r\n",
       "      <g>\r\n",
       "       <use style=\"stroke:#000000;stroke-width:0.8;\" x=\"175.509\" xlink:href=\"#m7f67d0ea8c\" y=\"228.14\"/>\r\n",
       "      </g>\r\n",
       "     </g>\r\n",
       "     <g id=\"text_5\">\r\n",
       "      <!-- 20 -->\r\n",
       "      <defs>\r\n",
       "       <path d=\"M 19.1875 8.296875 \r\n",
       "L 53.609375 8.296875 \r\n",
       "L 53.609375 0 \r\n",
       "L 7.328125 0 \r\n",
       "L 7.328125 8.296875 \r\n",
       "Q 12.9375 14.109375 22.625 23.890625 \r\n",
       "Q 32.328125 33.6875 34.8125 36.53125 \r\n",
       "Q 39.546875 41.84375 41.421875 45.53125 \r\n",
       "Q 43.3125 49.21875 43.3125 52.78125 \r\n",
       "Q 43.3125 58.59375 39.234375 62.25 \r\n",
       "Q 35.15625 65.921875 28.609375 65.921875 \r\n",
       "Q 23.96875 65.921875 18.8125 64.3125 \r\n",
       "Q 13.671875 62.703125 7.8125 59.421875 \r\n",
       "L 7.8125 69.390625 \r\n",
       "Q 13.765625 71.78125 18.9375 73 \r\n",
       "Q 24.125 74.21875 28.421875 74.21875 \r\n",
       "Q 39.75 74.21875 46.484375 68.546875 \r\n",
       "Q 53.21875 62.890625 53.21875 53.421875 \r\n",
       "Q 53.21875 48.921875 51.53125 44.890625 \r\n",
       "Q 49.859375 40.875 45.40625 35.40625 \r\n",
       "Q 44.1875 33.984375 37.640625 27.21875 \r\n",
       "Q 31.109375 20.453125 19.1875 8.296875 \r\n",
       "z\r\n",
       "\" id=\"DejaVuSans-50\"/>\r\n",
       "      </defs>\r\n",
       "      <g transform=\"translate(169.1465 242.738437)scale(0.1 -0.1)\">\r\n",
       "       <use xlink:href=\"#DejaVuSans-50\"/>\r\n",
       "       <use x=\"63.623047\" xlink:href=\"#DejaVuSans-48\"/>\r\n",
       "      </g>\r\n",
       "     </g>\r\n",
       "    </g>\r\n",
       "    <g id=\"xtick_6\">\r\n",
       "     <g id=\"line2d_6\">\r\n",
       "      <g>\r\n",
       "       <use style=\"stroke:#000000;stroke-width:0.8;\" x=\"211.749\" xlink:href=\"#m7f67d0ea8c\" y=\"228.14\"/>\r\n",
       "      </g>\r\n",
       "     </g>\r\n",
       "     <g id=\"text_6\">\r\n",
       "      <!-- 25 -->\r\n",
       "      <g transform=\"translate(205.3865 242.738437)scale(0.1 -0.1)\">\r\n",
       "       <use xlink:href=\"#DejaVuSans-50\"/>\r\n",
       "       <use x=\"63.623047\" xlink:href=\"#DejaVuSans-53\"/>\r\n",
       "      </g>\r\n",
       "     </g>\r\n",
       "    </g>\r\n",
       "   </g>\r\n",
       "   <g id=\"matplotlib.axis_2\">\r\n",
       "    <g id=\"ytick_1\">\r\n",
       "     <g id=\"line2d_7\">\r\n",
       "      <defs>\r\n",
       "       <path d=\"M 0 0 \r\n",
       "L -3.5 0 \r\n",
       "\" id=\"m2424846eda\" style=\"stroke:#000000;stroke-width:0.8;\"/>\r\n",
       "      </defs>\r\n",
       "      <g>\r\n",
       "       <use style=\"stroke:#000000;stroke-width:0.8;\" x=\"26.925\" xlink:href=\"#m2424846eda\" y=\"14.324\"/>\r\n",
       "      </g>\r\n",
       "     </g>\r\n",
       "     <g id=\"text_7\">\r\n",
       "      <!-- 0 -->\r\n",
       "      <g transform=\"translate(13.5625 18.123219)scale(0.1 -0.1)\">\r\n",
       "       <use xlink:href=\"#DejaVuSans-48\"/>\r\n",
       "      </g>\r\n",
       "     </g>\r\n",
       "    </g>\r\n",
       "    <g id=\"ytick_2\">\r\n",
       "     <g id=\"line2d_8\">\r\n",
       "      <g>\r\n",
       "       <use style=\"stroke:#000000;stroke-width:0.8;\" x=\"26.925\" xlink:href=\"#m2424846eda\" y=\"50.564\"/>\r\n",
       "      </g>\r\n",
       "     </g>\r\n",
       "     <g id=\"text_8\">\r\n",
       "      <!-- 5 -->\r\n",
       "      <g transform=\"translate(13.5625 54.363219)scale(0.1 -0.1)\">\r\n",
       "       <use xlink:href=\"#DejaVuSans-53\"/>\r\n",
       "      </g>\r\n",
       "     </g>\r\n",
       "    </g>\r\n",
       "    <g id=\"ytick_3\">\r\n",
       "     <g id=\"line2d_9\">\r\n",
       "      <g>\r\n",
       "       <use style=\"stroke:#000000;stroke-width:0.8;\" x=\"26.925\" xlink:href=\"#m2424846eda\" y=\"86.804\"/>\r\n",
       "      </g>\r\n",
       "     </g>\r\n",
       "     <g id=\"text_9\">\r\n",
       "      <!-- 10 -->\r\n",
       "      <g transform=\"translate(7.2 90.603219)scale(0.1 -0.1)\">\r\n",
       "       <use xlink:href=\"#DejaVuSans-49\"/>\r\n",
       "       <use x=\"63.623047\" xlink:href=\"#DejaVuSans-48\"/>\r\n",
       "      </g>\r\n",
       "     </g>\r\n",
       "    </g>\r\n",
       "    <g id=\"ytick_4\">\r\n",
       "     <g id=\"line2d_10\">\r\n",
       "      <g>\r\n",
       "       <use style=\"stroke:#000000;stroke-width:0.8;\" x=\"26.925\" xlink:href=\"#m2424846eda\" y=\"123.044\"/>\r\n",
       "      </g>\r\n",
       "     </g>\r\n",
       "     <g id=\"text_10\">\r\n",
       "      <!-- 15 -->\r\n",
       "      <g transform=\"translate(7.2 126.843219)scale(0.1 -0.1)\">\r\n",
       "       <use xlink:href=\"#DejaVuSans-49\"/>\r\n",
       "       <use x=\"63.623047\" xlink:href=\"#DejaVuSans-53\"/>\r\n",
       "      </g>\r\n",
       "     </g>\r\n",
       "    </g>\r\n",
       "    <g id=\"ytick_5\">\r\n",
       "     <g id=\"line2d_11\">\r\n",
       "      <g>\r\n",
       "       <use style=\"stroke:#000000;stroke-width:0.8;\" x=\"26.925\" xlink:href=\"#m2424846eda\" y=\"159.284\"/>\r\n",
       "      </g>\r\n",
       "     </g>\r\n",
       "     <g id=\"text_11\">\r\n",
       "      <!-- 20 -->\r\n",
       "      <g transform=\"translate(7.2 163.083219)scale(0.1 -0.1)\">\r\n",
       "       <use xlink:href=\"#DejaVuSans-50\"/>\r\n",
       "       <use x=\"63.623047\" xlink:href=\"#DejaVuSans-48\"/>\r\n",
       "      </g>\r\n",
       "     </g>\r\n",
       "    </g>\r\n",
       "    <g id=\"ytick_6\">\r\n",
       "     <g id=\"line2d_12\">\r\n",
       "      <g>\r\n",
       "       <use style=\"stroke:#000000;stroke-width:0.8;\" x=\"26.925\" xlink:href=\"#m2424846eda\" y=\"195.524\"/>\r\n",
       "      </g>\r\n",
       "     </g>\r\n",
       "     <g id=\"text_12\">\r\n",
       "      <!-- 25 -->\r\n",
       "      <g transform=\"translate(7.2 199.323219)scale(0.1 -0.1)\">\r\n",
       "       <use xlink:href=\"#DejaVuSans-50\"/>\r\n",
       "       <use x=\"63.623047\" xlink:href=\"#DejaVuSans-53\"/>\r\n",
       "      </g>\r\n",
       "     </g>\r\n",
       "    </g>\r\n",
       "   </g>\r\n",
       "   <g id=\"patch_3\">\r\n",
       "    <path d=\"M 26.925 228.14 \r\n",
       "L 26.925 10.7 \r\n",
       "\" style=\"fill:none;stroke:#000000;stroke-linecap:square;stroke-linejoin:miter;stroke-width:0.8;\"/>\r\n",
       "   </g>\r\n",
       "   <g id=\"patch_4\">\r\n",
       "    <path d=\"M 244.365 228.14 \r\n",
       "L 244.365 10.7 \r\n",
       "\" style=\"fill:none;stroke:#000000;stroke-linecap:square;stroke-linejoin:miter;stroke-width:0.8;\"/>\r\n",
       "   </g>\r\n",
       "   <g id=\"patch_5\">\r\n",
       "    <path d=\"M 26.925 228.14 \r\n",
       "L 244.365 228.14 \r\n",
       "\" style=\"fill:none;stroke:#000000;stroke-linecap:square;stroke-linejoin:miter;stroke-width:0.8;\"/>\r\n",
       "   </g>\r\n",
       "   <g id=\"patch_6\">\r\n",
       "    <path d=\"M 26.925 10.7 \r\n",
       "L 244.365 10.7 \r\n",
       "\" style=\"fill:none;stroke:#000000;stroke-linecap:square;stroke-linejoin:miter;stroke-width:0.8;\"/>\r\n",
       "   </g>\r\n",
       "  </g>\r\n",
       " </g>\r\n",
       " <defs>\r\n",
       "  <clipPath id=\"pb4bf9d9854\">\r\n",
       "   <rect height=\"217.44\" width=\"217.44\" x=\"26.925\" y=\"10.7\"/>\r\n",
       "  </clipPath>\r\n",
       " </defs>\r\n",
       "</svg>\r\n"
      ],
      "text/plain": [
       "<Figure size 432x288 with 1 Axes>"
      ]
     },
     "metadata": {
      "needs_background": "light"
     },
     "output_type": "display_data"
    }
   ],
   "source": [
    "image3 = resize(image2, (30, 30), mode='symmetric')\n",
    "plt.imshow(image3, cmap=cm.gray)\n",
    "print(\"data type: %s, shape: %s\" %\n",
    "      (type(image3), image3.shape))"
   ]
  },
  {
   "cell_type": "code",
   "execution_count": 48,
   "metadata": {},
   "outputs": [
    {
     "name": "stdout",
     "output_type": "stream",
     "text": [
      "data type: <class 'numpy.ndarray'>, shape: (900,)\n"
     ]
    }
   ],
   "source": [
    "image_row = image3.flatten()\n",
    "print(\"data type: %s, shape: %s\" %\n",
    "      (type(image_row), image_row.shape))"
   ]
  },
  {
   "cell_type": "code",
   "execution_count": 49,
   "metadata": {},
   "outputs": [],
   "source": [
    "from sqlalchemy import create_engine\n",
    "engine = create_engine('sqlite:///:memory:')"
   ]
  },
  {
   "cell_type": "code",
   "execution_count": 50,
   "metadata": {},
   "outputs": [
    {
     "name": "stdout",
     "output_type": "stream",
     "text": [
      "  Number  String Boolean\n",
      "0      1   First    True\n",
      "1      2  Second   False\n",
      "2      3   Third    True\n",
      "3      4  Fourth   False\n"
     ]
    }
   ],
   "source": [
    "from lxml import objectify\n",
    "import pandas as pd\n",
    "\n",
    "xml = objectify.parse(open('XMLData.xml'))\n",
    "root = xml.getroot()\n",
    "\n",
    "df = pd.DataFrame(columns=('Number', 'String', 'Boolean'))\n",
    "\n",
    "for i in range(0,4):\n",
    "    obj = root.getchildren()[i].getchildren()\n",
    "    row = dict(zip(['Number', 'String', 'Boolean'],\n",
    "                   [obj[0].text, obj[1].text,\n",
    "                    obj[2].text]))\n",
    "    row_s = pd.Series(row)\n",
    "    row_s.name = i\n",
    "    df = df.append(row_s)\n",
    "\n",
    "print(df)"
   ]
  },
  {
   "cell_type": "code",
   "execution_count": 3,
   "metadata": {},
   "outputs": [
    {
     "data": {
      "text/plain": [
       "5.0"
      ]
     },
     "execution_count": 3,
     "metadata": {},
     "output_type": "execute_result"
    }
   ],
   "source": [
    "math.sqrt(25)"
   ]
  },
  {
   "cell_type": "code",
   "execution_count": 4,
   "metadata": {},
   "outputs": [
    {
     "data": {
      "text/plain": [
       "3.141592653589793"
      ]
     },
     "execution_count": 4,
     "metadata": {},
     "output_type": "execute_result"
    }
   ],
   "source": [
    "math.pi"
   ]
  },
  {
   "cell_type": "code",
   "execution_count": 5,
   "metadata": {},
   "outputs": [],
   "source": [
    "import math as mt"
   ]
  },
  {
   "cell_type": "code",
   "execution_count": 6,
   "metadata": {},
   "outputs": [
    {
     "data": {
      "text/plain": [
       "5.0"
      ]
     },
     "execution_count": 6,
     "metadata": {},
     "output_type": "execute_result"
    }
   ],
   "source": [
    "mt.sqrt(25)"
   ]
  },
  {
   "cell_type": "code",
   "execution_count": 7,
   "metadata": {},
   "outputs": [],
   "source": [
    "from numpy import random"
   ]
  },
  {
   "cell_type": "code",
   "execution_count": 8,
   "metadata": {},
   "outputs": [],
   "source": [
    "import numpy as np"
   ]
  },
  {
   "cell_type": "code",
   "execution_count": 10,
   "metadata": {},
   "outputs": [],
   "source": [
    "# uniform random numbers in [0,1]\n",
    "dataOne = random.rand(5,5)"
   ]
  },
  {
   "cell_type": "code",
   "execution_count": 11,
   "metadata": {},
   "outputs": [
    {
     "data": {
      "text/plain": [
       "0.5056014295006845"
      ]
     },
     "execution_count": 11,
     "metadata": {},
     "output_type": "execute_result"
    }
   ],
   "source": [
    "np.mean(dataOne)"
   ]
  },
  {
   "cell_type": "code",
   "execution_count": 12,
   "metadata": {},
   "outputs": [
    {
     "data": {
      "text/plain": [
       "array([[0.0092265 , 0.46232033, 0.92244165, 0.51260084, 0.25524402],\n",
       "       [0.60245569, 0.7977489 , 0.3657262 , 0.46781695, 0.49557507],\n",
       "       [0.64436909, 0.99680007, 0.57428871, 0.31774214, 0.09298268],\n",
       "       [0.56104433, 0.45069662, 0.56317536, 0.76688094, 0.7286884 ],\n",
       "       [0.29225147, 0.64765081, 0.17012304, 0.76552589, 0.17666003]])"
      ]
     },
     "execution_count": 12,
     "metadata": {},
     "output_type": "execute_result"
    }
   ],
   "source": [
    "(dataOne)"
   ]
  },
  {
   "cell_type": "code",
   "execution_count": 13,
   "metadata": {},
   "outputs": [
    {
     "ename": "NameError",
     "evalue": "name 'functionName' is not defined",
     "output_type": "error",
     "traceback": [
      "\u001b[1;31m---------------------------------------------------------------------------\u001b[0m",
      "\u001b[1;31mNameError\u001b[0m                                 Traceback (most recent call last)",
      "\u001b[1;32m<ipython-input-13-8425399e9e42>\u001b[0m in \u001b[0;36m<module>\u001b[1;34m\u001b[0m\n\u001b[1;32m----> 1\u001b[1;33m \u001b[0mfunctionName\u001b[0m\u001b[1;33m(\u001b[0m\u001b[1;33m)\u001b[0m\u001b[1;33m\u001b[0m\u001b[1;33m\u001b[0m\u001b[0m\n\u001b[0m",
      "\u001b[1;31mNameError\u001b[0m: name 'functionName' is not defined"
     ]
    }
   ],
   "source": [
    "functionName()"
   ]
  },
  {
   "cell_type": "code",
   "execution_count": 14,
   "metadata": {},
   "outputs": [
    {
     "name": "stdout",
     "output_type": "stream",
     "text": [
      "I Love data Science\n"
     ]
    }
   ],
   "source": [
    "print('I Love data Science')"
   ]
  },
  {
   "cell_type": "code",
   "execution_count": 15,
   "metadata": {},
   "outputs": [],
   "source": [
    "variableName = 25"
   ]
  },
  {
   "cell_type": "code",
   "execution_count": 16,
   "metadata": {},
   "outputs": [],
   "source": [
    "variableName1 = 'I Love data Science'"
   ]
  },
  {
   "cell_type": "code",
   "execution_count": 17,
   "metadata": {},
   "outputs": [
    {
     "name": "stdout",
     "output_type": "stream",
     "text": [
      "I Love data Science\n"
     ]
    }
   ],
   "source": [
    "print(variableName1)"
   ]
  },
  {
   "cell_type": "code",
   "execution_count": 18,
   "metadata": {},
   "outputs": [],
   "source": [
    "variableName = 25\n",
    "\n"
   ]
  },
  {
   "cell_type": "code",
   "execution_count": 19,
   "metadata": {},
   "outputs": [
    {
     "data": {
      "text/plain": [
       "int"
      ]
     },
     "execution_count": 19,
     "metadata": {},
     "output_type": "execute_result"
    }
   ],
   "source": [
    "type(variableName)"
   ]
  },
  {
   "cell_type": "code",
   "execution_count": 20,
   "metadata": {},
   "outputs": [],
   "source": [
    "variableName = 25.0"
   ]
  },
  {
   "cell_type": "code",
   "execution_count": 21,
   "metadata": {},
   "outputs": [
    {
     "data": {
      "text/plain": [
       "float"
      ]
     },
     "execution_count": 21,
     "metadata": {},
     "output_type": "execute_result"
    }
   ],
   "source": [
    "type(variableName)"
   ]
  },
  {
   "cell_type": "code",
   "execution_count": 22,
   "metadata": {},
   "outputs": [],
   "source": [
    "varOne = 25"
   ]
  },
  {
   "cell_type": "code",
   "execution_count": 23,
   "metadata": {},
   "outputs": [],
   "source": [
    "varTwo = 25.0"
   ]
  },
  {
   "cell_type": "code",
   "execution_count": 24,
   "metadata": {},
   "outputs": [],
   "source": [
    "varThree = varOne + varTwo"
   ]
  },
  {
   "cell_type": "code",
   "execution_count": 25,
   "metadata": {},
   "outputs": [
    {
     "name": "stdout",
     "output_type": "stream",
     "text": [
      "50.0\n"
     ]
    }
   ],
   "source": [
    "print(varThree)"
   ]
  },
  {
   "cell_type": "code",
   "execution_count": 26,
   "metadata": {},
   "outputs": [],
   "source": [
    "varOne = 25"
   ]
  },
  {
   "cell_type": "code",
   "execution_count": 27,
   "metadata": {},
   "outputs": [],
   "source": [
    "varTwo = 'Hello'"
   ]
  },
  {
   "cell_type": "code",
   "execution_count": 28,
   "metadata": {},
   "outputs": [
    {
     "ename": "TypeError",
     "evalue": "unsupported operand type(s) for +: 'int' and 'str'",
     "output_type": "error",
     "traceback": [
      "\u001b[1;31m---------------------------------------------------------------------------\u001b[0m",
      "\u001b[1;31mTypeError\u001b[0m                                 Traceback (most recent call last)",
      "\u001b[1;32m<ipython-input-28-edb8857dd22f>\u001b[0m in \u001b[0;36m<module>\u001b[1;34m\u001b[0m\n\u001b[1;32m----> 1\u001b[1;33m \u001b[0mvarThree\u001b[0m \u001b[1;33m=\u001b[0m \u001b[0mvarOne\u001b[0m \u001b[1;33m+\u001b[0m \u001b[0mvarTwo\u001b[0m\u001b[1;33m\u001b[0m\u001b[1;33m\u001b[0m\u001b[0m\n\u001b[0m",
      "\u001b[1;31mTypeError\u001b[0m: unsupported operand type(s) for +: 'int' and 'str'"
     ]
    }
   ],
   "source": [
    "varThree = varOne + varTwo"
   ]
  },
  {
   "cell_type": "markdown",
   "metadata": {},
   "source": [
    "We can correct this by telling python to read 25 as a string"
   ]
  },
  {
   "cell_type": "code",
   "execution_count": 1,
   "metadata": {},
   "outputs": [],
   "source": [
    "varOne = '25'"
   ]
  },
  {
   "cell_type": "code",
   "execution_count": 2,
   "metadata": {},
   "outputs": [],
   "source": [
    "varTwo = 'Hello'"
   ]
  },
  {
   "cell_type": "code",
   "execution_count": 3,
   "metadata": {},
   "outputs": [],
   "source": [
    "varThree = varOne + varTwo"
   ]
  },
  {
   "cell_type": "code",
   "execution_count": 4,
   "metadata": {},
   "outputs": [
    {
     "name": "stdout",
     "output_type": "stream",
     "text": [
      "25Hello\n"
     ]
    }
   ],
   "source": [
    "print(varThree)"
   ]
  },
  {
   "cell_type": "code",
   "execution_count": 30,
   "metadata": {},
   "outputs": [],
   "source": [
    "listName = [ ]"
   ]
  },
  {
   "cell_type": "code",
   "execution_count": 31,
   "metadata": {},
   "outputs": [],
   "source": [
    "listOne = [1,2,3,4]"
   ]
  },
  {
   "cell_type": "code",
   "execution_count": 32,
   "metadata": {},
   "outputs": [
    {
     "name": "stdout",
     "output_type": "stream",
     "text": [
      "[2, 3]\n"
     ]
    }
   ],
   "source": [
    "print(listOne[1:3])"
   ]
  },
  {
   "cell_type": "code",
   "execution_count": 33,
   "metadata": {},
   "outputs": [],
   "source": [
    "tel = {'jack': 4098, 'sape': 4139}"
   ]
  },
  {
   "cell_type": "code",
   "execution_count": 34,
   "metadata": {},
   "outputs": [
    {
     "data": {
      "text/plain": [
       "4098"
      ]
     },
     "execution_count": 34,
     "metadata": {},
     "output_type": "execute_result"
    }
   ],
   "source": [
    "tel['jack']"
   ]
  },
  {
   "cell_type": "markdown",
   "metadata": {},
   "source": [
    "Import a previous file we worked with"
   ]
  },
  {
   "cell_type": "code",
   "execution_count": 30,
   "metadata": {},
   "outputs": [],
   "source": [
    "import pandas as pd"
   ]
  },
  {
   "cell_type": "code",
   "execution_count": 31,
   "metadata": {},
   "outputs": [
    {
     "name": "stdout",
     "output_type": "stream",
     "text": [
      "c:\\users\\chelt\\desktop\\upwork\\R Tutorial Data Sets\\task 3\n"
     ]
    }
   ],
   "source": [
    "%cd c:\\\\users\\chelt\\desktop\\upwork\\R Tutorial Data Sets\\task 3\\"
   ]
  },
  {
   "cell_type": "code",
   "execution_count": 32,
   "metadata": {},
   "outputs": [],
   "source": [
    "sample = pd.read_csv('existingproductattributes2017.csv', header =1)"
   ]
  },
  {
   "cell_type": "markdown",
   "metadata": {},
   "source": [
    "This is not as straightforward as R where I would see a new dataframe created"
   ]
  },
  {
   "cell_type": "markdown",
   "metadata": {},
   "source": [
    "Overall, yes pretty straightforward to install and use python/jupyter, will just take some getting used to.\n",
    "\n",
    "The tutorial was very useful so yes definitely recommend.\n",
    "\n",
    "I learned that Python can be just as powerful and as easy to use as R, it will just take some getting used to \n",
    "the new environment."
   ]
  },
  {
   "cell_type": "code",
   "execution_count": null,
   "metadata": {},
   "outputs": [],
   "source": []
  }
 ],
 "metadata": {
  "celltoolbar": "Raw Cell Format",
  "kernelspec": {
   "display_name": "Python 3",
   "language": "python",
   "name": "python3"
  },
  "language_info": {
   "codemirror_mode": {
    "name": "ipython",
    "version": 3
   },
   "file_extension": ".py",
   "mimetype": "text/x-python",
   "name": "python",
   "nbconvert_exporter": "python",
   "pygments_lexer": "ipython3",
   "version": "3.7.3"
  }
 },
 "nbformat": 4,
 "nbformat_minor": 2
}
